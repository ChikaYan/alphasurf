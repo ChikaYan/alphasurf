{
 "cells": [
  {
   "cell_type": "code",
   "execution_count": 1,
   "metadata": {},
   "outputs": [],
   "source": [
    "import sympy\n",
    "from sympy import *\n",
    "import numpy as np"
   ]
  },
  {
   "cell_type": "code",
   "execution_count": 3,
   "metadata": {},
   "outputs": [
    {
     "data": {
      "text/plain": [
       "array([[ 30,  36,  42, -13]])"
      ]
     },
     "execution_count": 3,
     "metadata": {},
     "output_type": "execute_result"
    }
   ],
   "source": [
    "point = np.array([[1,2,3,1]])\n",
    "\n",
    "c2w = np.array([[1,2,3,-1],\n",
    "                [4,5,6,-2],\n",
    "                [7,8,9,-3],\n",
    "                [0,0,0,1]])\n",
    "\n",
    "point @ c2w"
   ]
  },
  {
   "cell_type": "code",
   "execution_count": 4,
   "metadata": {},
   "outputs": [
    {
     "data": {
      "text/plain": [
       "array([[13],\n",
       "       [30],\n",
       "       [47],\n",
       "       [ 1]])"
      ]
     },
     "execution_count": 4,
     "metadata": {},
     "output_type": "execute_result"
    }
   ],
   "source": [
    "c2w @ point.T"
   ]
  },
  {
   "cell_type": "code",
   "execution_count": 9,
   "metadata": {},
   "outputs": [
    {
     "data": {
      "text/latex": [
       "$\\displaystyle - \\frac{1.0 \\alpha d e^{- \\frac{0.5 d^{2}}{std^{2}}}}{std^{2}}$"
      ],
      "text/plain": [
       "-1.0*alpha*d*exp(-0.5*d**2/std**2)/std**2"
      ]
     },
     "execution_count": 9,
     "metadata": {},
     "output_type": "execute_result"
    }
   ],
   "source": [
    "alpha, dist, std, rw2 = symbols('alpha d std rw2')\n",
    "\n",
    "rwalpha = alpha * exp(-1/2 * (dist/std)**2) # * rw2\n",
    "\n",
    "\n",
    "\n",
    "diff(rwalpha, dist)\n"
   ]
  },
  {
   "cell_type": "code",
   "execution_count": 10,
   "metadata": {},
   "outputs": [
    {
     "data": {
      "text/latex": [
       "$\\displaystyle - \\frac{1.0 \\alpha d rw_{2} e^{- \\frac{0.5 d^{2}}{std^{2}}}}{std^{2}}$"
      ],
      "text/plain": [
       "-1.0*alpha*d*rw2*exp(-0.5*d**2/std**2)/std**2"
      ]
     },
     "execution_count": 10,
     "metadata": {},
     "output_type": "execute_result"
    }
   ],
   "source": [
    "alpha, dist, std, rw2 = symbols('alpha d std rw2')\n",
    "\n",
    "rwalpha = alpha * exp(-1/2 * (dist/std)**2)  * rw2\n",
    "\n",
    "\n",
    "\n",
    "diff(rwalpha, dist)\n"
   ]
  },
  {
   "cell_type": "code",
   "execution_count": null,
   "metadata": {},
   "outputs": [],
   "source": []
  },
  {
   "cell_type": "code",
   "execution_count": 6,
   "metadata": {},
   "outputs": [
    {
     "data": {
      "text/latex": [
       "$\\displaystyle - \\log{\\left(w_{1} \\right)} - 1$"
      ],
      "text/plain": [
       "-log(w1) - 1"
      ]
     },
     "execution_count": 6,
     "metadata": {},
     "output_type": "execute_result"
    }
   ],
   "source": [
    "w0, w1, w2, w3, w4 = symbols(\"w0 w1 w2 w3 w4\")\n",
    "s0, s1, s2, s3, s4 = symbols(\"s0 s1 s2 s3 s4\")\n",
    "w_sum = symbols(\"w_sum\")\n",
    "\n",
    "w_sum = w0+w1+w2+w3+w4\n",
    "nw0, nw1, nw2, nw3, nw4 = w0/w_sum, w1/w_sum, w2/w_sum, w3/w_sum, w4/w_sum\n",
    "nw0, nw1, nw2, nw3, nw4 = w0, w1, w2, w3, w4\n",
    "\n",
    "H = -nw0*log(nw0) -nw1*log(nw1) -nw2*log(nw2) -nw3*log(nw3) -nw4*log(nw4)\n",
    "diff(H, w1)\n",
    "\n",
    "# mean_d = nw0 * s0 + nw1 * s1 + nw2 * s2 + nw3 * s3 + nw4 * s4\n",
    "# L_sd = mean_d - s1\n",
    "# diff(L_sd, s0)"
   ]
  },
  {
   "cell_type": "code",
   "execution_count": 16,
   "metadata": {},
   "outputs": [
    {
     "data": {
      "text/latex": [
       "$\\displaystyle \\frac{s_{0} w_{0}}{w_{0} + w_{1} + w_{2} + w_{3} + w_{4}} + \\frac{s_{1} w_{1}}{w_{0} + w_{1} + w_{2} + w_{3} + w_{4}} + \\frac{s_{2} w_{2}}{w_{0} + w_{1} + w_{2} + w_{3} + w_{4}} + \\frac{s_{3} w_{3}}{w_{0} + w_{1} + w_{2} + w_{3} + w_{4}} + \\frac{s_{4} w_{4}}{w_{0} + w_{1} + w_{2} + w_{3} + w_{4}}$"
      ],
      "text/plain": [
       "s0*w0/(w0 + w1 + w2 + w3 + w4) + s1*w1/(w0 + w1 + w2 + w3 + w4) + s2*w2/(w0 + w1 + w2 + w3 + w4) + s3*w3/(w0 + w1 + w2 + w3 + w4) + s4*w4/(w0 + w1 + w2 + w3 + w4)"
      ]
     },
     "execution_count": 16,
     "metadata": {},
     "output_type": "execute_result"
    }
   ],
   "source": [
    "mean_d"
   ]
  },
  {
   "cell_type": "code",
   "execution_count": 3,
   "metadata": {},
   "outputs": [
    {
     "data": {
      "text/latex": [
       "$\\displaystyle 0$"
      ],
      "text/plain": [
       "0"
      ]
     },
     "execution_count": 3,
     "metadata": {},
     "output_type": "execute_result"
    }
   ],
   "source": [
    "sigma = symbols('sigma')\n",
    "alpha = symbols('alpha')\n",
    "\n",
    "# alpha = 1-exp(-sigma)\n",
    "\n",
    "diff(alpha, sigma)\n",
    "# diff(log(-log(1-alpha)), alpha)"
   ]
  },
  {
   "cell_type": "code",
   "execution_count": 4,
   "metadata": {},
   "outputs": [
    {
     "data": {
      "text/latex": [
       "$\\displaystyle - \\frac{1}{\\left(1 - \\alpha\\right) \\log{\\left(1 - \\alpha \\right)}}$"
      ],
      "text/plain": [
       "-1/((1 - alpha)*log(1 - alpha))"
      ]
     },
     "execution_count": 4,
     "metadata": {},
     "output_type": "execute_result"
    }
   ],
   "source": [
    "# sigma = -log(1-alpha)\n",
    "\n",
    "diff(log(-log(1-alpha)), alpha)"
   ]
  },
  {
   "cell_type": "code",
   "execution_count": 9,
   "metadata": {},
   "outputs": [
    {
     "data": {
      "text/latex": [
       "$\\displaystyle - \\log{\\left(e^{- \\sigma} \\right)}$"
      ],
      "text/plain": [
       "-log(exp(-sigma))"
      ]
     },
     "execution_count": 9,
     "metadata": {},
     "output_type": "execute_result"
    }
   ],
   "source": [
    "simplify(-log(1-alpha))"
   ]
  },
  {
   "cell_type": "code",
   "execution_count": 3,
   "metadata": {},
   "outputs": [
    {
     "data": {
      "text/latex": [
       "$\\displaystyle \\frac{1}{\\sigma}$"
      ],
      "text/plain": [
       "1/sigma"
      ]
     },
     "execution_count": 3,
     "metadata": {},
     "output_type": "execute_result"
    }
   ],
   "source": []
  },
  {
   "cell_type": "code",
   "execution_count": 20,
   "metadata": {},
   "outputs": [
    {
     "name": "stdout",
     "output_type": "stream",
     "text": [
      "x*(y*(s110*(1 - z) + s111*z) + (1 - y)*(s100*(1 - z) + s101*z)) + (1 - x)*(y*(s010*(1 - z) + s011*z) + (1 - y)*(s000*(1 - z) + s001*z))\n"
     ]
    },
    {
     "data": {
      "text/latex": [
       "$\\displaystyle x \\left(y \\left(s_{110} \\cdot \\left(1 - z\\right) + s_{111} z\\right) + \\left(1 - y\\right) \\left(s_{100} \\cdot \\left(1 - z\\right) + s_{101} z\\right)\\right) + \\left(1 - x\\right) \\left(y \\left(s_{010} \\cdot \\left(1 - z\\right) + s_{011} z\\right) + \\left(1 - y\\right) \\left(s_{000} \\cdot \\left(1 - z\\right) + s_{001} z\\right)\\right)$"
      ],
      "text/plain": [
       "x*(y*(s110*(1 - z) + s111*z) + (1 - y)*(s100*(1 - z) + s101*z)) + (1 - x)*(y*(s010*(1 - z) + s011*z) + (1 - y)*(s000*(1 - z) + s001*z))"
      ]
     },
     "execution_count": 20,
     "metadata": {},
     "output_type": "execute_result"
    }
   ],
   "source": [
    "# s000, s001, s010, s011, s100, s101, s110, s111, \\\n",
    "#     = symbols('s000 s001 s010 s011 s100 s101 s110 s111')\n",
    "s000, s001, s010, s011, s100, s101, s110, s111, \\\n",
    "    = symbols('s000 s001 s010 s011 s100 s101 s110 s111')\n",
    "\n",
    "x,y,z = symbols('x y z')\n",
    "c00, c01, c10, c11, c0, c1 = symbols('c00 c01 c10 c11 c0 c1')\n",
    "\n",
    "# x = 0\n",
    "\n",
    "c00 = s000 * (1-z) + s001 * z\n",
    "c01 = s010 * (1-z) + s011 * z\n",
    "c10 = s100 * (1-z) + s101 * z\n",
    "c11 = s110 * (1-z) + s111 * z\n",
    "c0 = c00 * (1-y) + c01 * y\n",
    "c1 = c10 * (1-y) + c11 * y\n",
    "s = c0 * (1-x) + c1 * x\n",
    "\n",
    "ex = s\n",
    "print(ex)\n",
    "ex"
   ]
  },
  {
   "cell_type": "code",
   "execution_count": 21,
   "metadata": {},
   "outputs": [
    {
     "data": {
      "text/latex": [
       "$\\displaystyle s_{000} \\cdot \\left(1 - z\\right) + s_{001} z - s_{010} \\cdot \\left(1 - z\\right) - s_{011} z - s_{100} \\cdot \\left(1 - z\\right) - s_{101} z + s_{110} \\cdot \\left(1 - z\\right) + s_{111} z$"
      ],
      "text/plain": [
       "s000*(1 - z) + s001*z - s010*(1 - z) - s011*z - s100*(1 - z) - s101*z + s110*(1 - z) + s111*z"
      ]
     },
     "execution_count": 21,
     "metadata": {},
     "output_type": "execute_result"
    }
   ],
   "source": [
    "s000, s001, s010, s011, s100, s101, s110, s111, \\\n",
    "    s002, s012, s102, s112, \\\n",
    "    s020, s021, s120, s121, \\\n",
    "    s200, s201, s210, s211 = symbols('s000 s001 s010 s011 s100 s101 s110 s111 s002 s012 s102 s112 s020 s021 s120 s121 s200 s201 s210 s211')\n",
    "\n",
    "\n",
    "x, y, z, nx, ny, nz = symbols('x y z nx ny nz')\n",
    "\n",
    "def lerp(a, b, w):\n",
    "    return (1-w) * a + w * b\n",
    "\n",
    "# miu = symbols('miu')\n",
    "miu = (s000 + s001 + s010 + s011 + s100 + s101 + s110 + s111) / 8\n",
    "\n",
    "N = sqrt(((s000-miu)**2 + (s001-miu)**2 + (s010-miu)**2 + (s011-miu)**2 + (s100-miu)**2 + (s101-miu)**2 + (s110-miu)**2 + (s111-miu)**2) / 8)\n",
    "\n",
    "\n",
    "ix0y0 = lerp(s000, s001, z)\n",
    "ix0y1 = lerp(s010, s011, z)\n",
    "ix1y0 = lerp(s100, s101, z)\n",
    "ix1y1 = lerp(s110, s111, z)\n",
    "ix1 = lerp(ix1y0, ix1y1, y)\n",
    "ix0 = lerp(ix0y0, ix0y1, y)\n",
    "s = lerp(ix0, ix1, x)\n",
    "\n",
    "diff(diff(s, x), y)\n"
   ]
  },
  {
   "cell_type": "code",
   "execution_count": 22,
   "metadata": {},
   "outputs": [
    {
     "data": {
      "text/latex": [
       "$\\displaystyle - y \\left(s_{010} \\cdot \\left(1 - z\\right) + s_{011} z\\right) + y \\left(s_{110} \\cdot \\left(1 - z\\right) + s_{111} z\\right) - \\left(1 - y\\right) \\left(s_{000} \\cdot \\left(1 - z\\right) + s_{001} z\\right) + \\left(1 - y\\right) \\left(s_{100} \\cdot \\left(1 - z\\right) + s_{101} z\\right)$"
      ],
      "text/plain": [
       "-y*(s010*(1 - z) + s011*z) + y*(s110*(1 - z) + s111*z) - (1 - y)*(s000*(1 - z) + s001*z) + (1 - y)*(s100*(1 - z) + s101*z)"
      ]
     },
     "execution_count": 22,
     "metadata": {},
     "output_type": "execute_result"
    }
   ],
   "source": [
    "diff(s, x)"
   ]
  },
  {
   "cell_type": "code",
   "execution_count": 7,
   "metadata": {},
   "outputs": [
    {
     "data": {
      "text/latex": [
       "$\\displaystyle \\frac{0.5 gsz pts}{r} + gsz \\left(- \\frac{0.5 c}{r} + 0.5\\right)$"
      ],
      "text/plain": [
       "0.5*gsz*pts/r + gsz*(-0.5*c/r + 0.5)"
      ]
     },
     "execution_count": 7,
     "metadata": {},
     "output_type": "execute_result"
    }
   ],
   "source": [
    "gsz, r, c, pts, off, scale = symbols('gsz r c pts off scale')\n",
    "\n",
    "off = 0.5 * (1 - c / r)\n",
    "scale = 0.5 / r\n",
    "\n",
    "grid_pts = off * gsz + pts * scale * gsz\n",
    "grid_pts"
   ]
  },
  {
   "cell_type": "code",
   "execution_count": 9,
   "metadata": {},
   "outputs": [
    {
     "data": {
      "text/latex": [
       "$\\displaystyle pts$"
      ],
      "text/plain": [
       "pts"
      ]
     },
     "execution_count": 9,
     "metadata": {},
     "output_type": "execute_result"
    }
   ],
   "source": [
    "simplify(r * (1 / gsz - 1) + c + grid_pts * 2 * r / gsz)"
   ]
  },
  {
   "cell_type": "code",
   "execution_count": 5,
   "metadata": {},
   "outputs": [
    {
     "data": {
      "text/latex": [
       "$\\displaystyle - 1.0 c + pts + 1.0 r - \\frac{1.0 r}{gsz}$"
      ],
      "text/plain": [
       "-1.0*c + pts + 1.0*r - 1.0*r/gsz"
      ]
     },
     "execution_count": 5,
     "metadata": {},
     "output_type": "execute_result"
    }
   ],
   "source": [
    "simplify(grid_pts * 2 * r / gsz)"
   ]
  },
  {
   "cell_type": "code",
   "execution_count": 6,
   "metadata": {},
   "outputs": [
    {
     "data": {
      "text/latex": [
       "$\\displaystyle c + r \\left(-1 + \\frac{1}{gsz}\\right)$"
      ],
      "text/plain": [
       "c + r*(-1 + 1/gsz)"
      ]
     },
     "execution_count": 6,
     "metadata": {},
     "output_type": "execute_result"
    }
   ],
   "source": [
    "r * (1 / gsz - 1) + c"
   ]
  },
  {
   "cell_type": "code",
   "execution_count": 4,
   "metadata": {},
   "outputs": [
    {
     "data": {
      "text/latex": [
       "$\\displaystyle \\frac{e^{- a}}{\\left(1 + e^{- a}\\right)^{2}}$"
      ],
      "text/plain": [
       "exp(-a)/(1 + exp(-a))**2"
      ]
     },
     "execution_count": 4,
     "metadata": {},
     "output_type": "execute_result"
    }
   ],
   "source": [
    "diff(1 / (1+exp(-a)), a)"
   ]
  },
  {
   "cell_type": "code",
   "execution_count": 8,
   "metadata": {},
   "outputs": [
    {
     "name": "stdout",
     "output_type": "stream",
     "text": [
      "-fs[0]/(2*fs[3]**2) + fs[1]*fs[2]/(3*fs[3]**3) - fs[2]**3/(9*fs[3]**4)\n"
     ]
    },
    {
     "data": {
      "text/latex": [
       "$\\displaystyle - \\frac{fs[0]}{2 fs[3]^{2}} + \\frac{fs[1] fs[2]}{3 fs[3]^{3}} - \\frac{fs[2]^{3}}{9 fs[3]^{4}}$"
      ],
      "text/plain": [
       "-fs[0]/(2*fs[3]**2) + fs[1]*fs[2]/(3*fs[3]**3) - fs[2]**3/(9*fs[3]**4)"
      ]
     },
     "execution_count": 8,
     "metadata": {},
     "output_type": "execute_result"
    }
   ],
   "source": [
    "f0, f1, f2, f3 = symbols('fs[0] fs[1] fs[2] fs[3]')\n",
    "a, b, c, d, theta = symbols('a b c d theta')\n",
    "Q, R, A, B = symbols('Q R A B')\n",
    "\n",
    "a = f3 / f3\n",
    "b = f2 / f3\n",
    "c = f1 / f3\n",
    "d = f0 / f3\n",
    "\n",
    "Q = ((b)**2 - 3*c) / 9\n",
    "R = (2*(b**3) - 9*b*c + 27*d) /54\n",
    "\n",
    "# theta = acos(R / sqrt((Q**3)))\n",
    "\n",
    "outs0 = -2 * sqrt(Q) * cos(theta/3) - b/3\n",
    "outs1 = -2 * sqrt(Q) * cos((theta - 2*pi)/3) - b/3\n",
    "outs2 = -2 * sqrt(Q) * cos((theta + 2*pi)/3) - b/3\n",
    "\n",
    "exp = diff(R, f3)\n",
    "print(exp)\n",
    "exp"
   ]
  },
  {
   "cell_type": "code",
   "execution_count": null,
   "metadata": {},
   "outputs": [],
   "source": [
    "f0, f1, f2, f3 = symbols('fs[0] fs[1] fs[2] fs[3]')\n",
    "a, b, c, d, theta = symbols('a b c d theta')\n",
    "Q, R, A, B = symbols('Q R A B')\n",
    "\n",
    "a = f3 / f3\n",
    "b = f2 / f3\n",
    "c = f1 / f3\n",
    "d = f0 / f3\n",
    "\n",
    "Q = ((b)**2 - 3*c) / 9\n",
    "R = (2*(b**3) - 9*b*c + 27*d) /54\n",
    "\n",
    "# theta = acos(R / sqrt((Q**3)))\n",
    "\n",
    "outs0 = -2 * sqrt(Q) * cos(theta/3) - b/3\n",
    "outs1 = -2 * sqrt(Q) * cos((theta - 2*pi)/3) - b/3\n",
    "outs2 = -2 * sqrt(Q) * cos((theta + 2*pi)/3) - b/3\n",
    "\n",
    "exp = diff(R, f3)\n",
    "print(exp)\n",
    "exp"
   ]
  },
  {
   "cell_type": "code",
   "execution_count": 22,
   "metadata": {},
   "outputs": [
    {
     "data": {
      "text/latex": [
       "$\\displaystyle 0.217706106038147$"
      ],
      "text/plain": [
       "0.217706106038147"
      ]
     },
     "execution_count": 22,
     "metadata": {},
     "output_type": "execute_result"
    }
   ],
   "source": [
    "f0, f1, f2, f3 = symbols('fs[0] fs[1] fs[2] fs[3]')\n",
    "a, b, c, d, theta = symbols('a b c d theta')\n",
    "Q, R, A, B = symbols('Q R A B')\n",
    "\n",
    "a = f3 / f3\n",
    "b = f2 / f3\n",
    "c = f1 / f3\n",
    "d = f0 / f3\n",
    "\n",
    "Q = ((b)**2 - 3*c) / 9\n",
    "R = (2*(b**3) - 9*b*c + 27*d) /54\n",
    "\n",
    "theta = acos(R / sqrt((Q**3)))\n",
    "\n",
    "outs0 = -2 * sqrt(Q) * cos(theta/3) - b/3\n",
    "outs1 = -2 * sqrt(Q) * cos((theta - 2*pi)/3) - b/3\n",
    "outs2 = -2 * sqrt(Q) * cos((theta + 2*pi)/3) - b/3\n",
    "\n",
    "\n",
    "diff(outs1, f0).subs({\n",
    "    f0:-2.0556304454803467,\n",
    "    f1: 1.1644233465194702,\n",
    "    f2: 2.4124226570129395,\n",
    "    f3: 1.0257683413783525e-07,\n",
    "}).evalf()"
   ]
  },
  {
   "cell_type": "code",
   "execution_count": 18,
   "metadata": {},
   "outputs": [
    {
     "name": "stdout",
     "output_type": "stream",
     "text": [
      "-2*sqrt(R)*sin(theta/3 + pi/3)/3\n"
     ]
    },
    {
     "data": {
      "text/latex": [
       "$\\displaystyle - \\frac{2 \\sqrt{R} \\sin{\\left(\\frac{\\theta}{3} + \\frac{\\pi}{3} \\right)}}{3}$"
      ],
      "text/plain": [
       "-2*sqrt(R)*sin(theta/3 + pi/3)/3"
      ]
     },
     "execution_count": 18,
     "metadata": {},
     "output_type": "execute_result"
    }
   ],
   "source": [
    "exp = diff(outs1, theta)\n",
    "print(exp)\n",
    "exp"
   ]
  },
  {
   "cell_type": "code",
   "execution_count": null,
   "metadata": {},
   "outputs": [],
   "source": []
  },
  {
   "cell_type": "code",
   "execution_count": 17,
   "metadata": {},
   "outputs": [
    {
     "data": {
      "text/latex": [
       "$\\displaystyle 3 s_{000}^{2} - 2 s_{000} s_{001} - 2 s_{000} s_{010} - 2 s_{000} s_{100} + s_{001}^{2} + s_{010}^{2} + s_{100}^{2} + x^{2} \\cdot \\left(2 s_{000}^{2} - 2 s_{000} s_{001} - 2 s_{000} s_{010} - 4 s_{000} s_{100} + 2 s_{000} s_{101} + 2 s_{000} s_{110} + s_{001}^{2} + 2 s_{001} s_{100} - 2 s_{001} s_{101} + s_{010}^{2} + 2 s_{010} s_{100} - 2 s_{010} s_{110} + 2 s_{100}^{2} - 2 s_{100} s_{101} - 2 s_{100} s_{110} + s_{101}^{2} + s_{110}^{2} + y^{2} \\left(s_{000}^{2} - 2 s_{000} s_{001} - 2 s_{000} s_{010} + 2 s_{000} s_{011} - 2 s_{000} s_{100} + 2 s_{000} s_{101} + 2 s_{000} s_{110} - 2 s_{000} s_{111} + s_{001}^{2} + 2 s_{001} s_{010} - 2 s_{001} s_{011} + 2 s_{001} s_{100} - 2 s_{001} s_{101} - 2 s_{001} s_{110} + 2 s_{001} s_{111} + s_{010}^{2} - 2 s_{010} s_{011} + 2 s_{010} s_{100} - 2 s_{010} s_{101} - 2 s_{010} s_{110} + 2 s_{010} s_{111} + s_{011}^{2} - 2 s_{011} s_{100} + 2 s_{011} s_{101} + 2 s_{011} s_{110} - 2 s_{011} s_{111} + s_{100}^{2} - 2 s_{100} s_{101} - 2 s_{100} s_{110} + 2 s_{100} s_{111} + s_{101}^{2} + 2 s_{101} s_{110} - 2 s_{101} s_{111} + s_{110}^{2} - 2 s_{110} s_{111} + s_{111}^{2}\\right) + y \\left(- 2 s_{000}^{2} + 4 s_{000} s_{001} + 2 s_{000} s_{010} - 2 s_{000} s_{011} + 4 s_{000} s_{100} - 4 s_{000} s_{101} - 2 s_{000} s_{110} + 2 s_{000} s_{111} - 2 s_{001}^{2} - 2 s_{001} s_{010} + 2 s_{001} s_{011} - 4 s_{001} s_{100} + 4 s_{001} s_{101} + 2 s_{001} s_{110} - 2 s_{001} s_{111} - 2 s_{010} s_{100} + 2 s_{010} s_{101} + 2 s_{011} s_{100} - 2 s_{011} s_{101} - 2 s_{100}^{2} + 4 s_{100} s_{101} + 2 s_{100} s_{110} - 2 s_{100} s_{111} - 2 s_{101}^{2} - 2 s_{101} s_{110} + 2 s_{101} s_{111}\\right) + z^{2} \\left(s_{000}^{2} - 2 s_{000} s_{001} - 2 s_{000} s_{010} + 2 s_{000} s_{011} - 2 s_{000} s_{100} + 2 s_{000} s_{101} + 2 s_{000} s_{110} - 2 s_{000} s_{111} + s_{001}^{2} + 2 s_{001} s_{010} - 2 s_{001} s_{011} + 2 s_{001} s_{100} - 2 s_{001} s_{101} - 2 s_{001} s_{110} + 2 s_{001} s_{111} + s_{010}^{2} - 2 s_{010} s_{011} + 2 s_{010} s_{100} - 2 s_{010} s_{101} - 2 s_{010} s_{110} + 2 s_{010} s_{111} + s_{011}^{2} - 2 s_{011} s_{100} + 2 s_{011} s_{101} + 2 s_{011} s_{110} - 2 s_{011} s_{111} + s_{100}^{2} - 2 s_{100} s_{101} - 2 s_{100} s_{110} + 2 s_{100} s_{111} + s_{101}^{2} + 2 s_{101} s_{110} - 2 s_{101} s_{111} + s_{110}^{2} - 2 s_{110} s_{111} + s_{111}^{2}\\right) + z \\left(- 2 s_{000}^{2} + 2 s_{000} s_{001} + 4 s_{000} s_{010} - 2 s_{000} s_{011} + 4 s_{000} s_{100} - 2 s_{000} s_{101} - 4 s_{000} s_{110} + 2 s_{000} s_{111} - 2 s_{001} s_{010} - 2 s_{001} s_{100} + 2 s_{001} s_{110} - 2 s_{010}^{2} + 2 s_{010} s_{011} - 4 s_{010} s_{100} + 2 s_{010} s_{101} + 4 s_{010} s_{110} - 2 s_{010} s_{111} + 2 s_{011} s_{100} - 2 s_{011} s_{110} - 2 s_{100}^{2} + 2 s_{100} s_{101} + 4 s_{100} s_{110} - 2 s_{100} s_{111} - 2 s_{101} s_{110} - 2 s_{110}^{2} + 2 s_{110} s_{111}\\right)\\right) + x \\left(- 4 s_{000}^{2} + 4 s_{000} s_{001} + 4 s_{000} s_{010} + 4 s_{000} s_{100} - 2 s_{000} s_{101} - 2 s_{000} s_{110} - 2 s_{001}^{2} - 2 s_{001} s_{100} + 2 s_{001} s_{101} - 2 s_{010}^{2} - 2 s_{010} s_{100} + 2 s_{010} s_{110} + y^{2} \\left(- 2 s_{000}^{2} + 4 s_{000} s_{001} + 4 s_{000} s_{010} - 4 s_{000} s_{011} + 2 s_{000} s_{100} - 2 s_{000} s_{101} - 2 s_{000} s_{110} + 2 s_{000} s_{111} - 2 s_{001}^{2} - 4 s_{001} s_{010} + 4 s_{001} s_{011} - 2 s_{001} s_{100} + 2 s_{001} s_{101} + 2 s_{001} s_{110} - 2 s_{001} s_{111} - 2 s_{010}^{2} + 4 s_{010} s_{011} - 2 s_{010} s_{100} + 2 s_{010} s_{101} + 2 s_{010} s_{110} - 2 s_{010} s_{111} - 2 s_{011}^{2} + 2 s_{011} s_{100} - 2 s_{011} s_{101} - 2 s_{011} s_{110} + 2 s_{011} s_{111}\\right) + y \\left(4 s_{000}^{2} - 8 s_{000} s_{001} - 4 s_{000} s_{010} + 4 s_{000} s_{011} - 4 s_{000} s_{100} + 4 s_{000} s_{101} + 2 s_{000} s_{110} - 2 s_{000} s_{111} + 4 s_{001}^{2} + 4 s_{001} s_{010} - 4 s_{001} s_{011} + 4 s_{001} s_{100} - 4 s_{001} s_{101} - 2 s_{001} s_{110} + 2 s_{001} s_{111} + 2 s_{010} s_{100} - 2 s_{010} s_{101} - 2 s_{011} s_{100} + 2 s_{011} s_{101}\\right) + z^{2} \\left(- 2 s_{000}^{2} + 4 s_{000} s_{001} + 4 s_{000} s_{010} - 4 s_{000} s_{011} + 2 s_{000} s_{100} - 2 s_{000} s_{101} - 2 s_{000} s_{110} + 2 s_{000} s_{111} - 2 s_{001}^{2} - 4 s_{001} s_{010} + 4 s_{001} s_{011} - 2 s_{001} s_{100} + 2 s_{001} s_{101} + 2 s_{001} s_{110} - 2 s_{001} s_{111} - 2 s_{010}^{2} + 4 s_{010} s_{011} - 2 s_{010} s_{100} + 2 s_{010} s_{101} + 2 s_{010} s_{110} - 2 s_{010} s_{111} - 2 s_{011}^{2} + 2 s_{011} s_{100} - 2 s_{011} s_{101} - 2 s_{011} s_{110} + 2 s_{011} s_{111}\\right) + z \\left(4 s_{000}^{2} - 4 s_{000} s_{001} - 8 s_{000} s_{010} + 4 s_{000} s_{011} - 4 s_{000} s_{100} + 2 s_{000} s_{101} + 4 s_{000} s_{110} - 2 s_{000} s_{111} + 4 s_{001} s_{010} + 2 s_{001} s_{100} - 2 s_{001} s_{110} + 4 s_{010}^{2} - 4 s_{010} s_{011} + 4 s_{010} s_{100} - 2 s_{010} s_{101} - 4 s_{010} s_{110} + 2 s_{010} s_{111} - 2 s_{011} s_{100} + 2 s_{011} s_{110}\\right)\\right) + y^{2} \\cdot \\left(2 s_{000}^{2} - 2 s_{000} s_{001} - 4 s_{000} s_{010} + 2 s_{000} s_{011} - 2 s_{000} s_{100} + 2 s_{000} s_{110} + s_{001}^{2} + 2 s_{001} s_{010} - 2 s_{001} s_{011} + 2 s_{010}^{2} - 2 s_{010} s_{011} + 2 s_{010} s_{100} - 2 s_{010} s_{110} + s_{011}^{2} + s_{100}^{2} - 2 s_{100} s_{110} + s_{110}^{2} + z^{2} \\left(s_{000}^{2} - 2 s_{000} s_{001} - 2 s_{000} s_{010} + 2 s_{000} s_{011} - 2 s_{000} s_{100} + 2 s_{000} s_{101} + 2 s_{000} s_{110} - 2 s_{000} s_{111} + s_{001}^{2} + 2 s_{001} s_{010} - 2 s_{001} s_{011} + 2 s_{001} s_{100} - 2 s_{001} s_{101} - 2 s_{001} s_{110} + 2 s_{001} s_{111} + s_{010}^{2} - 2 s_{010} s_{011} + 2 s_{010} s_{100} - 2 s_{010} s_{101} - 2 s_{010} s_{110} + 2 s_{010} s_{111} + s_{011}^{2} - 2 s_{011} s_{100} + 2 s_{011} s_{101} + 2 s_{011} s_{110} - 2 s_{011} s_{111} + s_{100}^{2} - 2 s_{100} s_{101} - 2 s_{100} s_{110} + 2 s_{100} s_{111} + s_{101}^{2} + 2 s_{101} s_{110} - 2 s_{101} s_{111} + s_{110}^{2} - 2 s_{110} s_{111} + s_{111}^{2}\\right) + z \\left(- 2 s_{000}^{2} + 2 s_{000} s_{001} + 4 s_{000} s_{010} - 2 s_{000} s_{011} + 4 s_{000} s_{100} - 2 s_{000} s_{101} - 4 s_{000} s_{110} + 2 s_{000} s_{111} - 2 s_{001} s_{010} - 2 s_{001} s_{100} + 2 s_{001} s_{110} - 2 s_{010}^{2} + 2 s_{010} s_{011} - 4 s_{010} s_{100} + 2 s_{010} s_{101} + 4 s_{010} s_{110} - 2 s_{010} s_{111} + 2 s_{011} s_{100} - 2 s_{011} s_{110} - 2 s_{100}^{2} + 2 s_{100} s_{101} + 4 s_{100} s_{110} - 2 s_{100} s_{111} - 2 s_{101} s_{110} - 2 s_{110}^{2} + 2 s_{110} s_{111}\\right)\\right) + y \\left(- 4 s_{000}^{2} + 4 s_{000} s_{001} + 4 s_{000} s_{010} - 2 s_{000} s_{011} + 4 s_{000} s_{100} - 2 s_{000} s_{110} - 2 s_{001}^{2} - 2 s_{001} s_{010} + 2 s_{001} s_{011} - 2 s_{010} s_{100} - 2 s_{100}^{2} + 2 s_{100} s_{110} + z^{2} \\left(- 2 s_{000}^{2} + 4 s_{000} s_{001} + 2 s_{000} s_{010} - 2 s_{000} s_{011} + 4 s_{000} s_{100} - 4 s_{000} s_{101} - 2 s_{000} s_{110} + 2 s_{000} s_{111} - 2 s_{001}^{2} - 2 s_{001} s_{010} + 2 s_{001} s_{011} - 4 s_{001} s_{100} + 4 s_{001} s_{101} + 2 s_{001} s_{110} - 2 s_{001} s_{111} - 2 s_{010} s_{100} + 2 s_{010} s_{101} + 2 s_{011} s_{100} - 2 s_{011} s_{101} - 2 s_{100}^{2} + 4 s_{100} s_{101} + 2 s_{100} s_{110} - 2 s_{100} s_{111} - 2 s_{101}^{2} - 2 s_{101} s_{110} + 2 s_{101} s_{111}\\right) + z \\left(4 s_{000}^{2} - 4 s_{000} s_{001} - 4 s_{000} s_{010} + 2 s_{000} s_{011} - 8 s_{000} s_{100} + 4 s_{000} s_{101} + 4 s_{000} s_{110} - 2 s_{000} s_{111} + 2 s_{001} s_{010} + 4 s_{001} s_{100} - 2 s_{001} s_{110} + 4 s_{010} s_{100} - 2 s_{010} s_{101} - 2 s_{011} s_{100} + 4 s_{100}^{2} - 4 s_{100} s_{101} - 4 s_{100} s_{110} + 2 s_{100} s_{111} + 2 s_{101} s_{110}\\right)\\right) + z^{2} \\cdot \\left(2 s_{000}^{2} - 4 s_{000} s_{001} - 2 s_{000} s_{010} + 2 s_{000} s_{011} - 2 s_{000} s_{100} + 2 s_{000} s_{101} + 2 s_{001}^{2} + 2 s_{001} s_{010} - 2 s_{001} s_{011} + 2 s_{001} s_{100} - 2 s_{001} s_{101} + s_{010}^{2} - 2 s_{010} s_{011} + s_{011}^{2} + s_{100}^{2} - 2 s_{100} s_{101} + s_{101}^{2}\\right) + z \\left(- 4 s_{000}^{2} + 4 s_{000} s_{001} + 4 s_{000} s_{010} - 2 s_{000} s_{011} + 4 s_{000} s_{100} - 2 s_{000} s_{101} - 2 s_{001} s_{010} - 2 s_{001} s_{100} - 2 s_{010}^{2} + 2 s_{010} s_{011} - 2 s_{100}^{2} + 2 s_{100} s_{101}\\right)$"
      ],
      "text/plain": [
       "3*s000**2 - 2*s000*s001 - 2*s000*s010 - 2*s000*s100 + s001**2 + s010**2 + s100**2 + x**2*(2*s000**2 - 2*s000*s001 - 2*s000*s010 - 4*s000*s100 + 2*s000*s101 + 2*s000*s110 + s001**2 + 2*s001*s100 - 2*s001*s101 + s010**2 + 2*s010*s100 - 2*s010*s110 + 2*s100**2 - 2*s100*s101 - 2*s100*s110 + s101**2 + s110**2 + y**2*(s000**2 - 2*s000*s001 - 2*s000*s010 + 2*s000*s011 - 2*s000*s100 + 2*s000*s101 + 2*s000*s110 - 2*s000*s111 + s001**2 + 2*s001*s010 - 2*s001*s011 + 2*s001*s100 - 2*s001*s101 - 2*s001*s110 + 2*s001*s111 + s010**2 - 2*s010*s011 + 2*s010*s100 - 2*s010*s101 - 2*s010*s110 + 2*s010*s111 + s011**2 - 2*s011*s100 + 2*s011*s101 + 2*s011*s110 - 2*s011*s111 + s100**2 - 2*s100*s101 - 2*s100*s110 + 2*s100*s111 + s101**2 + 2*s101*s110 - 2*s101*s111 + s110**2 - 2*s110*s111 + s111**2) + y*(-2*s000**2 + 4*s000*s001 + 2*s000*s010 - 2*s000*s011 + 4*s000*s100 - 4*s000*s101 - 2*s000*s110 + 2*s000*s111 - 2*s001**2 - 2*s001*s010 + 2*s001*s011 - 4*s001*s100 + 4*s001*s101 + 2*s001*s110 - 2*s001*s111 - 2*s010*s100 + 2*s010*s101 + 2*s011*s100 - 2*s011*s101 - 2*s100**2 + 4*s100*s101 + 2*s100*s110 - 2*s100*s111 - 2*s101**2 - 2*s101*s110 + 2*s101*s111) + z**2*(s000**2 - 2*s000*s001 - 2*s000*s010 + 2*s000*s011 - 2*s000*s100 + 2*s000*s101 + 2*s000*s110 - 2*s000*s111 + s001**2 + 2*s001*s010 - 2*s001*s011 + 2*s001*s100 - 2*s001*s101 - 2*s001*s110 + 2*s001*s111 + s010**2 - 2*s010*s011 + 2*s010*s100 - 2*s010*s101 - 2*s010*s110 + 2*s010*s111 + s011**2 - 2*s011*s100 + 2*s011*s101 + 2*s011*s110 - 2*s011*s111 + s100**2 - 2*s100*s101 - 2*s100*s110 + 2*s100*s111 + s101**2 + 2*s101*s110 - 2*s101*s111 + s110**2 - 2*s110*s111 + s111**2) + z*(-2*s000**2 + 2*s000*s001 + 4*s000*s010 - 2*s000*s011 + 4*s000*s100 - 2*s000*s101 - 4*s000*s110 + 2*s000*s111 - 2*s001*s010 - 2*s001*s100 + 2*s001*s110 - 2*s010**2 + 2*s010*s011 - 4*s010*s100 + 2*s010*s101 + 4*s010*s110 - 2*s010*s111 + 2*s011*s100 - 2*s011*s110 - 2*s100**2 + 2*s100*s101 + 4*s100*s110 - 2*s100*s111 - 2*s101*s110 - 2*s110**2 + 2*s110*s111)) + x*(-4*s000**2 + 4*s000*s001 + 4*s000*s010 + 4*s000*s100 - 2*s000*s101 - 2*s000*s110 - 2*s001**2 - 2*s001*s100 + 2*s001*s101 - 2*s010**2 - 2*s010*s100 + 2*s010*s110 + y**2*(-2*s000**2 + 4*s000*s001 + 4*s000*s010 - 4*s000*s011 + 2*s000*s100 - 2*s000*s101 - 2*s000*s110 + 2*s000*s111 - 2*s001**2 - 4*s001*s010 + 4*s001*s011 - 2*s001*s100 + 2*s001*s101 + 2*s001*s110 - 2*s001*s111 - 2*s010**2 + 4*s010*s011 - 2*s010*s100 + 2*s010*s101 + 2*s010*s110 - 2*s010*s111 - 2*s011**2 + 2*s011*s100 - 2*s011*s101 - 2*s011*s110 + 2*s011*s111) + y*(4*s000**2 - 8*s000*s001 - 4*s000*s010 + 4*s000*s011 - 4*s000*s100 + 4*s000*s101 + 2*s000*s110 - 2*s000*s111 + 4*s001**2 + 4*s001*s010 - 4*s001*s011 + 4*s001*s100 - 4*s001*s101 - 2*s001*s110 + 2*s001*s111 + 2*s010*s100 - 2*s010*s101 - 2*s011*s100 + 2*s011*s101) + z**2*(-2*s000**2 + 4*s000*s001 + 4*s000*s010 - 4*s000*s011 + 2*s000*s100 - 2*s000*s101 - 2*s000*s110 + 2*s000*s111 - 2*s001**2 - 4*s001*s010 + 4*s001*s011 - 2*s001*s100 + 2*s001*s101 + 2*s001*s110 - 2*s001*s111 - 2*s010**2 + 4*s010*s011 - 2*s010*s100 + 2*s010*s101 + 2*s010*s110 - 2*s010*s111 - 2*s011**2 + 2*s011*s100 - 2*s011*s101 - 2*s011*s110 + 2*s011*s111) + z*(4*s000**2 - 4*s000*s001 - 8*s000*s010 + 4*s000*s011 - 4*s000*s100 + 2*s000*s101 + 4*s000*s110 - 2*s000*s111 + 4*s001*s010 + 2*s001*s100 - 2*s001*s110 + 4*s010**2 - 4*s010*s011 + 4*s010*s100 - 2*s010*s101 - 4*s010*s110 + 2*s010*s111 - 2*s011*s100 + 2*s011*s110)) + y**2*(2*s000**2 - 2*s000*s001 - 4*s000*s010 + 2*s000*s011 - 2*s000*s100 + 2*s000*s110 + s001**2 + 2*s001*s010 - 2*s001*s011 + 2*s010**2 - 2*s010*s011 + 2*s010*s100 - 2*s010*s110 + s011**2 + s100**2 - 2*s100*s110 + s110**2 + z**2*(s000**2 - 2*s000*s001 - 2*s000*s010 + 2*s000*s011 - 2*s000*s100 + 2*s000*s101 + 2*s000*s110 - 2*s000*s111 + s001**2 + 2*s001*s010 - 2*s001*s011 + 2*s001*s100 - 2*s001*s101 - 2*s001*s110 + 2*s001*s111 + s010**2 - 2*s010*s011 + 2*s010*s100 - 2*s010*s101 - 2*s010*s110 + 2*s010*s111 + s011**2 - 2*s011*s100 + 2*s011*s101 + 2*s011*s110 - 2*s011*s111 + s100**2 - 2*s100*s101 - 2*s100*s110 + 2*s100*s111 + s101**2 + 2*s101*s110 - 2*s101*s111 + s110**2 - 2*s110*s111 + s111**2) + z*(-2*s000**2 + 2*s000*s001 + 4*s000*s010 - 2*s000*s011 + 4*s000*s100 - 2*s000*s101 - 4*s000*s110 + 2*s000*s111 - 2*s001*s010 - 2*s001*s100 + 2*s001*s110 - 2*s010**2 + 2*s010*s011 - 4*s010*s100 + 2*s010*s101 + 4*s010*s110 - 2*s010*s111 + 2*s011*s100 - 2*s011*s110 - 2*s100**2 + 2*s100*s101 + 4*s100*s110 - 2*s100*s111 - 2*s101*s110 - 2*s110**2 + 2*s110*s111)) + y*(-4*s000**2 + 4*s000*s001 + 4*s000*s010 - 2*s000*s011 + 4*s000*s100 - 2*s000*s110 - 2*s001**2 - 2*s001*s010 + 2*s001*s011 - 2*s010*s100 - 2*s100**2 + 2*s100*s110 + z**2*(-2*s000**2 + 4*s000*s001 + 2*s000*s010 - 2*s000*s011 + 4*s000*s100 - 4*s000*s101 - 2*s000*s110 + 2*s000*s111 - 2*s001**2 - 2*s001*s010 + 2*s001*s011 - 4*s001*s100 + 4*s001*s101 + 2*s001*s110 - 2*s001*s111 - 2*s010*s100 + 2*s010*s101 + 2*s011*s100 - 2*s011*s101 - 2*s100**2 + 4*s100*s101 + 2*s100*s110 - 2*s100*s111 - 2*s101**2 - 2*s101*s110 + 2*s101*s111) + z*(4*s000**2 - 4*s000*s001 - 4*s000*s010 + 2*s000*s011 - 8*s000*s100 + 4*s000*s101 + 4*s000*s110 - 2*s000*s111 + 2*s001*s010 + 4*s001*s100 - 2*s001*s110 + 4*s010*s100 - 2*s010*s101 - 2*s011*s100 + 4*s100**2 - 4*s100*s101 - 4*s100*s110 + 2*s100*s111 + 2*s101*s110)) + z**2*(2*s000**2 - 4*s000*s001 - 2*s000*s010 + 2*s000*s011 - 2*s000*s100 + 2*s000*s101 + 2*s001**2 + 2*s001*s010 - 2*s001*s011 + 2*s001*s100 - 2*s001*s101 + s010**2 - 2*s010*s011 + s011**2 + s100**2 - 2*s100*s101 + s101**2) + z*(-4*s000**2 + 4*s000*s001 + 4*s000*s010 - 2*s000*s011 + 4*s000*s100 - 2*s000*s101 - 2*s001*s010 - 2*s001*s100 - 2*s010**2 + 2*s010*s011 - 2*s100**2 + 2*s100*s101)"
      ]
     },
     "execution_count": 17,
     "metadata": {},
     "output_type": "execute_result"
    }
   ],
   "source": [
    "s000, s001, s010, s011, s100, s101, s110, s111, \\\n",
    "    = symbols('s000 s001 s010 s011 s100 s101 s110 s111')\n",
    "\n",
    "x,y,z = symbols('x y z')\n",
    "\n",
    "d = (1 - z) * ((1 - y)* ((1 - x)* s000 + x* s100) + y *((1 - x) *s010 + x * s110)) + z * ((1 - y)*((1 - x)*s001 + x*s101) + y * ((1 - x) * s011 + x*s111))\n",
    "\n",
    "# # s000, s001, s010, s011 = [1,2,-1,-2]\n",
    "\n",
    "# miu = (s000+ s001+ s010+ s011) / 4\n",
    "# v = ((s000 - miu)**2 + (s001 - miu)**2 + (s010 - miu)**2 + (s011 - miu)**2) / 4\n",
    "# std = sqrt(v)\n",
    "\n",
    "dn = diff(d, x) ** 2 + diff(d, y)**2 + diff(d, z)**2  \n",
    "\n",
    "collect(collect(collect((simplify(expand(dn))),x), y), z)\n",
    "\n"
   ]
  },
  {
   "cell_type": "code",
   "execution_count": 10,
   "metadata": {},
   "outputs": [
    {
     "data": {
      "text/latex": [
       "$\\displaystyle 0.0692820323027551$"
      ],
      "text/plain": [
       "0.0692820323027551"
      ]
     },
     "execution_count": 10,
     "metadata": {},
     "output_type": "execute_result"
    }
   ],
   "source": [
    "s000, s001, s010, s011, s100, s101, s110, s111, \\\n",
    "    = symbols('s000 s001 s010 s011 s100 s101 s110 s111')\n",
    "\n",
    "\n",
    "dx = s100 - s000\n",
    "dy = s010 - s000\n",
    "dz = s001 - s000\n",
    "\n",
    "idelta = 1 / sqrt(dx**2 + dy**2 + dz**2)\n",
    "\n",
    "(dx / idelta).subs({\n",
    "    s000: -0.1,\n",
    "    s001: 0.1,\n",
    "    s010: 0.1,\n",
    "    s100: 0.1,\n",
    "}).evalf()\n",
    "\n"
   ]
  },
  {
   "cell_type": "code",
   "execution_count": 4,
   "metadata": {},
   "outputs": [
    {
     "data": {
      "text/latex": [
       "$\\displaystyle e^{- \\sigma}$"
      ],
      "text/plain": [
       "exp(-sigma)"
      ]
     },
     "execution_count": 4,
     "metadata": {},
     "output_type": "execute_result"
    }
   ],
   "source": [
    "alpha, dist, sigma, step = symbols('alpha d sigma delta')\n",
    "\n",
    "alpha = 1 - exp(-sigma)\n",
    "\n",
    "\n",
    "lap = exp(-alpha) + exp(-(1-alpha))\n",
    "lap = -lap\n",
    "\n",
    "# diff(lap, sigma)\n",
    "diff(alpha, sigma)\n"
   ]
  },
  {
   "cell_type": "code",
   "execution_count": 6,
   "metadata": {},
   "outputs": [
    {
     "data": {
      "text/latex": [
       "$\\displaystyle e^{- \\sigma}$"
      ],
      "text/plain": [
       "exp(-sigma)"
      ]
     },
     "execution_count": 6,
     "metadata": {},
     "output_type": "execute_result"
    }
   ],
   "source": [
    "1- alpha"
   ]
  },
  {
   "cell_type": "code",
   "execution_count": 6,
   "metadata": {},
   "outputs": [
    {
     "data": {
      "text/latex": [
       "$\\displaystyle \\delta e^{- \\delta \\sigma}$"
      ],
      "text/plain": [
       "delta*exp(-delta*sigma)"
      ]
     },
     "execution_count": 6,
     "metadata": {},
     "output_type": "execute_result"
    }
   ],
   "source": [
    "alpha = 1 - exp(-sigma * step)\n",
    "diff(alpha, sigma)"
   ]
  },
  {
   "cell_type": "code",
   "execution_count": 8,
   "metadata": {},
   "outputs": [
    {
     "data": {
      "text/latex": [
       "$\\displaystyle \\delta e^{- \\delta \\sigma} e^{-1 + e^{- \\delta \\sigma}} - \\delta e^{- \\delta \\sigma} e^{- e^{- \\delta \\sigma}}$"
      ],
      "text/plain": [
       "delta*exp(-delta*sigma)*exp(-1 + exp(-delta*sigma)) - delta*exp(-delta*sigma)*exp(-exp(-delta*sigma))"
      ]
     },
     "execution_count": 8,
     "metadata": {},
     "output_type": "execute_result"
    }
   ],
   "source": [
    "alpha, dist, sigma, step = symbols('alpha d sigma delta')\n",
    "\n",
    "alpha = 1 - exp(-sigma * step)\n",
    "\n",
    "\n",
    "lap = exp(-alpha) + exp(-(1-alpha))\n",
    "lap = -lap\n",
    "\n",
    "diff(lap, sigma)"
   ]
  },
  {
   "cell_type": "code",
   "execution_count": 2,
   "metadata": {},
   "outputs": [
    {
     "data": {
      "text/latex": [
       "$\\displaystyle \\frac{1.0 \\alpha d^{2} e^{- \\frac{0.5 d^{2}}{s^{2}}}}{s^{3}}$"
      ],
      "text/plain": [
       "1.0*alpha*d**2*exp(-0.5*d**2/s**2)/s**3"
      ]
     },
     "execution_count": 2,
     "metadata": {},
     "output_type": "execute_result"
    }
   ],
   "source": [
    "alpha, dist, std = symbols('alpha d s')\n",
    "\n",
    "# alpha = 1/(1+exp(-alpha_r))\n",
    "\n",
    "# lap = exp(-alpha) + exp(-(1-alpha))\n",
    "# lap = -lap\n",
    "\n",
    "# diff(lap, alpha_r).subs(alpha_r,-2.3).evalf()\n",
    "\n",
    "rwa = alpha * exp(-.5 * (dist/std)**2)\n",
    "\n",
    "diff(rwa, std)"
   ]
  },
  {
   "cell_type": "code",
   "execution_count": 25,
   "metadata": {},
   "outputs": [
    {
     "data": {
      "text/latex": [
       "$\\displaystyle - \\frac{1.0 \\alpha d e^{- \\frac{0.5 d^{2}}{s^{2}}}}{s^{2}}$"
      ],
      "text/plain": [
       "-1.0*alpha*d*exp(-0.5*d**2/s**2)/s**2"
      ]
     },
     "execution_count": 25,
     "metadata": {},
     "output_type": "execute_result"
    }
   ],
   "source": [
    "diff(rwa, dist)"
   ]
  },
  {
   "cell_type": "code",
   "execution_count": 19,
   "metadata": {},
   "outputs": [
    {
     "data": {
      "text/latex": [
       "$\\displaystyle 2 d s$"
      ],
      "text/plain": [
       "2*d*s"
      ]
     },
     "execution_count": 19,
     "metadata": {},
     "output_type": "execute_result"
    }
   ],
   "source": [
    "diff(dist * std**2, std)"
   ]
  },
  {
   "cell_type": "code",
   "execution_count": 18,
   "metadata": {},
   "outputs": [
    {
     "data": {
      "text/plain": [
       "0.04223209527209544"
      ]
     },
     "execution_count": 18,
     "metadata": {},
     "output_type": "execute_result"
    }
   ],
   "source": [
    "alpha_r = -2.3\n",
    "alpha = 1/(1+np.exp(-alpha_r))\n",
    "\n",
    "(-np.exp(alpha-1.) + np.exp(-alpha)) * alpha * (1 - alpha)"
   ]
  },
  {
   "cell_type": "code",
   "execution_count": 7,
   "metadata": {},
   "outputs": [
    {
     "data": {
      "text/latex": [
       "$\\displaystyle - e^{\\alpha - 1} + e^{- \\alpha}$"
      ],
      "text/plain": [
       "-exp(alpha - 1) + exp(-alpha)"
      ]
     },
     "execution_count": 7,
     "metadata": {},
     "output_type": "execute_result"
    }
   ],
   "source": [
    "# def sigmoid(a):\n",
    "#     return 1/(1+exp(-a))\n",
    "\n",
    "lap = exp(-alpha) + exp(-(1-alpha))\n",
    "lap = -lap\n",
    "\n",
    "diff(lap, alpha)"
   ]
  },
  {
   "cell_type": "code",
   "execution_count": null,
   "metadata": {},
   "outputs": [],
   "source": []
  },
  {
   "cell_type": "code",
   "execution_count": 6,
   "metadata": {},
   "outputs": [
    {
     "data": {
      "text/latex": [
       "$\\displaystyle e^{- \\frac{0.5 dist^{2}}{std^{2}}}$"
      ],
      "text/plain": [
       "exp(-0.5*dist**2/std**2)"
      ]
     },
     "execution_count": 6,
     "metadata": {},
     "output_type": "execute_result"
    }
   ],
   "source": [
    "exp(-.5 * (dist/std)**2)"
   ]
  },
  {
   "cell_type": "markdown",
   "metadata": {},
   "source": [
    "# Surface Closest Distance Test"
   ]
  },
  {
   "cell_type": "code",
   "execution_count": 7,
   "metadata": {},
   "outputs": [
    {
     "data": {
      "text/plain": [
       "0.060000000000000164"
      ]
     },
     "execution_count": 7,
     "metadata": {},
     "output_type": "execute_result"
    }
   ],
   "source": [
    "s00, s01, s10, s11 = symbols('s00 s01 s10 s11')\n",
    "x, y, nx, ny = symbols('x y nx ny')\n",
    "\n",
    "s00, s01, s10, s11 = np.array([-1,1,1,1]) - 0.1\n",
    "nx, ny = [0.6,0.7]\n",
    "\n",
    "\n",
    "c0 = ny*s00 + (1-ny) * s01\n",
    "c1 = ny*s10 + (1-ny) * s11\n",
    "c = nx * c0 + (1-nx)*c1\n",
    "\n",
    "# x = c1 / (c1-c0)\n",
    "\n",
    "# dist_2 = (x-nx)**2 + (y-ny)**2\n",
    "\n",
    "# solve(diff(dist_2,y) == 0)\n",
    "# diff(dist_2,y)\n",
    "c"
   ]
  },
  {
   "cell_type": "code",
   "execution_count": 53,
   "metadata": {},
   "outputs": [
    {
     "data": {
      "text/latex": [
       "$\\displaystyle 0.36 \\left(-1 + \\frac{0.833333333333333}{y}\\right)^{2} + \\left(y - 0.7\\right)^{2}$"
      ],
      "text/plain": [
       "0.36*(-1 + 0.833333333333333/y)**2 + (y - 0.7)**2"
      ]
     },
     "execution_count": 53,
     "metadata": {},
     "output_type": "execute_result"
    }
   ],
   "source": [
    "dist_2"
   ]
  },
  {
   "cell_type": "code",
   "execution_count": 54,
   "metadata": {},
   "outputs": [
    {
     "data": {
      "text/latex": [
       "$\\displaystyle 2 y - 1.4 - \\frac{0.6 \\left(-1 + \\frac{0.833333333333333}{y}\\right)}{y^{2}}$"
      ],
      "text/plain": [
       "2*y - 1.4 - 0.6*(-1 + 0.833333333333333/y)/y**2"
      ]
     },
     "execution_count": 54,
     "metadata": {},
     "output_type": "execute_result"
    }
   ],
   "source": [
    "diff(dist_2,y)"
   ]
  },
  {
   "cell_type": "code",
   "execution_count": 39,
   "metadata": {},
   "outputs": [
    {
     "data": {
      "text/plain": [
       "1.8471511243028969"
      ]
     },
     "execution_count": 39,
     "metadata": {},
     "output_type": "execute_result"
    }
   ],
   "source": [
    "surf = np.array([0.20820379257202148, 0.84846925735473633, 0.98331499099731445, -0.43774223327636719, 0.57106781005859375, -0.81885433197021484, \n",
    "  -0.68975019454956055, -0.13339996337890625])\n",
    "\n",
    "np.sqrt(np.sum(surf**2))"
   ]
  },
  {
   "cell_type": "code",
   "execution_count": null,
   "metadata": {},
   "outputs": [],
   "source": []
  },
  {
   "cell_type": "code",
   "execution_count": null,
   "metadata": {},
   "outputs": [],
   "source": []
  },
  {
   "cell_type": "code",
   "execution_count": 15,
   "metadata": {},
   "outputs": [
    {
     "name": "stdout",
     "output_type": "stream",
     "text": [
      "8.17373843476778e-6\n",
      "[-0.0122343038987693, -0.0122343038987693, -1.22343038987693, -0.244686077975386]\n",
      "-0.123566469377570\n"
     ]
    }
   ],
   "source": [
    "s00, s01, s10, s11 = symbols('s00 s01 s10 s11')\n",
    "x, y, nx, ny = symbols('x y nx ny')\n",
    "\n",
    "s00, s01, s10, s11 = np.array([-1e-7, -1e-7, -1e-5, -2e-6])\n",
    "x, y = [0.9,0.9]\n",
    "\n",
    "# s_norm = sqrt(s00**2 + s01**2 +s10**2 +s11**2)\n",
    "u = (s00 + s01 + s10 +s11) /4\n",
    "s_norm = sqrt((s00-u)**2 + (s01-u)**2 +(s10-u)**2 +(s11-u)**2)\n",
    "s00 /= s_norm\n",
    "s01 /= s_norm\n",
    "s10 /= s_norm\n",
    "s11 /= s_norm\n",
    "\n",
    "\n",
    "c0 = y*s00 + (1-y) * s01\n",
    "c1 = y*s10 + (1-y) * s11\n",
    "\n",
    "surf = x*c0 + (1-x) * c1\n",
    "\n",
    "print(s_norm)\n",
    "print([s00, s01, s10, s11])\n",
    "print(surf)\n",
    "\n"
   ]
  },
  {
   "cell_type": "code",
   "execution_count": null,
   "metadata": {},
   "outputs": [],
   "source": []
  },
  {
   "cell_type": "code",
   "execution_count": 22,
   "metadata": {},
   "outputs": [
    {
     "data": {
      "text/latex": [
       "$\\displaystyle -0.75$"
      ],
      "text/plain": [
       "-0.750000000000000"
      ]
     },
     "execution_count": 22,
     "metadata": {},
     "output_type": "execute_result"
    }
   ],
   "source": []
  },
  {
   "cell_type": "code",
   "execution_count": 7,
   "metadata": {},
   "outputs": [
    {
     "data": {
      "text/latex": [
       "$\\displaystyle s_{01} - s_{11} + y \\left(s_{00} - s_{01} - s_{10} + s_{11}\\right)$"
      ],
      "text/plain": [
       "s01 - s11 + y*(s00 - s01 - s10 + s11)"
      ]
     },
     "execution_count": 7,
     "metadata": {},
     "output_type": "execute_result"
    }
   ],
   "source": [
    "collect(expand(dx), y)"
   ]
  },
  {
   "cell_type": "code",
   "execution_count": 8,
   "metadata": {},
   "outputs": [
    {
     "data": {
      "text/latex": [
       "$\\displaystyle s_{10} - s_{11} + x \\left(s_{00} - s_{01} - s_{10} + s_{11}\\right)$"
      ],
      "text/plain": [
       "s10 - s11 + x*(s00 - s01 - s10 + s11)"
      ]
     },
     "execution_count": 8,
     "metadata": {},
     "output_type": "execute_result"
    }
   ],
   "source": [
    "collect(expand(dy), x)"
   ]
  },
  {
   "cell_type": "code",
   "execution_count": 12,
   "metadata": {},
   "outputs": [
    {
     "data": {
      "text/latex": [
       "$\\displaystyle s_{01}^{2} - 2 s_{01} s_{11} + s_{10}^{2} - 2 s_{10} s_{11} + 2 s_{11}^{2} + x^{2} \\left(s_{00}^{2} - 2 s_{00} s_{01} - 2 s_{00} s_{10} + 2 s_{00} s_{11} + s_{01}^{2} + 2 s_{01} s_{10} - 2 s_{01} s_{11} + s_{10}^{2} - 2 s_{10} s_{11} + s_{11}^{2}\\right) + x \\left(2 s_{00} s_{10} - 2 s_{00} s_{11} - 2 s_{01} s_{10} + 2 s_{01} s_{11} - 2 s_{10}^{2} + 4 s_{10} s_{11} - 2 s_{11}^{2}\\right) + y^{2} \\left(s_{00}^{2} - 2 s_{00} s_{01} - 2 s_{00} s_{10} + 2 s_{00} s_{11} + s_{01}^{2} + 2 s_{01} s_{10} - 2 s_{01} s_{11} + s_{10}^{2} - 2 s_{10} s_{11} + s_{11}^{2}\\right) + y \\left(2 s_{00} s_{01} - 2 s_{00} s_{11} - 2 s_{01}^{2} - 2 s_{01} s_{10} + 4 s_{01} s_{11} + 2 s_{10} s_{11} - 2 s_{11}^{2}\\right)$"
      ],
      "text/plain": [
       "s01**2 - 2*s01*s11 + s10**2 - 2*s10*s11 + 2*s11**2 + x**2*(s00**2 - 2*s00*s01 - 2*s00*s10 + 2*s00*s11 + s01**2 + 2*s01*s10 - 2*s01*s11 + s10**2 - 2*s10*s11 + s11**2) + x*(2*s00*s10 - 2*s00*s11 - 2*s01*s10 + 2*s01*s11 - 2*s10**2 + 4*s10*s11 - 2*s11**2) + y**2*(s00**2 - 2*s00*s01 - 2*s00*s10 + 2*s00*s11 + s01**2 + 2*s01*s10 - 2*s01*s11 + s10**2 - 2*s10*s11 + s11**2) + y*(2*s00*s01 - 2*s00*s11 - 2*s01**2 - 2*s01*s10 + 4*s01*s11 + 2*s10*s11 - 2*s11**2)"
      ]
     },
     "execution_count": 12,
     "metadata": {},
     "output_type": "execute_result"
    }
   ],
   "source": [
    "norm2 = dx**2 + dy**2\n",
    "collect(collect(expand(norm2), x), y)"
   ]
  },
  {
   "cell_type": "code",
   "execution_count": null,
   "metadata": {},
   "outputs": [],
   "source": []
  },
  {
   "cell_type": "code",
   "execution_count": null,
   "metadata": {},
   "outputs": [],
   "source": []
  },
  {
   "cell_type": "code",
   "execution_count": 56,
   "metadata": {},
   "outputs": [
    {
     "data": {
      "text/plain": [
       "(-0.956771180797469, 0.290841722583636)"
      ]
     },
     "execution_count": 56,
     "metadata": {},
     "output_type": "execute_result"
    }
   ],
   "source": [
    "dx_v2 = dx.subs(y, 0.6 + ny*0.1)\n",
    "dy_v2 = dy.subs(x, 0.1 + nx*0.1)\n",
    "\n",
    "nx2 = dx_v2 / sqrt(dx_v2**2 + dy_v2**2)\n",
    "ny2 = dy_v2 / sqrt(dx_v2**2 + dy_v2**2)\n",
    "\n",
    "nx2, ny2"
   ]
  },
  {
   "cell_type": "code",
   "execution_count": 27,
   "metadata": {},
   "outputs": [
    {
     "data": {
      "text/latex": [
       "$\\displaystyle s_{00} \\left(x \\left(s_{00} - s_{01}\\right) + y - \\left(s_{10} - s_{11}\\right) \\left(x - 1\\right)\\right) - s_{01} \\left(x \\left(s_{00} - s_{01}\\right) + y - \\left(s_{10} - s_{11}\\right) \\left(x - 1\\right) - 1\\right) - s_{10} \\left(x \\left(s_{00} - s_{01}\\right) + y - \\left(s_{10} - s_{11}\\right) \\left(x - 1\\right)\\right) + s_{11} \\left(x \\left(s_{00} - s_{01}\\right) + y - \\left(s_{10} - s_{11}\\right) \\left(x - 1\\right) - 1\\right) + \\left(s_{00} - s_{01}\\right) \\left(s_{00} - s_{01} - s_{10} + s_{11}\\right) \\left(s_{00} y - s_{01} \\left(y - 1\\right) - s_{10} y + s_{11} \\left(y - 1\\right) + x\\right) - \\left(s_{10} - s_{11}\\right) \\left(s_{00} - s_{01} - s_{10} + s_{11}\\right) \\left(s_{00} y - s_{01} \\left(y - 1\\right) - s_{10} y + s_{11} \\left(y - 1\\right) + x - 1\\right)$"
      ],
      "text/plain": [
       "s00*(x*(s00 - s01) + y - (s10 - s11)*(x - 1)) - s01*(x*(s00 - s01) + y - (s10 - s11)*(x - 1) - 1) - s10*(x*(s00 - s01) + y - (s10 - s11)*(x - 1)) + s11*(x*(s00 - s01) + y - (s10 - s11)*(x - 1) - 1) + (s00 - s01)*(s00 - s01 - s10 + s11)*(s00*y - s01*(y - 1) - s10*y + s11*(y - 1) + x) - (s10 - s11)*(s00 - s01 - s10 + s11)*(s00*y - s01*(y - 1) - s10*y + s11*(y - 1) + x - 1)"
      ]
     },
     "execution_count": 27,
     "metadata": {},
     "output_type": "execute_result"
    }
   ],
   "source": [
    "\n",
    "surf_2 = (x+dx)* ((y+dy)*s00 + (1-(y+dy)) * s01) + (1-(x+dx)) * ((y+dy)*s10 + (1-(y+dy)) * s11)\n",
    "\n",
    "simplify(diff(surf_2,x))\n"
   ]
  },
  {
   "cell_type": "code",
   "execution_count": null,
   "metadata": {},
   "outputs": [],
   "source": []
  },
  {
   "cell_type": "code",
   "execution_count": null,
   "metadata": {},
   "outputs": [],
   "source": []
  },
  {
   "cell_type": "code",
   "execution_count": null,
   "metadata": {},
   "outputs": [],
   "source": []
  },
  {
   "cell_type": "markdown",
   "metadata": {},
   "source": [
    "# Fake sample-surface distance backward"
   ]
  },
  {
   "cell_type": "code",
   "execution_count": 17,
   "metadata": {},
   "outputs": [
    {
     "data": {
      "text/latex": [
       "$\\displaystyle \\frac{s_{000} \\left(\\frac{s_{000}}{64} - \\frac{7 s_{001}}{64} + \\frac{s_{010}}{64} + \\frac{s_{011}}{64} + \\frac{s_{100}}{64} + \\frac{s_{101}}{64} + \\frac{s_{110}}{64} + \\frac{s_{111}}{64}\\right)}{\\left(\\frac{\\left(- \\frac{s_{000}}{8} - \\frac{s_{001}}{8} - \\frac{s_{010}}{8} - \\frac{s_{011}}{8} - \\frac{s_{100}}{8} - \\frac{s_{101}}{8} - \\frac{s_{110}}{8} + \\frac{7 s_{111}}{8}\\right)^{2}}{8} + \\frac{\\left(- \\frac{s_{000}}{8} - \\frac{s_{001}}{8} - \\frac{s_{010}}{8} - \\frac{s_{011}}{8} - \\frac{s_{100}}{8} - \\frac{s_{101}}{8} + \\frac{7 s_{110}}{8} - \\frac{s_{111}}{8}\\right)^{2}}{8} + \\frac{\\left(- \\frac{s_{000}}{8} - \\frac{s_{001}}{8} - \\frac{s_{010}}{8} - \\frac{s_{011}}{8} - \\frac{s_{100}}{8} + \\frac{7 s_{101}}{8} - \\frac{s_{110}}{8} - \\frac{s_{111}}{8}\\right)^{2}}{8} + \\frac{\\left(- \\frac{s_{000}}{8} - \\frac{s_{001}}{8} - \\frac{s_{010}}{8} - \\frac{s_{011}}{8} + \\frac{7 s_{100}}{8} - \\frac{s_{101}}{8} - \\frac{s_{110}}{8} - \\frac{s_{111}}{8}\\right)^{2}}{8} + \\frac{\\left(- \\frac{s_{000}}{8} - \\frac{s_{001}}{8} - \\frac{s_{010}}{8} + \\frac{7 s_{011}}{8} - \\frac{s_{100}}{8} - \\frac{s_{101}}{8} - \\frac{s_{110}}{8} - \\frac{s_{111}}{8}\\right)^{2}}{8} + \\frac{\\left(- \\frac{s_{000}}{8} - \\frac{s_{001}}{8} + \\frac{7 s_{010}}{8} - \\frac{s_{011}}{8} - \\frac{s_{100}}{8} - \\frac{s_{101}}{8} - \\frac{s_{110}}{8} - \\frac{s_{111}}{8}\\right)^{2}}{8} + \\frac{\\left(- \\frac{s_{000}}{8} + \\frac{7 s_{001}}{8} - \\frac{s_{010}}{8} - \\frac{s_{011}}{8} - \\frac{s_{100}}{8} - \\frac{s_{101}}{8} - \\frac{s_{110}}{8} - \\frac{s_{111}}{8}\\right)^{2}}{8} + \\frac{\\left(\\frac{7 s_{000}}{8} - \\frac{s_{001}}{8} - \\frac{s_{010}}{8} - \\frac{s_{011}}{8} - \\frac{s_{100}}{8} - \\frac{s_{101}}{8} - \\frac{s_{110}}{8} - \\frac{s_{111}}{8}\\right)^{2}}{8}\\right)^{\\frac{3}{2}}}$"
      ],
      "text/plain": [
       "s000*(s000/64 - 7*s001/64 + s010/64 + s011/64 + s100/64 + s101/64 + s110/64 + s111/64)/((-s000/8 - s001/8 - s010/8 - s011/8 - s100/8 - s101/8 - s110/8 + 7*s111/8)**2/8 + (-s000/8 - s001/8 - s010/8 - s011/8 - s100/8 - s101/8 + 7*s110/8 - s111/8)**2/8 + (-s000/8 - s001/8 - s010/8 - s011/8 - s100/8 + 7*s101/8 - s110/8 - s111/8)**2/8 + (-s000/8 - s001/8 - s010/8 - s011/8 + 7*s100/8 - s101/8 - s110/8 - s111/8)**2/8 + (-s000/8 - s001/8 - s010/8 + 7*s011/8 - s100/8 - s101/8 - s110/8 - s111/8)**2/8 + (-s000/8 - s001/8 + 7*s010/8 - s011/8 - s100/8 - s101/8 - s110/8 - s111/8)**2/8 + (-s000/8 + 7*s001/8 - s010/8 - s011/8 - s100/8 - s101/8 - s110/8 - s111/8)**2/8 + (7*s000/8 - s001/8 - s010/8 - s011/8 - s100/8 - s101/8 - s110/8 - s111/8)**2/8)**(3/2)"
      ]
     },
     "execution_count": 17,
     "metadata": {},
     "output_type": "execute_result"
    }
   ],
   "source": [
    "s000, s001, s010, s011, s100, s101, s110, s111, \\\n",
    "    s002, s012, s102, s112, \\\n",
    "    s020, s021, s120, s121, \\\n",
    "    s200, s201, s210, s211 = symbols('s000 s001 s010 s011 s100 s101 s110 s111 s002 s012 s102 s112 s020 s021 s120 s121 s200 s201 s210 s211')\n",
    "\n",
    "\n",
    "x, y, z, nx, ny, nz = symbols('x y z nx ny nz')\n",
    "\n",
    "def lerp(a, b, w):\n",
    "    return (1-w) * a + w * b\n",
    "\n",
    "# miu = symbols('miu')\n",
    "miu = (s000 + s001 + s010 + s011 + s100 + s101 + s110 + s111) / 8\n",
    "\n",
    "N = sqrt(((s000-miu)**2 + (s001-miu)**2 + (s010-miu)**2 + (s011-miu)**2 + (s100-miu)**2 + (s101-miu)**2 + (s110-miu)**2 + (s111-miu)**2) / 8)\n",
    "\n",
    "n000, n001, n010, n011, n100, n101, n110, n111 = symbols('n000 n001 n010 n011 n100 n101 n110 n111')\n",
    "n000, n001, n010, n011, n100, n101, n110, n111 = s000/N, s001/N, s010/N, s011/N, s100/N, s101/N, s110/N, s111/N\n",
    "\n",
    "ix0y0 = lerp(n000, n001, z)\n",
    "ix0y1 = lerp(n010, n011, z)\n",
    "ix1y0 = lerp(n100, n101, z)\n",
    "ix1y1 = lerp(n110, n111, z)\n",
    "ix1 = lerp(ix1y0, ix1y1, y)\n",
    "ix0 = lerp(ix0y0, ix0y1, y)\n",
    "dist = lerp(ix0, ix1, x)\n",
    "\n",
    "# diff(dist, n100)\n",
    "# diff(n000, s000)\n",
    "diff(n000, s001)\n"
   ]
  },
  {
   "cell_type": "code",
   "execution_count": 18,
   "metadata": {},
   "outputs": [
    {
     "data": {
      "text/latex": [
       "$\\displaystyle x \\left(y \\left(\\frac{s_{110} \\cdot \\left(1 - z\\right)}{\\sqrt{\\frac{\\left(- \\frac{s_{000}}{8} - \\frac{s_{001}}{8} - \\frac{s_{010}}{8} - \\frac{s_{011}}{8} - \\frac{s_{100}}{8} - \\frac{s_{101}}{8} - \\frac{s_{110}}{8} + \\frac{7 s_{111}}{8}\\right)^{2}}{8} + \\frac{\\left(- \\frac{s_{000}}{8} - \\frac{s_{001}}{8} - \\frac{s_{010}}{8} - \\frac{s_{011}}{8} - \\frac{s_{100}}{8} - \\frac{s_{101}}{8} + \\frac{7 s_{110}}{8} - \\frac{s_{111}}{8}\\right)^{2}}{8} + \\frac{\\left(- \\frac{s_{000}}{8} - \\frac{s_{001}}{8} - \\frac{s_{010}}{8} - \\frac{s_{011}}{8} - \\frac{s_{100}}{8} + \\frac{7 s_{101}}{8} - \\frac{s_{110}}{8} - \\frac{s_{111}}{8}\\right)^{2}}{8} + \\frac{\\left(- \\frac{s_{000}}{8} - \\frac{s_{001}}{8} - \\frac{s_{010}}{8} - \\frac{s_{011}}{8} + \\frac{7 s_{100}}{8} - \\frac{s_{101}}{8} - \\frac{s_{110}}{8} - \\frac{s_{111}}{8}\\right)^{2}}{8} + \\frac{\\left(- \\frac{s_{000}}{8} - \\frac{s_{001}}{8} - \\frac{s_{010}}{8} + \\frac{7 s_{011}}{8} - \\frac{s_{100}}{8} - \\frac{s_{101}}{8} - \\frac{s_{110}}{8} - \\frac{s_{111}}{8}\\right)^{2}}{8} + \\frac{\\left(- \\frac{s_{000}}{8} - \\frac{s_{001}}{8} + \\frac{7 s_{010}}{8} - \\frac{s_{011}}{8} - \\frac{s_{100}}{8} - \\frac{s_{101}}{8} - \\frac{s_{110}}{8} - \\frac{s_{111}}{8}\\right)^{2}}{8} + \\frac{\\left(- \\frac{s_{000}}{8} + \\frac{7 s_{001}}{8} - \\frac{s_{010}}{8} - \\frac{s_{011}}{8} - \\frac{s_{100}}{8} - \\frac{s_{101}}{8} - \\frac{s_{110}}{8} - \\frac{s_{111}}{8}\\right)^{2}}{8} + \\frac{\\left(\\frac{7 s_{000}}{8} - \\frac{s_{001}}{8} - \\frac{s_{010}}{8} - \\frac{s_{011}}{8} - \\frac{s_{100}}{8} - \\frac{s_{101}}{8} - \\frac{s_{110}}{8} - \\frac{s_{111}}{8}\\right)^{2}}{8}}} + \\frac{s_{111} z}{\\sqrt{\\frac{\\left(- \\frac{s_{000}}{8} - \\frac{s_{001}}{8} - \\frac{s_{010}}{8} - \\frac{s_{011}}{8} - \\frac{s_{100}}{8} - \\frac{s_{101}}{8} - \\frac{s_{110}}{8} + \\frac{7 s_{111}}{8}\\right)^{2}}{8} + \\frac{\\left(- \\frac{s_{000}}{8} - \\frac{s_{001}}{8} - \\frac{s_{010}}{8} - \\frac{s_{011}}{8} - \\frac{s_{100}}{8} - \\frac{s_{101}}{8} + \\frac{7 s_{110}}{8} - \\frac{s_{111}}{8}\\right)^{2}}{8} + \\frac{\\left(- \\frac{s_{000}}{8} - \\frac{s_{001}}{8} - \\frac{s_{010}}{8} - \\frac{s_{011}}{8} - \\frac{s_{100}}{8} + \\frac{7 s_{101}}{8} - \\frac{s_{110}}{8} - \\frac{s_{111}}{8}\\right)^{2}}{8} + \\frac{\\left(- \\frac{s_{000}}{8} - \\frac{s_{001}}{8} - \\frac{s_{010}}{8} - \\frac{s_{011}}{8} + \\frac{7 s_{100}}{8} - \\frac{s_{101}}{8} - \\frac{s_{110}}{8} - \\frac{s_{111}}{8}\\right)^{2}}{8} + \\frac{\\left(- \\frac{s_{000}}{8} - \\frac{s_{001}}{8} - \\frac{s_{010}}{8} + \\frac{7 s_{011}}{8} - \\frac{s_{100}}{8} - \\frac{s_{101}}{8} - \\frac{s_{110}}{8} - \\frac{s_{111}}{8}\\right)^{2}}{8} + \\frac{\\left(- \\frac{s_{000}}{8} - \\frac{s_{001}}{8} + \\frac{7 s_{010}}{8} - \\frac{s_{011}}{8} - \\frac{s_{100}}{8} - \\frac{s_{101}}{8} - \\frac{s_{110}}{8} - \\frac{s_{111}}{8}\\right)^{2}}{8} + \\frac{\\left(- \\frac{s_{000}}{8} + \\frac{7 s_{001}}{8} - \\frac{s_{010}}{8} - \\frac{s_{011}}{8} - \\frac{s_{100}}{8} - \\frac{s_{101}}{8} - \\frac{s_{110}}{8} - \\frac{s_{111}}{8}\\right)^{2}}{8} + \\frac{\\left(\\frac{7 s_{000}}{8} - \\frac{s_{001}}{8} - \\frac{s_{010}}{8} - \\frac{s_{011}}{8} - \\frac{s_{100}}{8} - \\frac{s_{101}}{8} - \\frac{s_{110}}{8} - \\frac{s_{111}}{8}\\right)^{2}}{8}}}\\right) + \\left(1 - y\\right) \\left(\\frac{s_{100} \\cdot \\left(1 - z\\right)}{\\sqrt{\\frac{\\left(- \\frac{s_{000}}{8} - \\frac{s_{001}}{8} - \\frac{s_{010}}{8} - \\frac{s_{011}}{8} - \\frac{s_{100}}{8} - \\frac{s_{101}}{8} - \\frac{s_{110}}{8} + \\frac{7 s_{111}}{8}\\right)^{2}}{8} + \\frac{\\left(- \\frac{s_{000}}{8} - \\frac{s_{001}}{8} - \\frac{s_{010}}{8} - \\frac{s_{011}}{8} - \\frac{s_{100}}{8} - \\frac{s_{101}}{8} + \\frac{7 s_{110}}{8} - \\frac{s_{111}}{8}\\right)^{2}}{8} + \\frac{\\left(- \\frac{s_{000}}{8} - \\frac{s_{001}}{8} - \\frac{s_{010}}{8} - \\frac{s_{011}}{8} - \\frac{s_{100}}{8} + \\frac{7 s_{101}}{8} - \\frac{s_{110}}{8} - \\frac{s_{111}}{8}\\right)^{2}}{8} + \\frac{\\left(- \\frac{s_{000}}{8} - \\frac{s_{001}}{8} - \\frac{s_{010}}{8} - \\frac{s_{011}}{8} + \\frac{7 s_{100}}{8} - \\frac{s_{101}}{8} - \\frac{s_{110}}{8} - \\frac{s_{111}}{8}\\right)^{2}}{8} + \\frac{\\left(- \\frac{s_{000}}{8} - \\frac{s_{001}}{8} - \\frac{s_{010}}{8} + \\frac{7 s_{011}}{8} - \\frac{s_{100}}{8} - \\frac{s_{101}}{8} - \\frac{s_{110}}{8} - \\frac{s_{111}}{8}\\right)^{2}}{8} + \\frac{\\left(- \\frac{s_{000}}{8} - \\frac{s_{001}}{8} + \\frac{7 s_{010}}{8} - \\frac{s_{011}}{8} - \\frac{s_{100}}{8} - \\frac{s_{101}}{8} - \\frac{s_{110}}{8} - \\frac{s_{111}}{8}\\right)^{2}}{8} + \\frac{\\left(- \\frac{s_{000}}{8} + \\frac{7 s_{001}}{8} - \\frac{s_{010}}{8} - \\frac{s_{011}}{8} - \\frac{s_{100}}{8} - \\frac{s_{101}}{8} - \\frac{s_{110}}{8} - \\frac{s_{111}}{8}\\right)^{2}}{8} + \\frac{\\left(\\frac{7 s_{000}}{8} - \\frac{s_{001}}{8} - \\frac{s_{010}}{8} - \\frac{s_{011}}{8} - \\frac{s_{100}}{8} - \\frac{s_{101}}{8} - \\frac{s_{110}}{8} - \\frac{s_{111}}{8}\\right)^{2}}{8}}} + \\frac{s_{101} z}{\\sqrt{\\frac{\\left(- \\frac{s_{000}}{8} - \\frac{s_{001}}{8} - \\frac{s_{010}}{8} - \\frac{s_{011}}{8} - \\frac{s_{100}}{8} - \\frac{s_{101}}{8} - \\frac{s_{110}}{8} + \\frac{7 s_{111}}{8}\\right)^{2}}{8} + \\frac{\\left(- \\frac{s_{000}}{8} - \\frac{s_{001}}{8} - \\frac{s_{010}}{8} - \\frac{s_{011}}{8} - \\frac{s_{100}}{8} - \\frac{s_{101}}{8} + \\frac{7 s_{110}}{8} - \\frac{s_{111}}{8}\\right)^{2}}{8} + \\frac{\\left(- \\frac{s_{000}}{8} - \\frac{s_{001}}{8} - \\frac{s_{010}}{8} - \\frac{s_{011}}{8} - \\frac{s_{100}}{8} + \\frac{7 s_{101}}{8} - \\frac{s_{110}}{8} - \\frac{s_{111}}{8}\\right)^{2}}{8} + \\frac{\\left(- \\frac{s_{000}}{8} - \\frac{s_{001}}{8} - \\frac{s_{010}}{8} - \\frac{s_{011}}{8} + \\frac{7 s_{100}}{8} - \\frac{s_{101}}{8} - \\frac{s_{110}}{8} - \\frac{s_{111}}{8}\\right)^{2}}{8} + \\frac{\\left(- \\frac{s_{000}}{8} - \\frac{s_{001}}{8} - \\frac{s_{010}}{8} + \\frac{7 s_{011}}{8} - \\frac{s_{100}}{8} - \\frac{s_{101}}{8} - \\frac{s_{110}}{8} - \\frac{s_{111}}{8}\\right)^{2}}{8} + \\frac{\\left(- \\frac{s_{000}}{8} - \\frac{s_{001}}{8} + \\frac{7 s_{010}}{8} - \\frac{s_{011}}{8} - \\frac{s_{100}}{8} - \\frac{s_{101}}{8} - \\frac{s_{110}}{8} - \\frac{s_{111}}{8}\\right)^{2}}{8} + \\frac{\\left(- \\frac{s_{000}}{8} + \\frac{7 s_{001}}{8} - \\frac{s_{010}}{8} - \\frac{s_{011}}{8} - \\frac{s_{100}}{8} - \\frac{s_{101}}{8} - \\frac{s_{110}}{8} - \\frac{s_{111}}{8}\\right)^{2}}{8} + \\frac{\\left(\\frac{7 s_{000}}{8} - \\frac{s_{001}}{8} - \\frac{s_{010}}{8} - \\frac{s_{011}}{8} - \\frac{s_{100}}{8} - \\frac{s_{101}}{8} - \\frac{s_{110}}{8} - \\frac{s_{111}}{8}\\right)^{2}}{8}}}\\right)\\right) + \\left(1 - x\\right) \\left(y \\left(\\frac{s_{010} \\cdot \\left(1 - z\\right)}{\\sqrt{\\frac{\\left(- \\frac{s_{000}}{8} - \\frac{s_{001}}{8} - \\frac{s_{010}}{8} - \\frac{s_{011}}{8} - \\frac{s_{100}}{8} - \\frac{s_{101}}{8} - \\frac{s_{110}}{8} + \\frac{7 s_{111}}{8}\\right)^{2}}{8} + \\frac{\\left(- \\frac{s_{000}}{8} - \\frac{s_{001}}{8} - \\frac{s_{010}}{8} - \\frac{s_{011}}{8} - \\frac{s_{100}}{8} - \\frac{s_{101}}{8} + \\frac{7 s_{110}}{8} - \\frac{s_{111}}{8}\\right)^{2}}{8} + \\frac{\\left(- \\frac{s_{000}}{8} - \\frac{s_{001}}{8} - \\frac{s_{010}}{8} - \\frac{s_{011}}{8} - \\frac{s_{100}}{8} + \\frac{7 s_{101}}{8} - \\frac{s_{110}}{8} - \\frac{s_{111}}{8}\\right)^{2}}{8} + \\frac{\\left(- \\frac{s_{000}}{8} - \\frac{s_{001}}{8} - \\frac{s_{010}}{8} - \\frac{s_{011}}{8} + \\frac{7 s_{100}}{8} - \\frac{s_{101}}{8} - \\frac{s_{110}}{8} - \\frac{s_{111}}{8}\\right)^{2}}{8} + \\frac{\\left(- \\frac{s_{000}}{8} - \\frac{s_{001}}{8} - \\frac{s_{010}}{8} + \\frac{7 s_{011}}{8} - \\frac{s_{100}}{8} - \\frac{s_{101}}{8} - \\frac{s_{110}}{8} - \\frac{s_{111}}{8}\\right)^{2}}{8} + \\frac{\\left(- \\frac{s_{000}}{8} - \\frac{s_{001}}{8} + \\frac{7 s_{010}}{8} - \\frac{s_{011}}{8} - \\frac{s_{100}}{8} - \\frac{s_{101}}{8} - \\frac{s_{110}}{8} - \\frac{s_{111}}{8}\\right)^{2}}{8} + \\frac{\\left(- \\frac{s_{000}}{8} + \\frac{7 s_{001}}{8} - \\frac{s_{010}}{8} - \\frac{s_{011}}{8} - \\frac{s_{100}}{8} - \\frac{s_{101}}{8} - \\frac{s_{110}}{8} - \\frac{s_{111}}{8}\\right)^{2}}{8} + \\frac{\\left(\\frac{7 s_{000}}{8} - \\frac{s_{001}}{8} - \\frac{s_{010}}{8} - \\frac{s_{011}}{8} - \\frac{s_{100}}{8} - \\frac{s_{101}}{8} - \\frac{s_{110}}{8} - \\frac{s_{111}}{8}\\right)^{2}}{8}}} + \\frac{s_{011} z}{\\sqrt{\\frac{\\left(- \\frac{s_{000}}{8} - \\frac{s_{001}}{8} - \\frac{s_{010}}{8} - \\frac{s_{011}}{8} - \\frac{s_{100}}{8} - \\frac{s_{101}}{8} - \\frac{s_{110}}{8} + \\frac{7 s_{111}}{8}\\right)^{2}}{8} + \\frac{\\left(- \\frac{s_{000}}{8} - \\frac{s_{001}}{8} - \\frac{s_{010}}{8} - \\frac{s_{011}}{8} - \\frac{s_{100}}{8} - \\frac{s_{101}}{8} + \\frac{7 s_{110}}{8} - \\frac{s_{111}}{8}\\right)^{2}}{8} + \\frac{\\left(- \\frac{s_{000}}{8} - \\frac{s_{001}}{8} - \\frac{s_{010}}{8} - \\frac{s_{011}}{8} - \\frac{s_{100}}{8} + \\frac{7 s_{101}}{8} - \\frac{s_{110}}{8} - \\frac{s_{111}}{8}\\right)^{2}}{8} + \\frac{\\left(- \\frac{s_{000}}{8} - \\frac{s_{001}}{8} - \\frac{s_{010}}{8} - \\frac{s_{011}}{8} + \\frac{7 s_{100}}{8} - \\frac{s_{101}}{8} - \\frac{s_{110}}{8} - \\frac{s_{111}}{8}\\right)^{2}}{8} + \\frac{\\left(- \\frac{s_{000}}{8} - \\frac{s_{001}}{8} - \\frac{s_{010}}{8} + \\frac{7 s_{011}}{8} - \\frac{s_{100}}{8} - \\frac{s_{101}}{8} - \\frac{s_{110}}{8} - \\frac{s_{111}}{8}\\right)^{2}}{8} + \\frac{\\left(- \\frac{s_{000}}{8} - \\frac{s_{001}}{8} + \\frac{7 s_{010}}{8} - \\frac{s_{011}}{8} - \\frac{s_{100}}{8} - \\frac{s_{101}}{8} - \\frac{s_{110}}{8} - \\frac{s_{111}}{8}\\right)^{2}}{8} + \\frac{\\left(- \\frac{s_{000}}{8} + \\frac{7 s_{001}}{8} - \\frac{s_{010}}{8} - \\frac{s_{011}}{8} - \\frac{s_{100}}{8} - \\frac{s_{101}}{8} - \\frac{s_{110}}{8} - \\frac{s_{111}}{8}\\right)^{2}}{8} + \\frac{\\left(\\frac{7 s_{000}}{8} - \\frac{s_{001}}{8} - \\frac{s_{010}}{8} - \\frac{s_{011}}{8} - \\frac{s_{100}}{8} - \\frac{s_{101}}{8} - \\frac{s_{110}}{8} - \\frac{s_{111}}{8}\\right)^{2}}{8}}}\\right) + \\left(1 - y\\right) \\left(\\frac{s_{000} \\cdot \\left(1 - z\\right)}{\\sqrt{\\frac{\\left(- \\frac{s_{000}}{8} - \\frac{s_{001}}{8} - \\frac{s_{010}}{8} - \\frac{s_{011}}{8} - \\frac{s_{100}}{8} - \\frac{s_{101}}{8} - \\frac{s_{110}}{8} + \\frac{7 s_{111}}{8}\\right)^{2}}{8} + \\frac{\\left(- \\frac{s_{000}}{8} - \\frac{s_{001}}{8} - \\frac{s_{010}}{8} - \\frac{s_{011}}{8} - \\frac{s_{100}}{8} - \\frac{s_{101}}{8} + \\frac{7 s_{110}}{8} - \\frac{s_{111}}{8}\\right)^{2}}{8} + \\frac{\\left(- \\frac{s_{000}}{8} - \\frac{s_{001}}{8} - \\frac{s_{010}}{8} - \\frac{s_{011}}{8} - \\frac{s_{100}}{8} + \\frac{7 s_{101}}{8} - \\frac{s_{110}}{8} - \\frac{s_{111}}{8}\\right)^{2}}{8} + \\frac{\\left(- \\frac{s_{000}}{8} - \\frac{s_{001}}{8} - \\frac{s_{010}}{8} - \\frac{s_{011}}{8} + \\frac{7 s_{100}}{8} - \\frac{s_{101}}{8} - \\frac{s_{110}}{8} - \\frac{s_{111}}{8}\\right)^{2}}{8} + \\frac{\\left(- \\frac{s_{000}}{8} - \\frac{s_{001}}{8} - \\frac{s_{010}}{8} + \\frac{7 s_{011}}{8} - \\frac{s_{100}}{8} - \\frac{s_{101}}{8} - \\frac{s_{110}}{8} - \\frac{s_{111}}{8}\\right)^{2}}{8} + \\frac{\\left(- \\frac{s_{000}}{8} - \\frac{s_{001}}{8} + \\frac{7 s_{010}}{8} - \\frac{s_{011}}{8} - \\frac{s_{100}}{8} - \\frac{s_{101}}{8} - \\frac{s_{110}}{8} - \\frac{s_{111}}{8}\\right)^{2}}{8} + \\frac{\\left(- \\frac{s_{000}}{8} + \\frac{7 s_{001}}{8} - \\frac{s_{010}}{8} - \\frac{s_{011}}{8} - \\frac{s_{100}}{8} - \\frac{s_{101}}{8} - \\frac{s_{110}}{8} - \\frac{s_{111}}{8}\\right)^{2}}{8} + \\frac{\\left(\\frac{7 s_{000}}{8} - \\frac{s_{001}}{8} - \\frac{s_{010}}{8} - \\frac{s_{011}}{8} - \\frac{s_{100}}{8} - \\frac{s_{101}}{8} - \\frac{s_{110}}{8} - \\frac{s_{111}}{8}\\right)^{2}}{8}}} + \\frac{s_{001} z}{\\sqrt{\\frac{\\left(- \\frac{s_{000}}{8} - \\frac{s_{001}}{8} - \\frac{s_{010}}{8} - \\frac{s_{011}}{8} - \\frac{s_{100}}{8} - \\frac{s_{101}}{8} - \\frac{s_{110}}{8} + \\frac{7 s_{111}}{8}\\right)^{2}}{8} + \\frac{\\left(- \\frac{s_{000}}{8} - \\frac{s_{001}}{8} - \\frac{s_{010}}{8} - \\frac{s_{011}}{8} - \\frac{s_{100}}{8} - \\frac{s_{101}}{8} + \\frac{7 s_{110}}{8} - \\frac{s_{111}}{8}\\right)^{2}}{8} + \\frac{\\left(- \\frac{s_{000}}{8} - \\frac{s_{001}}{8} - \\frac{s_{010}}{8} - \\frac{s_{011}}{8} - \\frac{s_{100}}{8} + \\frac{7 s_{101}}{8} - \\frac{s_{110}}{8} - \\frac{s_{111}}{8}\\right)^{2}}{8} + \\frac{\\left(- \\frac{s_{000}}{8} - \\frac{s_{001}}{8} - \\frac{s_{010}}{8} - \\frac{s_{011}}{8} + \\frac{7 s_{100}}{8} - \\frac{s_{101}}{8} - \\frac{s_{110}}{8} - \\frac{s_{111}}{8}\\right)^{2}}{8} + \\frac{\\left(- \\frac{s_{000}}{8} - \\frac{s_{001}}{8} - \\frac{s_{010}}{8} + \\frac{7 s_{011}}{8} - \\frac{s_{100}}{8} - \\frac{s_{101}}{8} - \\frac{s_{110}}{8} - \\frac{s_{111}}{8}\\right)^{2}}{8} + \\frac{\\left(- \\frac{s_{000}}{8} - \\frac{s_{001}}{8} + \\frac{7 s_{010}}{8} - \\frac{s_{011}}{8} - \\frac{s_{100}}{8} - \\frac{s_{101}}{8} - \\frac{s_{110}}{8} - \\frac{s_{111}}{8}\\right)^{2}}{8} + \\frac{\\left(- \\frac{s_{000}}{8} + \\frac{7 s_{001}}{8} - \\frac{s_{010}}{8} - \\frac{s_{011}}{8} - \\frac{s_{100}}{8} - \\frac{s_{101}}{8} - \\frac{s_{110}}{8} - \\frac{s_{111}}{8}\\right)^{2}}{8} + \\frac{\\left(\\frac{7 s_{000}}{8} - \\frac{s_{001}}{8} - \\frac{s_{010}}{8} - \\frac{s_{011}}{8} - \\frac{s_{100}}{8} - \\frac{s_{101}}{8} - \\frac{s_{110}}{8} - \\frac{s_{111}}{8}\\right)^{2}}{8}}}\\right)\\right)$"
      ],
      "text/plain": [
       "x*(y*(s110*(1 - z)/sqrt((-s000/8 - s001/8 - s010/8 - s011/8 - s100/8 - s101/8 - s110/8 + 7*s111/8)**2/8 + (-s000/8 - s001/8 - s010/8 - s011/8 - s100/8 - s101/8 + 7*s110/8 - s111/8)**2/8 + (-s000/8 - s001/8 - s010/8 - s011/8 - s100/8 + 7*s101/8 - s110/8 - s111/8)**2/8 + (-s000/8 - s001/8 - s010/8 - s011/8 + 7*s100/8 - s101/8 - s110/8 - s111/8)**2/8 + (-s000/8 - s001/8 - s010/8 + 7*s011/8 - s100/8 - s101/8 - s110/8 - s111/8)**2/8 + (-s000/8 - s001/8 + 7*s010/8 - s011/8 - s100/8 - s101/8 - s110/8 - s111/8)**2/8 + (-s000/8 + 7*s001/8 - s010/8 - s011/8 - s100/8 - s101/8 - s110/8 - s111/8)**2/8 + (7*s000/8 - s001/8 - s010/8 - s011/8 - s100/8 - s101/8 - s110/8 - s111/8)**2/8) + s111*z/sqrt((-s000/8 - s001/8 - s010/8 - s011/8 - s100/8 - s101/8 - s110/8 + 7*s111/8)**2/8 + (-s000/8 - s001/8 - s010/8 - s011/8 - s100/8 - s101/8 + 7*s110/8 - s111/8)**2/8 + (-s000/8 - s001/8 - s010/8 - s011/8 - s100/8 + 7*s101/8 - s110/8 - s111/8)**2/8 + (-s000/8 - s001/8 - s010/8 - s011/8 + 7*s100/8 - s101/8 - s110/8 - s111/8)**2/8 + (-s000/8 - s001/8 - s010/8 + 7*s011/8 - s100/8 - s101/8 - s110/8 - s111/8)**2/8 + (-s000/8 - s001/8 + 7*s010/8 - s011/8 - s100/8 - s101/8 - s110/8 - s111/8)**2/8 + (-s000/8 + 7*s001/8 - s010/8 - s011/8 - s100/8 - s101/8 - s110/8 - s111/8)**2/8 + (7*s000/8 - s001/8 - s010/8 - s011/8 - s100/8 - s101/8 - s110/8 - s111/8)**2/8)) + (1 - y)*(s100*(1 - z)/sqrt((-s000/8 - s001/8 - s010/8 - s011/8 - s100/8 - s101/8 - s110/8 + 7*s111/8)**2/8 + (-s000/8 - s001/8 - s010/8 - s011/8 - s100/8 - s101/8 + 7*s110/8 - s111/8)**2/8 + (-s000/8 - s001/8 - s010/8 - s011/8 - s100/8 + 7*s101/8 - s110/8 - s111/8)**2/8 + (-s000/8 - s001/8 - s010/8 - s011/8 + 7*s100/8 - s101/8 - s110/8 - s111/8)**2/8 + (-s000/8 - s001/8 - s010/8 + 7*s011/8 - s100/8 - s101/8 - s110/8 - s111/8)**2/8 + (-s000/8 - s001/8 + 7*s010/8 - s011/8 - s100/8 - s101/8 - s110/8 - s111/8)**2/8 + (-s000/8 + 7*s001/8 - s010/8 - s011/8 - s100/8 - s101/8 - s110/8 - s111/8)**2/8 + (7*s000/8 - s001/8 - s010/8 - s011/8 - s100/8 - s101/8 - s110/8 - s111/8)**2/8) + s101*z/sqrt((-s000/8 - s001/8 - s010/8 - s011/8 - s100/8 - s101/8 - s110/8 + 7*s111/8)**2/8 + (-s000/8 - s001/8 - s010/8 - s011/8 - s100/8 - s101/8 + 7*s110/8 - s111/8)**2/8 + (-s000/8 - s001/8 - s010/8 - s011/8 - s100/8 + 7*s101/8 - s110/8 - s111/8)**2/8 + (-s000/8 - s001/8 - s010/8 - s011/8 + 7*s100/8 - s101/8 - s110/8 - s111/8)**2/8 + (-s000/8 - s001/8 - s010/8 + 7*s011/8 - s100/8 - s101/8 - s110/8 - s111/8)**2/8 + (-s000/8 - s001/8 + 7*s010/8 - s011/8 - s100/8 - s101/8 - s110/8 - s111/8)**2/8 + (-s000/8 + 7*s001/8 - s010/8 - s011/8 - s100/8 - s101/8 - s110/8 - s111/8)**2/8 + (7*s000/8 - s001/8 - s010/8 - s011/8 - s100/8 - s101/8 - s110/8 - s111/8)**2/8))) + (1 - x)*(y*(s010*(1 - z)/sqrt((-s000/8 - s001/8 - s010/8 - s011/8 - s100/8 - s101/8 - s110/8 + 7*s111/8)**2/8 + (-s000/8 - s001/8 - s010/8 - s011/8 - s100/8 - s101/8 + 7*s110/8 - s111/8)**2/8 + (-s000/8 - s001/8 - s010/8 - s011/8 - s100/8 + 7*s101/8 - s110/8 - s111/8)**2/8 + (-s000/8 - s001/8 - s010/8 - s011/8 + 7*s100/8 - s101/8 - s110/8 - s111/8)**2/8 + (-s000/8 - s001/8 - s010/8 + 7*s011/8 - s100/8 - s101/8 - s110/8 - s111/8)**2/8 + (-s000/8 - s001/8 + 7*s010/8 - s011/8 - s100/8 - s101/8 - s110/8 - s111/8)**2/8 + (-s000/8 + 7*s001/8 - s010/8 - s011/8 - s100/8 - s101/8 - s110/8 - s111/8)**2/8 + (7*s000/8 - s001/8 - s010/8 - s011/8 - s100/8 - s101/8 - s110/8 - s111/8)**2/8) + s011*z/sqrt((-s000/8 - s001/8 - s010/8 - s011/8 - s100/8 - s101/8 - s110/8 + 7*s111/8)**2/8 + (-s000/8 - s001/8 - s010/8 - s011/8 - s100/8 - s101/8 + 7*s110/8 - s111/8)**2/8 + (-s000/8 - s001/8 - s010/8 - s011/8 - s100/8 + 7*s101/8 - s110/8 - s111/8)**2/8 + (-s000/8 - s001/8 - s010/8 - s011/8 + 7*s100/8 - s101/8 - s110/8 - s111/8)**2/8 + (-s000/8 - s001/8 - s010/8 + 7*s011/8 - s100/8 - s101/8 - s110/8 - s111/8)**2/8 + (-s000/8 - s001/8 + 7*s010/8 - s011/8 - s100/8 - s101/8 - s110/8 - s111/8)**2/8 + (-s000/8 + 7*s001/8 - s010/8 - s011/8 - s100/8 - s101/8 - s110/8 - s111/8)**2/8 + (7*s000/8 - s001/8 - s010/8 - s011/8 - s100/8 - s101/8 - s110/8 - s111/8)**2/8)) + (1 - y)*(s000*(1 - z)/sqrt((-s000/8 - s001/8 - s010/8 - s011/8 - s100/8 - s101/8 - s110/8 + 7*s111/8)**2/8 + (-s000/8 - s001/8 - s010/8 - s011/8 - s100/8 - s101/8 + 7*s110/8 - s111/8)**2/8 + (-s000/8 - s001/8 - s010/8 - s011/8 - s100/8 + 7*s101/8 - s110/8 - s111/8)**2/8 + (-s000/8 - s001/8 - s010/8 - s011/8 + 7*s100/8 - s101/8 - s110/8 - s111/8)**2/8 + (-s000/8 - s001/8 - s010/8 + 7*s011/8 - s100/8 - s101/8 - s110/8 - s111/8)**2/8 + (-s000/8 - s001/8 + 7*s010/8 - s011/8 - s100/8 - s101/8 - s110/8 - s111/8)**2/8 + (-s000/8 + 7*s001/8 - s010/8 - s011/8 - s100/8 - s101/8 - s110/8 - s111/8)**2/8 + (7*s000/8 - s001/8 - s010/8 - s011/8 - s100/8 - s101/8 - s110/8 - s111/8)**2/8) + s001*z/sqrt((-s000/8 - s001/8 - s010/8 - s011/8 - s100/8 - s101/8 - s110/8 + 7*s111/8)**2/8 + (-s000/8 - s001/8 - s010/8 - s011/8 - s100/8 - s101/8 + 7*s110/8 - s111/8)**2/8 + (-s000/8 - s001/8 - s010/8 - s011/8 - s100/8 + 7*s101/8 - s110/8 - s111/8)**2/8 + (-s000/8 - s001/8 - s010/8 - s011/8 + 7*s100/8 - s101/8 - s110/8 - s111/8)**2/8 + (-s000/8 - s001/8 - s010/8 + 7*s011/8 - s100/8 - s101/8 - s110/8 - s111/8)**2/8 + (-s000/8 - s001/8 + 7*s010/8 - s011/8 - s100/8 - s101/8 - s110/8 - s111/8)**2/8 + (-s000/8 + 7*s001/8 - s010/8 - s011/8 - s100/8 - s101/8 - s110/8 - s111/8)**2/8 + (7*s000/8 - s001/8 - s010/8 - s011/8 - s100/8 - s101/8 - s110/8 - s111/8)**2/8)))"
      ]
     },
     "execution_count": 18,
     "metadata": {},
     "output_type": "execute_result"
    }
   ],
   "source": [
    "dist"
   ]
  },
  {
   "cell_type": "code",
   "execution_count": 31,
   "metadata": {},
   "outputs": [
    {
     "data": {
      "text/latex": [
       "$\\displaystyle 0$"
      ],
      "text/plain": [
       "0"
      ]
     },
     "execution_count": 31,
     "metadata": {},
     "output_type": "execute_result"
    }
   ],
   "source": [
    "simplify(diff(n000, s010) - (s000 * (miu - s010) / 8 / N**3))"
   ]
  },
  {
   "cell_type": "code",
   "execution_count": null,
   "metadata": {},
   "outputs": [],
   "source": []
  },
  {
   "cell_type": "code",
   "execution_count": 29,
   "metadata": {},
   "outputs": [
    {
     "data": {
      "text/latex": [
       "$\\displaystyle \\frac{1}{\\sqrt{\\left(- \\frac{s_{000}}{8} - \\frac{s_{001}}{8} - \\frac{s_{010}}{8} - \\frac{s_{011}}{8} - \\frac{s_{100}}{8} - \\frac{s_{101}}{8} - \\frac{s_{110}}{8} + \\frac{7 s_{111}}{8}\\right)^{2} + \\left(- \\frac{s_{000}}{8} - \\frac{s_{001}}{8} - \\frac{s_{010}}{8} - \\frac{s_{011}}{8} - \\frac{s_{100}}{8} - \\frac{s_{101}}{8} + \\frac{7 s_{110}}{8} - \\frac{s_{111}}{8}\\right)^{2} + \\left(- \\frac{s_{000}}{8} - \\frac{s_{001}}{8} - \\frac{s_{010}}{8} - \\frac{s_{011}}{8} - \\frac{s_{100}}{8} + \\frac{7 s_{101}}{8} - \\frac{s_{110}}{8} - \\frac{s_{111}}{8}\\right)^{2} + \\left(- \\frac{s_{000}}{8} - \\frac{s_{001}}{8} - \\frac{s_{010}}{8} - \\frac{s_{011}}{8} + \\frac{7 s_{100}}{8} - \\frac{s_{101}}{8} - \\frac{s_{110}}{8} - \\frac{s_{111}}{8}\\right)^{2} + \\left(- \\frac{s_{000}}{8} - \\frac{s_{001}}{8} - \\frac{s_{010}}{8} + \\frac{7 s_{011}}{8} - \\frac{s_{100}}{8} - \\frac{s_{101}}{8} - \\frac{s_{110}}{8} - \\frac{s_{111}}{8}\\right)^{2} + \\left(- \\frac{s_{000}}{8} - \\frac{s_{001}}{8} + \\frac{7 s_{010}}{8} - \\frac{s_{011}}{8} - \\frac{s_{100}}{8} - \\frac{s_{101}}{8} - \\frac{s_{110}}{8} - \\frac{s_{111}}{8}\\right)^{2} + \\left(- \\frac{s_{000}}{8} + \\frac{7 s_{001}}{8} - \\frac{s_{010}}{8} - \\frac{s_{011}}{8} - \\frac{s_{100}}{8} - \\frac{s_{101}}{8} - \\frac{s_{110}}{8} - \\frac{s_{111}}{8}\\right)^{2} + \\left(\\frac{7 s_{000}}{8} - \\frac{s_{001}}{8} - \\frac{s_{010}}{8} - \\frac{s_{011}}{8} - \\frac{s_{100}}{8} - \\frac{s_{101}}{8} - \\frac{s_{110}}{8} - \\frac{s_{111}}{8}\\right)^{2}}}$"
      ],
      "text/plain": [
       "1/sqrt((-s000/8 - s001/8 - s010/8 - s011/8 - s100/8 - s101/8 - s110/8 + 7*s111/8)**2 + (-s000/8 - s001/8 - s010/8 - s011/8 - s100/8 - s101/8 + 7*s110/8 - s111/8)**2 + (-s000/8 - s001/8 - s010/8 - s011/8 - s100/8 + 7*s101/8 - s110/8 - s111/8)**2 + (-s000/8 - s001/8 - s010/8 - s011/8 + 7*s100/8 - s101/8 - s110/8 - s111/8)**2 + (-s000/8 - s001/8 - s010/8 + 7*s011/8 - s100/8 - s101/8 - s110/8 - s111/8)**2 + (-s000/8 - s001/8 + 7*s010/8 - s011/8 - s100/8 - s101/8 - s110/8 - s111/8)**2 + (-s000/8 + 7*s001/8 - s010/8 - s011/8 - s100/8 - s101/8 - s110/8 - s111/8)**2 + (7*s000/8 - s001/8 - s010/8 - s011/8 - s100/8 - s101/8 - s110/8 - s111/8)**2)"
      ]
     },
     "execution_count": 29,
     "metadata": {},
     "output_type": "execute_result"
    }
   ],
   "source": [
    "1/N"
   ]
  },
  {
   "cell_type": "code",
   "execution_count": null,
   "metadata": {},
   "outputs": [],
   "source": []
  },
  {
   "attachments": {},
   "cell_type": "markdown",
   "metadata": {},
   "source": [
    "# Normal reg"
   ]
  },
  {
   "cell_type": "code",
   "execution_count": 2,
   "metadata": {},
   "outputs": [
    {
     "name": "stdout",
     "output_type": "stream",
     "text": [
      "-2*norm000[2]*(1 - sqrt(norm000[0]**2 + norm000[1]**2 + norm000[2]**2))/sqrt(norm000[0]**2 + norm000[1]**2 + norm000[2]**2)\n"
     ]
    },
    {
     "data": {
      "text/latex": [
       "$\\displaystyle - \\frac{2 norm000[2] \\left(1 - \\sqrt{norm000[0]^{2} + norm000[1]^{2} + norm000[2]^{2}}\\right)}{\\sqrt{norm000[0]^{2} + norm000[1]^{2} + norm000[2]^{2}}}$"
      ],
      "text/plain": [
       "-2*norm000[2]*(1 - sqrt(norm000[0]**2 + norm000[1]**2 + norm000[2]**2))/sqrt(norm000[0]**2 + norm000[1]**2 + norm000[2]**2)"
      ]
     },
     "execution_count": 2,
     "metadata": {},
     "output_type": "execute_result"
    }
   ],
   "source": [
    "s000, s001, s010, s011, s100, s101, s110, s111, \\\n",
    "    s002, s012, s102, s112, \\\n",
    "    s020, s021, s120, s121, \\\n",
    "    s200, s201, s210, s211 = symbols('s000 s001 s010 s011 s100 s101 s110 s111 s002 s012 s102 s112 s020 s021 s120 s121 s200 s201 s210 s211')\n",
    "    \n",
    "_norm000_dx, _norm000_dy, _norm000_dz, norm000, _norm001_dx, _norm001_dy, _norm001_dz, norm001 = symbols(\"norm000[0] norm000[1] norm000[2] NORM3(norm000) norm001[0] norm001[1] norm001[2] NORM3(norm001) \")\n",
    "\n",
    "# _norm000_dx = ((s100+s101+s110+s111) - (s000+s001+s010+s011))/4\n",
    "# _norm000_dy = ((s010+s011+s110+s111) - (s000+s001+s100+s101))/4\n",
    "# _norm000_dz = ((s001+s011+s101+s111) - (s000+s010+s100+s110))/4\n",
    "norm000 = sqrt(_norm000_dx**2 + _norm000_dy**2 + _norm000_dz**2)\n",
    "\n",
    "_norm001_dx = ((s101+s102+s111+s112) - (s001+s002+s011+s012))/4\n",
    "_norm001_dy = ((s011+s012+s111+s112) - (s001+s002+s101+s102))/4\n",
    "_norm001_dz = ((s002+s012+s102+s112) - (s001+s011+s101+s111))/4\n",
    "norm001 = sqrt(_norm001_dx**2 + _norm001_dy**2 + _norm001_dz**2)\n",
    "\n",
    "\n",
    "# norm000 = sqrt(_norm000_dx**2 + _norm000_dy**2 + _norm000_dz**2)\n",
    "# norm001 = sqrt(_norm001_dx**2 + _norm001_dy**2 + _norm001_dz**2)\n",
    "\n",
    "\n",
    "# Ex = (_norm000_dx / norm000 - _norm001_dx/norm001)**2\n",
    "# Ey = (_norm000_dy / norm000 - _norm001_dy/norm001)**2\n",
    "# Ez = (_norm000_dz / norm000 - _norm001_dz/norm001)**2\n",
    "\n",
    "s = s112\n",
    "\n",
    "exp = diff((norm001 - norm000)**2, _norm000_dz)\n",
    "print(exp)\n",
    "exp\n",
    "# exp = diff(_norm001_dy, s)\n",
    "# print(exp)\n",
    "# exp = diff(_norm001_dz, s)\n",
    "# print(exp)"
   ]
  },
  {
   "cell_type": "code",
   "execution_count": 22,
   "metadata": {},
   "outputs": [
    {
     "name": "stdout",
     "output_type": "stream",
     "text": [
      "[0.8164965809277261, 0.4082482904638631, 0.4082482904638631]\n",
      "1.6329931618554523\n",
      "2.449489742783178\n"
     ]
    }
   ],
   "source": [
    "xs = [-1, 1]\n",
    "ys = [1, 2]\n",
    "zs = [1, 2]\n",
    "\n",
    "dx = xs[1] - xs[0]\n",
    "dy = ys[1] - ys[0]\n",
    "dz = zs[1] - zs[0]\n",
    "\n",
    "n = np.sqrt(dx**2 + dy**2 + dz**2)\n",
    "\n",
    "print([dx/n, dy/n, dz/n])\n",
    "print(np.sum([dx/n, dy/n, dz/n]))\n",
    "print(n)"
   ]
  },
  {
   "cell_type": "code",
   "execution_count": null,
   "metadata": {},
   "outputs": [],
   "source": [
    "        # // dEx/dx + dEy/dx + dEz/dx\n",
    "        # float const de001_d000x = (_norm000[0]/_NORM3(_norm000) - _norm001[0]/_NORM3(_norm001)) * \\ \n",
    "        #                         (-2.f*_SQR(_norm000[0])/_CUBIC(_NORM3(_norm000)) + 2.f/_NORM3(_norm000)) \\ \n",
    "        #                         + -2.f*_norm000[0]*_norm000[1]*(_norm000[1]/_NORM3(_norm000) - _norm001[1]/_NORM3(_norm001)) \\\n",
    "        #                         /_CUBIC(_NORM3(_norm000)) \\\n",
    "        #                         + -2.f*_norm000[0]*_norm000[2]*(_norm000[2]/_NORM3(_norm000) - _norm001[2]/_NORM3(_norm001)) \\\n",
    "        #                         /_CUBIC(_NORM3(_norm000));\n",
    "\n",
    "        # float const de001_d000y = (_norm000[1]/_NORM3(_norm000) - _norm001[1]/_NORM3(_norm001)) * \\ \n",
    "        #                         (-2.f*_SQR(_norm000[1])/_CUBIC(_NORM3(_norm000)) + 2.f/_NORM3(_norm000)) \\ \n",
    "        #                         + -2.f*_norm000[0]*_norm000[1]*(_norm000[0]/_NORM3(_norm000) - _norm001[0]/_NORM3(_norm001)) \\\n",
    "        #                         /_CUBIC(_NORM3(_norm000)) \\\n",
    "        #                         + -2.f*_norm000[1]*_norm000[2]*(_norm000[2]/_NORM3(_norm000) - _norm001[2]/_NORM3(_norm001)) \\\n",
    "        #                         /_CUBIC(_NORM3(_norm000));\n",
    "\n",
    "        # float const de001_d000z = (_norm000[2]/_NORM3(_norm000) - _norm001[2]/_NORM3(_norm001)) * \\ \n",
    "        #                         (-2.f*_SQR(_norm000[2])/_CUBIC(_NORM3(_norm000)) + 2.f/_NORM3(_norm000)) \\ \n",
    "        #                         + -2.f*_norm000[0]*_norm000[2]*(_norm000[0]/_NORM3(_norm000) - _norm001[0]/_NORM3(_norm001)) \\\n",
    "        #                         /_CUBIC(_NORM3(_norm000)) \\\n",
    "        #                         + -2.f*_norm000[1]*_norm000[2]*(_norm000[1]/_NORM3(_norm000) - _norm001[1]/_NORM3(_norm001)) \\\n",
    "        #                         /_CUBIC(_NORM3(_norm000));\n",
    "\n",
    "\n",
    "\n",
    "\n",
    "        # _add_surface_grad(x, y, z, de001_d000x, de001_d000y, de001_d000z, \n",
    "        #                   scale, links, ddim, idx, grad_data);\n",
    "\n",
    "        \n",
    "\n",
    "\n",
    "        # float const de001_d001x = (_norm000[0]/_NORM3(_norm000) - _norm001[0]/_NORM3(_norm001)) * \\ \n",
    "        #                         (2.f*_SQR(_norm001[0])/_CUBIC(_NORM3(_norm001)) - 2.f/_NORM3(_norm001)) \\\n",
    "        #                         + 2.f*_norm001[0]*_norm001[1]*(_norm000[1]/_NORM3(_norm000) - _norm001[1]/_NORM3(_norm001)) \\\n",
    "        #                         /_CUBIC(_NORM3(_norm001)) \\\n",
    "        #                         + 2.f*_norm001[0]*_norm001[2]*(_norm000[2]/_NORM3(_norm000) - _norm001[2]/_NORM3(_norm001)) \\\n",
    "        #                         /_CUBIC(_NORM3(_norm001));\n",
    "\n",
    "        # float const de001_d001y = (_norm000[1]/_NORM3(_norm000) - _norm001[1]/_NORM3(_norm001)) * \\ \n",
    "        #                         (2.f*_SQR(_norm001[1])/_CUBIC(_NORM3(_norm001)) - 2.f/_NORM3(_norm001)) \\ \n",
    "        #                         + 2.f*_norm001[0]*_norm001[1]*(_norm000[0]/_NORM3(_norm000) - _norm001[0]/_NORM3(_norm001)) \\\n",
    "        #                         /_CUBIC(_NORM3(_norm001)) \\\n",
    "        #                         + 2.f*_norm001[1]*_norm001[2]*(_norm000[2]/_NORM3(_norm000) - _norm001[2]/_NORM3(_norm001)) \\\n",
    "        #                         /_CUBIC(_NORM3(_norm001));\n",
    "\n",
    "        # float const de001_d001z = (_norm000[2]/_NORM3(_norm000) - _norm001[2]/_NORM3(_norm001)) * \\ \n",
    "        #                         (2.f*_SQR(_norm001[2])/_CUBIC(_NORM3(_norm001)) - 2.f/_NORM3(_norm001)) \\ \n",
    "        #                         + 2.f*_norm001[0]*_norm001[2]*(_norm000[0]/_NORM3(_norm000) - _norm001[0]/_NORM3(_norm001)) \\\n",
    "        #                         /_CUBIC(_NORM3(_norm001)) \\\n",
    "        #                         + 2.f*_norm001[1]*_norm001[2]*(_norm000[1]/_NORM3(_norm000) - _norm001[1]/_NORM3(_norm001)) \\\n",
    "        #                         /_CUBIC(_NORM3(_norm001));\n",
    "\n",
    "        # _add_surface_grad(x, y, z+1, de001_d001x, de001_d001y, de001_d001z,\n",
    "        #                   scale, links, ddim, idx, grad_data);"
   ]
  },
  {
   "cell_type": "code",
   "execution_count": 25,
   "metadata": {},
   "outputs": [
    {
     "name": "stdout",
     "output_type": "stream",
     "text": [
      "norm001[1]*norm001[2]/(norm001[0]**2 + norm001[1]**2 + norm001[2]**2)**(3/2)\n"
     ]
    },
    {
     "data": {
      "text/latex": [
       "$\\displaystyle \\frac{norm001[1] norm001[2]}{\\left(norm001[0]^{2} + norm001[1]^{2} + norm001[2]^{2}\\right)^{\\frac{3}{2}}}$"
      ],
      "text/plain": [
       "norm001[1]*norm001[2]/(norm001[0]**2 + norm001[1]**2 + norm001[2]**2)**(3/2)"
      ]
     },
     "execution_count": 25,
     "metadata": {},
     "output_type": "execute_result"
    }
   ],
   "source": [
    "symbols('mark(1:4)(1:4)')\n",
    "s000, s001, s010, s011, s100, s101, s110, s111, \\\n",
    "    s002, s012, s102, s112, \\\n",
    "    s020, s021, s120, s121, \\\n",
    "    s200, s201, s210, s211 = symbols('s000 s001 s010 s011 s100 s101 s110 s111 s002 s012 s102 s112 s020 s021 s120 s121 s200 s201 s210 s211')\n",
    "    \n",
    "\n",
    "_norm000_dx = ((s100+s101+s110+s111) - (s000+s001+s010+s011))/4\n",
    "_norm000_dy = ((s010+s011+s110+s111) - (s000+s001+s100+s101))/4\n",
    "_norm000_dz = ((s001+s011+s101+s111) - (s000+s010+s100+s110))/4\n",
    "\n",
    "_norm001_dx = ((s101+s102+s111+s112) - (s001+s002+s011+s012))/4\n",
    "_norm001_dy = ((s011+s012+s111+s112) - (s001+s002+s101+s102))/4\n",
    "_norm001_dz = ((s002+s012+s102+s112) - (s001+s011+s101+s111))/4\n",
    "\n",
    "_norm000_dx, _norm000_dy, _norm000_dz, norm000, _norm001_dx, _norm001_dy, _norm001_dz, norm001 = symbols(\"norm000[0] norm000[1] norm000[2] NORM3(norm000) norm001[0] norm001[1] norm001[2] NORM3(norm001) \")\n",
    "\n",
    "norm000 = sqrt(_norm000_dx**2 + _norm000_dy**2 + _norm000_dz**2)\n",
    "norm001 = sqrt(_norm001_dx**2 + _norm001_dy**2 + _norm001_dz**2)\n",
    "\n",
    "\n",
    "# Ex = (_norm000_dx / norm000 - _norm001_dx/norm001)**2\n",
    "# Ey = (_norm000_dy / norm000 - _norm001_dy/norm001)**2\n",
    "# Ez = (_norm000_dz / norm000 - _norm001_dz/norm001)**2\n",
    "Ex = (_norm000_dx / norm000 - _norm001_dx/norm001)\n",
    "Ey = (_norm000_dy / norm000 - _norm001_dy/norm001)\n",
    "Ez = (_norm000_dz / norm000 - _norm001_dz/norm001)\n",
    "\n",
    "exp = diff(Ez, _norm001_dy)\n",
    "# exp = diff(Ey, _norm000_dx) + diff(Ez, _norm000_dx)\n",
    "# exp = cancel(exp)\n",
    "print(exp)\n",
    "exp"
   ]
  },
  {
   "cell_type": "code",
   "execution_count": 10,
   "metadata": {},
   "outputs": [
    {
     "data": {
      "text/latex": [
       "$\\displaystyle 0$"
      ],
      "text/plain": [
       "0"
      ]
     },
     "execution_count": 10,
     "metadata": {},
     "output_type": "execute_result"
    }
   ],
   "source": [
    "exp - (-_norm000_dx**2 / norm000**3 + 1/norm000)"
   ]
  },
  {
   "cell_type": "code",
   "execution_count": null,
   "metadata": {},
   "outputs": [],
   "source": []
  },
  {
   "cell_type": "code",
   "execution_count": null,
   "metadata": {},
   "outputs": [],
   "source": []
  },
  {
   "cell_type": "code",
   "execution_count": 51,
   "metadata": {},
   "outputs": [
    {
     "name": "stdout",
     "output_type": "stream",
     "text": [
      "2*norm001[0]*norm001[1]*(norm000[1]/sqrt(norm000[0]**2 + norm000[1]**2 + norm000[2]**2) - norm001[1]/sqrt(norm001[0]**2 + norm001[1]**2 + norm001[2]**2))/(norm001[0]**2 + norm001[1]**2 + norm001[2]**2)**(3/2) + 2*norm001[0]*norm001[2]*(norm000[2]/sqrt(norm000[0]**2 + norm000[1]**2 + norm000[2]**2) - norm001[2]/sqrt(norm001[0]**2 + norm001[1]**2 + norm001[2]**2))/(norm001[0]**2 + norm001[1]**2 + norm001[2]**2)**(3/2)\n"
     ]
    },
    {
     "data": {
      "text/latex": [
       "$\\displaystyle \\frac{2 norm001[0] norm001[1] \\left(\\frac{norm000[1]}{\\sqrt{norm000[0]^{2} + norm000[1]^{2} + norm000[2]^{2}}} - \\frac{norm001[1]}{\\sqrt{norm001[0]^{2} + norm001[1]^{2} + norm001[2]^{2}}}\\right)}{\\left(norm001[0]^{2} + norm001[1]^{2} + norm001[2]^{2}\\right)^{\\frac{3}{2}}} + \\frac{2 norm001[0] norm001[2] \\left(\\frac{norm000[2]}{\\sqrt{norm000[0]^{2} + norm000[1]^{2} + norm000[2]^{2}}} - \\frac{norm001[2]}{\\sqrt{norm001[0]^{2} + norm001[1]^{2} + norm001[2]^{2}}}\\right)}{\\left(norm001[0]^{2} + norm001[1]^{2} + norm001[2]^{2}\\right)^{\\frac{3}{2}}}$"
      ],
      "text/plain": [
       "2*norm001[0]*norm001[1]*(norm000[1]/sqrt(norm000[0]**2 + norm000[1]**2 + norm000[2]**2) - norm001[1]/sqrt(norm001[0]**2 + norm001[1]**2 + norm001[2]**2))/(norm001[0]**2 + norm001[1]**2 + norm001[2]**2)**(3/2) + 2*norm001[0]*norm001[2]*(norm000[2]/sqrt(norm000[0]**2 + norm000[1]**2 + norm000[2]**2) - norm001[2]/sqrt(norm001[0]**2 + norm001[1]**2 + norm001[2]**2))/(norm001[0]**2 + norm001[1]**2 + norm001[2]**2)**(3/2)"
      ]
     },
     "execution_count": 51,
     "metadata": {},
     "output_type": "execute_result"
    }
   ],
   "source": [
    "exp = diff(Ex, _norm001_dx)\n",
    "exp = diff(Ey, _norm001_dx) + diff(Ez, _norm001_dx)\n",
    "print(exp)\n",
    "exp"
   ]
  },
  {
   "cell_type": "code",
   "execution_count": 11,
   "metadata": {},
   "outputs": [
    {
     "data": {
      "text/latex": [
       "$\\displaystyle 2 x_{000} - 2 x_{001}$"
      ],
      "text/plain": [
       "2*x000 - 2*x001"
      ]
     },
     "execution_count": 11,
     "metadata": {},
     "output_type": "execute_result"
    }
   ],
   "source": [
    "# x000 = dn000_dx / norm000\n",
    "# x001 = dn001_dx / norm001\n",
    "x000, x001 = symbols('x000, x001')\n",
    "diff((x000 - x001)**2, x000)"
   ]
  },
  {
   "cell_type": "code",
   "execution_count": null,
   "metadata": {},
   "outputs": [],
   "source": []
  },
  {
   "cell_type": "code",
   "execution_count": 19,
   "metadata": {},
   "outputs": [],
   "source": [
    "f0,f1,f2,f3 = symbols('f0 f1 f2 f3')\n",
    "D = f1**2 - 4.0 * f2 * f0\n",
    "\n",
    "sqrt_D = sqrt(D)\n",
    "t0 = (-f1 + sqrt_D) / (2.0 * f2)\n",
    "t1 = (-f1 - sqrt_D) / (2.0 * f2)"
   ]
  },
  {
   "cell_type": "code",
   "execution_count": 20,
   "metadata": {},
   "outputs": [
    {
     "data": {
      "text/latex": [
       "$\\displaystyle \\frac{0.5 \\left(- f_{1} + 2.0 \\sqrt{- f_{0} f_{2} + 0.25 f_{1}^{2}}\\right)}{f_{2}}$"
      ],
      "text/plain": [
       "0.5*(-f1 + 2.0*sqrt(-f0*f2 + 0.25*f1**2))/f2"
      ]
     },
     "execution_count": 20,
     "metadata": {},
     "output_type": "execute_result"
    }
   ],
   "source": [
    "t0"
   ]
  },
  {
   "cell_type": "code",
   "execution_count": 21,
   "metadata": {},
   "outputs": [
    {
     "data": {
      "text/latex": [
       "$\\displaystyle - \\frac{0.5}{\\sqrt{- f_{0} f_{2} + 0.25 f_{1}^{2}}}$"
      ],
      "text/plain": [
       "-0.5/sqrt(-f0*f2 + 0.25*f1**2)"
      ]
     },
     "execution_count": 21,
     "metadata": {},
     "output_type": "execute_result"
    }
   ],
   "source": [
    "diff(t0, f0)"
   ]
  },
  {
   "cell_type": "code",
   "execution_count": 43,
   "metadata": {},
   "outputs": [],
   "source": [
    "a,b,c,d = symbols('a b c d')\n",
    "\n",
    "f = ((3*c/a) - ((b**2) / (a**2))) / 3                      \n",
    "g = (((2*(b**3)) / (a**3)) - ((9*b*c) / (a**2)) + (27*d/a)) / 27          \n",
    "h = ((g**2) / 4 + (f**3) / 27)\n",
    "\n"
   ]
  },
  {
   "cell_type": "code",
   "execution_count": 21,
   "metadata": {},
   "outputs": [
    {
     "name": "stdout",
     "output_type": "stream",
     "text": [
      "-c/a**2 + 2*b**2/(3*a**3)\n"
     ]
    },
    {
     "data": {
      "text/latex": [
       "$\\displaystyle - \\frac{c}{a^{2}} + \\frac{2 b^{2}}{3 a^{3}}$"
      ],
      "text/plain": [
       "-c/a**2 + 2*b**2/(3*a**3)"
      ]
     },
     "execution_count": 21,
     "metadata": {},
     "output_type": "execute_result"
    }
   ],
   "source": [
    "exp = diff(f,a)\n",
    "print(exp)\n",
    "exp"
   ]
  },
  {
   "cell_type": "code",
   "execution_count": 31,
   "metadata": {},
   "outputs": [
    {
     "name": "stdout",
     "output_type": "stream",
     "text": [
      "1/a\n"
     ]
    },
    {
     "data": {
      "text/latex": [
       "$\\displaystyle \\frac{1}{a}$"
      ],
      "text/plain": [
       "1/a"
      ]
     },
     "execution_count": 31,
     "metadata": {},
     "output_type": "execute_result"
    }
   ],
   "source": [
    "# three real and equal roots\n",
    "exp = diff(d/a, d)\n",
    "print(exp)\n",
    "exp"
   ]
  },
  {
   "cell_type": "code",
   "execution_count": 6,
   "metadata": {},
   "outputs": [
    {
     "name": "stdout",
     "output_type": "stream",
     "text": [
      "-4.0*f0\n"
     ]
    },
    {
     "data": {
      "text/latex": [
       "$\\displaystyle - 4.0 f_{0}$"
      ],
      "text/plain": [
       "-4.0*f0"
      ]
     },
     "execution_count": 6,
     "metadata": {},
     "output_type": "execute_result"
    }
   ],
   "source": [
    "f0,f1,f2,f3 = symbols('f0 f1 f2 f3')\n",
    "D = symbols('D')\n",
    "\n",
    "_b, _c, _d = f2, f1, f0\n",
    "D = _c**2 - 4.0 * _b * _d\n",
    "sqrt_D = sqrt(D)\n",
    "\n",
    "# two real roots\n",
    "t0 = (-_c - sqrt_D) / (2.0 * _b)\n",
    "t1 = (-_c + sqrt_D) / (2.0 * _b)\n",
    "\n",
    "exp = diff(D, f2)\n",
    "print(exp)\n",
    "exp\n"
   ]
  },
  {
   "cell_type": "code",
   "execution_count": 16,
   "metadata": {},
   "outputs": [
    {
     "name": "stdout",
     "output_type": "stream",
     "text": [
      "-1/(3*a)\n"
     ]
    },
    {
     "data": {
      "text/latex": [
       "$\\displaystyle - \\frac{1}{3 a}$"
      ],
      "text/plain": [
       "-1/(3*a)"
      ]
     },
     "execution_count": 16,
     "metadata": {},
     "output_type": "execute_result"
    }
   ],
   "source": [
    "a,b,c,d = symbols('a b c d')\n",
    "f,g,h = symbols('f g h')\n",
    "i, j, k, M, N, P = symbols(\"i j k M N P\")\n",
    "\n",
    "# f = ((3*c/a) - ((b**2) / (a**2))) / 3                      \n",
    "# g = (((2*(b**3)) / (a**3)) - ((9*b*c) / (a**2)) + (27*d/a)) / 27          \n",
    "# h = ((g**2) / 4 + (f**3) / 27)\n",
    "\n",
    "\n",
    "# i = sqrt((g**2 / 4) - h)\n",
    "# j = cbrt(i)\n",
    "# k = acos(-(g / (2 * i)))\n",
    "M = cos(k / 3)       \n",
    "N = sqrt(3) * sin(k / 3)\n",
    "P = (b / (3 * a)) * -1\n",
    "\n",
    "\n",
    "outs0 = (2 * j * cos(k / 3) - (b / (3 * a)))\n",
    "outs1 = (-1 *j * (M + N) + P)\n",
    "outs2 = (-1 *j * (M - N) + P)\n",
    "\n",
    "exp = diff(outs2, b)\n",
    "print(exp)\n",
    "exp\n"
   ]
  },
  {
   "cell_type": "code",
   "execution_count": 18,
   "metadata": {},
   "outputs": [
    {
     "data": {
      "text/latex": [
       "$\\displaystyle \\frac{2 \\sqrt{3} \\sqrt[6]{- \\frac{\\left(3 a c - b^{2}\\right)^{3}}{a^{6}}} \\cos{\\left(\\frac{\\operatorname{acos}{\\left(\\frac{- \\frac{27 d}{2} + \\frac{9 b c}{2 a} - \\frac{b^{3}}{a^{2}}}{a \\sqrt{\\frac{- 27 c^{3} + \\frac{27 b^{2} c^{2}}{a} - \\frac{9 b^{4} c}{a^{2}} + \\frac{b^{6}}{a^{3}}}{a^{3}}}} \\right)}}{3} + \\frac{\\pi}{6} \\right)}}{3}$"
      ],
      "text/plain": [
       "2*sqrt(3)*(-(3*a*c - b**2)**3/a**6)**(1/6)*cos(acos((-27*d/2 + 9*b*c/(2*a) - b**3/a**2)/(a*sqrt((-27*c**3 + 27*b**2*c**2/a - 9*b**4*c/a**2 + b**6/a**3)/a**3)))/3 + pi/6)/3"
      ]
     },
     "execution_count": 18,
     "metadata": {},
     "output_type": "execute_result"
    }
   ],
   "source": [
    "a,b,c,d = symbols('a b c d')\n",
    "# a = 1\n",
    "# f,g,h = symbols('f g h')\n",
    "# i, j, k, M, N, P = symbols(\"i j k M N P\")\n",
    "\n",
    "f = ((3*c/a) - ((b**2) / (a**2))) / 3                      \n",
    "g = (((2*(b**3)) / (a**3)) - ((9*b*c) / (a**2)) + (27*d/a)) / 27          \n",
    "h = ((g**2) / 4 + (f**3) / 27)\n",
    "\n",
    "\n",
    "i = sqrt((g**2 / 4) - h)\n",
    "j = cbrt(i)\n",
    "k = acos(-(g / (2 * i)))\n",
    "M = cos(k / 3)       \n",
    "N = sqrt(3) * sin(k / 3)\n",
    "P = (b / (3 * a)) * -1\n",
    "\n",
    "\n",
    "outs0 = (2 * j * cos(k / 3) - (b / (3 * a)))\n",
    "outs1 = (-1 *j * (M + N) + P)\n",
    "outs2 = (-1 *j * (M - N) + P)\n",
    "\n",
    "\n",
    "simplify(outs0 - outs2)"
   ]
  },
  {
   "cell_type": "code",
   "execution_count": 14,
   "metadata": {},
   "outputs": [
    {
     "data": {
      "text/latex": [
       "$\\displaystyle \\mathbb{R}$"
      ],
      "text/plain": [
       "Reals"
      ]
     },
     "execution_count": 14,
     "metadata": {},
     "output_type": "execute_result"
    }
   ],
   "source": [
    "solveset(a**2 >=0, a, S.Reals)"
   ]
  },
  {
   "cell_type": "code",
   "execution_count": 28,
   "metadata": {},
   "outputs": [
    {
     "name": "stdout",
     "output_type": "stream",
     "text": [
      "-1/(3*a)\n"
     ]
    },
    {
     "data": {
      "text/latex": [
       "$\\displaystyle - \\frac{1}{3 a}$"
      ],
      "text/plain": [
       "-1/(3*a)"
      ]
     },
     "execution_count": 28,
     "metadata": {},
     "output_type": "execute_result"
    }
   ],
   "source": [
    "a,b,c,d = symbols('a b c d')\n",
    "f,g,h = symbols('f g h')\n",
    "_R, _S, _T, _U = symbols(\"_R _S _T _U\")\n",
    "\n",
    "# f = ((3*c/a) - ((b**2) / (a**2))) / 3                      \n",
    "# g = (((2*(b**3)) / (a**3)) - ((9*b*c) / (a**2)) + (27*d/a)) / 27          \n",
    "# h = ((g**2) / 4 + (f**3) / 27)\n",
    "\n",
    "_R = -(g / 2) + sqrt(h)\n",
    "# _S = _COND_CBRT(_R)\n",
    "\n",
    "_T = -(g / 2) - sqrt(h)\n",
    "# _U = _COND_CBRT(_T)\n",
    "\n",
    "st0 = ((_S + _U) - (b / (3 * a)))\n",
    "\n",
    "exp = diff(st0, b)\n",
    "print(exp)\n",
    "exp"
   ]
  },
  {
   "cell_type": "code",
   "execution_count": 52,
   "metadata": {},
   "outputs": [
    {
     "name": "stdout",
     "output_type": "stream",
     "text": [
      "(-ray.l[0] + ray.origin[0])*(-ray.l[1] + ray.origin[1])*(-ray.l[2] + ray.origin[2])\n",
      "\n",
      "ray.dir[0]*(-ray.l[1] + ray.origin[1])*(-ray.l[2] + ray.origin[2]) + (-ray.l[0] + ray.origin[0])*(ray.dir[1]*(-ray.l[2] + ray.origin[2]) + ray.dir[2]*(-ray.l[1] + ray.origin[1]))\n",
      "\n",
      "ray.dir[0]*(ray.dir[1]*(-ray.l[2] + ray.origin[2]) + ray.dir[2]*(-ray.l[1] + ray.origin[1])) + ray.dir[1]*ray.dir[2]*(-ray.l[0] + ray.origin[0])\n",
      "\n",
      "ray.dir[0]*ray.dir[1]*ray.dir[2]\n",
      "\n"
     ]
    }
   ],
   "source": [
    "s000, s001, s010, s011, s100, s101, s110, s111, \\\n",
    "    s002, s012, s102, s112, \\\n",
    "    s020, s021, s120, s121, \\\n",
    "    s200, s201, s210, s211 = symbols('s000 s001 s010 s011 s100 s101 s110 s111 s002 s012 s102 s112 s020 s021 s120 s121 s200 s201 s210 s211')\n",
    "o0, o1, o2 = symbols('ray.origin[0] ray.origin[1] ray.origin[2]')\n",
    "dir0, dir1, dir2 = symbols('ray.dir[0] ray.dir[1] ray.dir[2]')\n",
    "l0, l1, l2 = symbols('ray.l[0] ray.l[1] ray.l[2]')\n",
    "\n",
    "a00 = s000 * (1-o2+l2) + s001 * (o2-l2)\n",
    "a01 = s010 * (1-o2+l2) + s011 * (o2-l2)\n",
    "a10 = s100 * (1-o2+l2) + s101 * (o2-l2)\n",
    "a11 = s110 * (1-o2+l2) + s111 * (o2-l2)\n",
    "\n",
    "b00 = -s000 + s001\n",
    "b01 = -s010 + s011\n",
    "b10 = -s100 + s101\n",
    "b11 = -s110 + s111\n",
    "\n",
    "c0 = a00*(1-o1+l1) + a01*(o1-l1)\n",
    "c1 = a10*(1-o1+l1) + a11*(o1-l1)\n",
    "\n",
    "d0 = -(a00*dir1 - dir2*b00*(1-o1+l1)) + (a01*dir1 + dir2*b01*(o1-l1))\n",
    "d1 = -(a10*dir1 - dir2*b10*(1-o1+l1)) + (a11*dir1 + dir2*b11*(o1-l1))\n",
    "\n",
    "e0 = -dir1*dir2*b00 + dir1*dir2*b01\n",
    "e1 = -dir1*dir2*b10 + dir1*dir2*b11\n",
    "\n",
    "fs3 = -e0*dir0 + e1*dir0\n",
    "fs2 = -d0*dir0+e0*(1-o0+l0) + d1*dir0+e1*(o0-l0)\n",
    "fs1 = -c0*dir0 + d0*(1-o0+l0) + c1*dir0 + d1*(o0-l0)\n",
    "fs0 = c0*(1-o0+l0) + c1*(o0-l0)\n",
    "\n",
    "s = s111\n",
    "\n",
    "exp = diff(fs0, s)\n",
    "print(exp)\n",
    "print()\n",
    "exp = diff(fs1, s)\n",
    "print(exp)\n",
    "print()\n",
    "exp = diff(fs2, s)\n",
    "print(exp)\n",
    "print()\n",
    "exp = diff(fs3, s)\n",
    "print(exp)\n",
    "print()\n",
    "# exp"
   ]
  },
  {
   "cell_type": "code",
   "execution_count": 3,
   "metadata": {},
   "outputs": [
    {
     "data": {
      "text/latex": [
       "$\\displaystyle - a_{1} c_{1} - a_{2} c_{2} \\cdot \\left(1 - a_{1}\\right) + c_{0}$"
      ],
      "text/plain": [
       "-a1*c1 - a2*c2*(1 - a1) + c0"
      ]
     },
     "execution_count": 3,
     "metadata": {},
     "output_type": "execute_result"
    }
   ],
   "source": [
    "a0, a1, a2, c0, c1, c2 = symbols('a0 a1 a2 c0 c1 c2')\n",
    "\n",
    "t0 = 1\n",
    "t1 = (1-a0)\n",
    "t2 = (1-a0) * (1-a1)\n",
    "\n",
    "c_ = t0*a0*c0 + t1*a1*c1 + t2*a2*c2\n",
    "\n",
    "diff(c_,a0)"
   ]
  },
  {
   "cell_type": "code",
   "execution_count": 11,
   "metadata": {},
   "outputs": [
    {
     "data": {
      "text/latex": [
       "$\\displaystyle ax \\left(ay \\left(- s_{000} + s_{001}\\right) + by \\left(- s_{010} + s_{011}\\right)\\right) + bx \\left(ay \\left(- s_{100} + s_{101}\\right) + by \\left(- s_{110} + s_{111}\\right)\\right)$"
      ],
      "text/plain": [
       "ax*(ay*(-s000 + s001) + by*(-s010 + s011)) + bx*(ay*(-s100 + s101) + by*(-s110 + s111))"
      ]
     },
     "execution_count": 11,
     "metadata": {},
     "output_type": "execute_result"
    }
   ],
   "source": [
    "s000, s001, s010, s011, s100, s101, s110, s111, \\\n",
    "    = symbols('s000 s001 s010 s011 s100 s101 s110 s111')\n",
    "\n",
    "x, y, z, lx, ly, lz = symbols('x y z lx ly lz')\n",
    "ax, ay, az, bx, by, bz = symbols('ax ay az bx by bz')\n",
    "c00, c01, c10, c0, c1 = symbols('c00 c01 c10 c0 c1')\n",
    "\n",
    "ax = lx + 1 - x\n",
    "ay = ly + 1 - y\n",
    "az = lz + 1 - z\n",
    "bx = x - lx\n",
    "by = y - ly\n",
    "bz = z - lz\n",
    "\n",
    "c00 = s000 * az + s001 *bz\n",
    "c01 = s010 * az + s011 *bz\n",
    "c10 = s100 * az + s101 *bz\n",
    "c11 = s110 * az + s111 *bz\n",
    "c0 = c00 * ay + c01 * by\n",
    "c1 = c10 * ay + c11 * by\n",
    "c = c0 * ax + c1 * bx\n",
    "\n",
    "diff(c,z)"
   ]
  },
  {
   "cell_type": "code",
   "execution_count": null,
   "metadata": {},
   "outputs": [],
   "source": []
  },
  {
   "cell_type": "code",
   "execution_count": 9,
   "metadata": {},
   "outputs": [
    {
     "data": {
      "text/latex": [
       "$\\displaystyle - \\frac{\\sqrt[3]{- x}}{3 x}$"
      ],
      "text/plain": [
       "-(-x)**(1/3)/(3*x)"
      ]
     },
     "execution_count": 9,
     "metadata": {},
     "output_type": "execute_result"
    }
   ],
   "source": [
    "x = symbols('x')\n",
    "\n",
    "cond_cbrt = -1 * cbrt(-x)\n",
    "\n",
    "diff(cond_cbrt,x)"
   ]
  },
  {
   "cell_type": "code",
   "execution_count": 8,
   "metadata": {},
   "outputs": [
    {
     "data": {
      "text/latex": [
       "$\\displaystyle 0.117821710436422$"
      ],
      "text/plain": [
       "0.117821710436422"
      ]
     },
     "execution_count": 8,
     "metadata": {},
     "output_type": "execute_result"
    }
   ],
   "source": [
    "diff(cond_cbrt,x).subs(x, 4.7586102219597484)"
   ]
  }
 ],
 "metadata": {
  "kernelspec": {
   "display_name": "Python 3.8.13 ('plenoxel')",
   "language": "python",
   "name": "python3"
  },
  "language_info": {
   "codemirror_mode": {
    "name": "ipython",
    "version": 3
   },
   "file_extension": ".py",
   "mimetype": "text/x-python",
   "name": "python",
   "nbconvert_exporter": "python",
   "pygments_lexer": "ipython3",
   "version": "3.8.8"
  },
  "orig_nbformat": 4,
  "vscode": {
   "interpreter": {
    "hash": "3b33ed6f2d6466f718d5d19a1aa8c0bc9763ba76419ccedffeca61195249d282"
   }
  }
 },
 "nbformat": 4,
 "nbformat_minor": 2
}
