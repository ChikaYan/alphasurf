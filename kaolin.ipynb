{
 "cells": [
  {
   "cell_type": "code",
   "execution_count": 1,
   "metadata": {},
   "outputs": [
    {
     "name": "stderr",
     "output_type": "stream",
     "text": [
      "/home/tw554/plenoxels/svox2/utils.py:39: UserWarning: CUDA extension svox2.csrc could not be loaded! Operations will be slow.\n",
      "Please do not import svox in the svox2 source directory.\n",
      "  warn(\"CUDA extension svox2.csrc could not be loaded! \" +\n"
     ]
    }
   ],
   "source": [
    "import numpy as np\n",
    "import svox2\n",
    "import torch\n",
    "import kaolin\n"
   ]
  },
  {
   "cell_type": "code",
   "execution_count": 3,
   "metadata": {},
   "outputs": [],
   "source": [
    "grid = svox2.SparseGrid(reso=[64,64,64],\n",
    "                            center=0.,\n",
    "                            radius=1.,\n",
    "                            use_sphere_bound=False,\n",
    "                            basis_dim=9,\n",
    "                            use_z_order=True,\n",
    "                            device='cuda',\n",
    "                            basis_reso=32,\n",
    "                            basis_type=svox2.__dict__['BASIS_TYPE_' + 'sh'.upper()],\n",
    "                            backend='plane',\n",
    "                            surface_init=None,\n",
    "                            use_octree=False)"
   ]
  },
  {
   "cell_type": "code",
   "execution_count": 14,
   "metadata": {},
   "outputs": [],
   "source": [
    "from PIL import Image\n",
    "import torch\n",
    "import torch.nn.functional as F\n",
    "import numpy as np\n",
    "from matplotlib import pyplot as plt\n",
    "import ipywidgets as widgets\n",
    "from termcolor import colored\n",
    "\n",
    "def _normalized_grid(width, height, device='cuda'):\n",
    "    \"\"\"Returns grid[x,y] -> coordinates for a normalized window.\n",
    "    \n",
    "    Args:\n",
    "        width, height (int): grid resolution\n",
    "    \"\"\"\n",
    "\n",
    "    # These are normalized coordinates\n",
    "    # i.e. equivalent to 2.0 * (fragCoord / iResolution.xy) - 1.0\n",
    "    window_x = torch.linspace(-1, 1, steps=width, device=device) * (width / height)\n",
    "    window_y = torch.linspace(1,- 1, steps=height, device=device)\n",
    "\n",
    "    coord = torch.stack(torch.meshgrid(window_x, window_y)).permute(1,2,0)\n",
    "    return coord\n",
    "\n",
    "\n",
    "def look_at(camera_from, camera_to, width, height, mode='persp', fov=90.0, device='cuda'):\n",
    "    \"\"\"Vectorized look-at function, returns an array of ray origins and directions\n",
    "    URL: https://www.scratchapixel.com/lessons/mathematics-physics-for-computer-graphics/lookat-function\n",
    "    \"\"\"\n",
    "\n",
    "    camera_origin = torch.FloatTensor(camera_from).to(device)\n",
    "    camera_view = F.normalize(torch.FloatTensor(camera_to).to(device) - camera_origin, dim=0)\n",
    "    camera_right = F.normalize(torch.cross(camera_view, torch.FloatTensor([0,1,0]).to(device)), dim=0)\n",
    "    camera_up = F.normalize(torch.cross(camera_right, camera_view), dim=0)\n",
    "\n",
    "    coord = _normalized_grid(width, height, device=device)\n",
    "    ray_origin = camera_right * coord[...,0,np.newaxis] * np.tan(np.radians(fov/2)) + \\\n",
    "                 camera_up * coord[...,1,np.newaxis] * np.tan(np.radians(fov/2)) + \\\n",
    "                 camera_origin + camera_view\n",
    "    ray_origin = ray_origin.reshape(-1, 3)\n",
    "    ray_offset = camera_view.unsqueeze(0).repeat(ray_origin.shape[0], 1)\n",
    "    \n",
    "    if mode == 'ortho': # Orthographic camera\n",
    "        ray_dir = F.normalize(ray_offset, dim=-1)\n",
    "    elif mode == 'persp': # Perspective camera\n",
    "        ray_dir = F.normalize(ray_origin - camera_origin, dim=-1)\n",
    "        ray_origin = camera_origin.repeat(ray_dir.shape[0], 1)\n",
    "    else:\n",
    "        raise ValueError('Invalid camera mode!')\n",
    "\n",
    "\n",
    "    return ray_origin, ray_dir\n",
    "\n",
    "ray_o, ray_d = look_at(camera_from=[-2.5,2.5,-2.5],\n",
    "                       camera_to=[0,0,0],\n",
    "                       width=128,\n",
    "                       height=128,\n",
    "                       mode='persp',\n",
    "                       fov=30,\n",
    "                       device='cuda')"
   ]
  },
  {
   "cell_type": "code",
   "execution_count": 5,
   "metadata": {},
   "outputs": [],
   "source": [
    "feature_grid = grid.plane_data.T[None, ...].reshape(1, 4, 64, 64, 64)\n",
    "mask = torch.ones([1, 64, 64, 64]) > 0.\n",
    "# mask[0,0,0,0] = False\n",
    "octrees, lengths, features = kaolin.ops.spc.feature_grids_to_spc(feature_grid, mask)\n",
    "max_level, pyramids, exsum = kaolin.ops.spc.scan_octrees(octrees, lengths)\n",
    "point_hierarchies = kaolin.ops.spc.generate_points(octrees, pyramids, exsum)"
   ]
  },
  {
   "cell_type": "code",
   "execution_count": 9,
   "metadata": {},
   "outputs": [
    {
     "data": {
      "text/plain": [
       "torch.Size([262144, 4])"
      ]
     },
     "execution_count": 9,
     "metadata": {},
     "output_type": "execute_result"
    }
   ],
   "source": [
    "features.shape"
   ]
  },
  {
   "cell_type": "code",
   "execution_count": 15,
   "metadata": {},
   "outputs": [
    {
     "data": {
      "text/plain": [
       "tensor([262723, 262727, 262728,  ...,  74833,  74834,  74833], device='cuda:0',\n",
       "       dtype=torch.int32)"
      ]
     },
     "execution_count": 15,
     "metadata": {},
     "output_type": "execute_result"
    }
   ],
   "source": [
    "# ray_o = torch.tensor([[-1.1,-1.1,-1.1]]).cuda() * -1\n",
    "# ray_d = torch.tensor([[1.,1.,1.]]).cuda() * -1\n",
    "nugs_ridx, nugs_pidx, depth = kaolin.render.spc.unbatched_raytrace(octrees, point_hierarchies, pyramids[0], exsum, ray_o, ray_d, max_level)\n",
    "nugs_pidx"
   ]
  },
  {
   "cell_type": "code",
   "execution_count": 23,
   "metadata": {},
   "outputs": [
    {
     "data": {
      "text/plain": [
       "tensor([    5,     5,     5,  ..., 16362, 16362, 16363], device='cuda:0',\n",
       "       dtype=torch.int32)"
      ]
     },
     "execution_count": 23,
     "metadata": {},
     "output_type": "execute_result"
    }
   ],
   "source": [
    "nugs_ridx"
   ]
  },
  {
   "cell_type": "code",
   "execution_count": 26,
   "metadata": {},
   "outputs": [
    {
     "data": {
      "text/plain": [
       "torch.Size([1300708])"
      ]
     },
     "execution_count": 26,
     "metadata": {},
     "output_type": "execute_result"
    }
   ],
   "source": [
    "nugs_pidx.shape"
   ]
  },
  {
   "cell_type": "code",
   "execution_count": 25,
   "metadata": {},
   "outputs": [
    {
     "data": {
      "text/plain": [
       "tensor(1300708, device='cuda:0')"
      ]
     },
     "execution_count": 25,
     "metadata": {},
     "output_type": "execute_result"
    }
   ],
   "source": [
    "torch.bincount(nugs_ridx).sum()"
   ]
  },
  {
   "cell_type": "code",
   "execution_count": 28,
   "metadata": {},
   "outputs": [
    {
     "data": {
      "text/plain": [
       "torch.Size([1300708, 3])"
      ]
     },
     "execution_count": 28,
     "metadata": {},
     "output_type": "execute_result"
    }
   ],
   "source": [
    "kaolin.ops.spc.morton_to_points(nugs_pidx.long() - pyramids[0,1,max_level]).shape"
   ]
  },
  {
   "cell_type": "code",
   "execution_count": 125,
   "metadata": {},
   "outputs": [
    {
     "data": {
      "text/plain": [
       "torch.Size([209])"
      ]
     },
     "execution_count": 125,
     "metadata": {},
     "output_type": "execute_result"
    }
   ],
   "source": [
    "nugs_pidx.shape"
   ]
  },
  {
   "cell_type": "code",
   "execution_count": 93,
   "metadata": {},
   "outputs": [
    {
     "data": {
      "text/plain": [
       "tensor([262723, 262727, 262728,  ...,  74833,  74834,  74833], device='cuda:0',\n",
       "       dtype=torch.int32)"
      ]
     },
     "execution_count": 93,
     "metadata": {},
     "output_type": "execute_result"
    }
   ],
   "source": [
    "nugs_pidx"
   ]
  },
  {
   "cell_type": "code",
   "execution_count": 94,
   "metadata": {},
   "outputs": [
    {
     "data": {
      "text/plain": [
       "tensor([ 0.8152, -0.3531,  0.4591], device='cuda:0')"
      ]
     },
     "execution_count": 94,
     "metadata": {},
     "output_type": "execute_result"
    }
   ],
   "source": [
    "ray_d[5]"
   ]
  }
 ],
 "metadata": {
  "kernelspec": {
   "display_name": "Python 3.8.8 ('voxel_sdf')",
   "language": "python",
   "name": "python3"
  },
  "language_info": {
   "codemirror_mode": {
    "name": "ipython",
    "version": 3
   },
   "file_extension": ".py",
   "mimetype": "text/x-python",
   "name": "python",
   "nbconvert_exporter": "python",
   "pygments_lexer": "ipython3",
   "version": "3.8.8"
  },
  "orig_nbformat": 4,
  "vscode": {
   "interpreter": {
    "hash": "c3cf32bc3e80b5779e7e5c4deeeee58af3a8004e8adaca7ae56b78f370dcfac6"
   }
  }
 },
 "nbformat": 4,
 "nbformat_minor": 2
}
