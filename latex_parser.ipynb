{
 "cells": [
  {
   "cell_type": "code",
   "execution_count": 1,
   "id": "fd3f13fb",
   "metadata": {},
   "outputs": [],
   "source": [
    "import imageio\n",
    "import cv2 as cv\n",
    "from PIL import Image\n",
    "import numpy as np"
   ]
  },
  {
   "cell_type": "code",
   "execution_count": 12,
   "id": "e7b55c3b",
   "metadata": {},
   "outputs": [
    {
     "name": "stdout",
     "output_type": "stream",
     "text": [
      "surface[0b000] * (1-origin[2]) + surface[0b001] * (origin[2])\n"
     ]
    }
   ],
   "source": [
    "print(\"surface[0b000] * (1-origin[2]) + surface[0b001] * (origin[2])\")"
   ]
  },
  {
   "cell_type": "code",
   "execution_count": 26,
   "id": "5442bffb",
   "metadata": {},
   "outputs": [
    {
     "name": "stdout",
     "output_type": "stream",
     "text": [
      "h_{1} =& d_y d_z (\\hat{\\delta}_8 - \\hat{\\delta}_7) -d_y d_z (\\hat{\\delta}_6 - \\hat{\\delta}_5)\n"
     ]
    }
   ],
   "source": [
    "s = \"h1 = dir[1]*dir[2]*(surface[0b111] - surface[0b110]) -dir[1]*dir[2]*(surface[0b101] - surface[0b100])\"\n",
    "\n",
    "map_dict = {\n",
    "    \"dir[0]\": \"d_x\",\n",
    "    \"dir[1]\": \"d_y\",\n",
    "    \"dir[2]\": \"d_z\",\n",
    "    \"origin[0]\": \"o'_x\",\n",
    "    \"origin[1]\": \"o'_y\",\n",
    "    \"origin[2]\": \"o'_z\",\n",
    "    \"surface[0b000]\" : \"\\hat{\\delta}_1\",\n",
    "    \"surface[0b001]\" : \"\\hat{\\delta}_2\",\n",
    "    \"surface[0b010]\" : \"\\hat{\\delta}_3\",\n",
    "    \"surface[0b011]\" : \"\\hat{\\delta}_4\",\n",
    "    \"surface[0b100]\" : \"\\hat{\\delta}_5\",\n",
    "    \"surface[0b101]\" : \"\\hat{\\delta}_6\",\n",
    "    \"surface[0b110]\" : \"\\hat{\\delta}_7\",\n",
    "    \"surface[0b111]\" : \"\\hat{\\delta}_8\",\n",
    "}\n",
    "\n",
    "for k in map_dict:\n",
    "    s = s.replace(k, map_dict[k])\n",
    "\n",
    "for sym in [\"a00\",\"a01\",\"a10\",\"a11\", \"m00\",\"m01\",\"m10\",\"m11\" ,\"b00\",\"b01\",\"b10\",\"b11\",\"c0\",\"c1\",\"k0\",\"k1\",\"h0\",\"h1\"]:\n",
    "    s = s.replace(sym, sym[0] + '_{' + sym[1:] + '}')\n",
    "\n",
    "s = s.replace('*', ' ')\n",
    "s = s.replace('=', '=&')\n",
    "\n",
    "print(s)"
   ]
  },
  {
   "cell_type": "code",
   "execution_count": null,
   "id": "c243647a",
   "metadata": {},
   "outputs": [],
   "source": []
  },
  {
   "cell_type": "code",
   "execution_count": null,
   "id": "e9e82715",
   "metadata": {},
   "outputs": [],
   "source": []
  }
 ],
 "metadata": {
  "kernelspec": {
   "display_name": "Python 3 (ipykernel)",
   "language": "python",
   "name": "python3"
  },
  "language_info": {
   "codemirror_mode": {
    "name": "ipython",
    "version": 3
   },
   "file_extension": ".py",
   "mimetype": "text/x-python",
   "name": "python",
   "nbconvert_exporter": "python",
   "pygments_lexer": "ipython3",
   "version": "3.8.13"
  }
 },
 "nbformat": 4,
 "nbformat_minor": 5
}
