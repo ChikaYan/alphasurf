{
 "cells": [
  {
   "cell_type": "code",
   "execution_count": 1,
   "id": "38aa5df3",
   "metadata": {},
   "outputs": [],
   "source": [
    "import pyvista as pv\n",
    "import numpy as np\n",
    "from tqdm import tqdm\n",
    "import argparse\n",
    "from pathlib import Path\n",
    "background = 'white'\n",
    "img_size = (500, 500)"
   ]
  },
  {
   "cell_type": "code",
   "execution_count": 2,
   "id": "230d8662",
   "metadata": {},
   "outputs": [],
   "source": [
    "pts = np.load('/rds/project/rds-qxpdOeYWi78/plenoxels/opt/ckpt/tuning/dtu_scan63/nerf/syn_dtu/ckpt_eval_cuvol/thresh_10/ckpt_nc_pts.npy')\n"
   ]
  },
  {
   "cell_type": "code",
   "execution_count": 3,
   "id": "42b315f1",
   "metadata": {},
   "outputs": [
    {
     "data": {
      "text/plain": [
       "array([[-1.4535694 , -0.35302734, -0.08203125],\n",
       "       [-1.4542835 , -0.3515625 , -0.08203125],\n",
       "       [-1.4538647 , -0.3515625 , -0.08056641],\n",
       "       ...,\n",
       "       [ 1.4912109 , -0.08166763,  0.19921875],\n",
       "       [ 1.4926758 , -0.08169767,  0.19921875],\n",
       "       [ 1.4941406 , -0.08172762,  0.19921875]], dtype=float32)"
      ]
     },
     "execution_count": 3,
     "metadata": {},
     "output_type": "execute_result"
    }
   ],
   "source": [
    "pts"
   ]
  },
  {
   "cell_type": "code",
   "execution_count": 9,
   "id": "9c2a86c3",
   "metadata": {},
   "outputs": [
    {
     "data": {
      "text/html": [
       "<table><tr><th>Header</th><th>Data Arrays</th></tr><tr><td>\n",
       "<table>\n",
       "<tr><th>PolyData</th><th>Information</th></tr>\n",
       "<tr><td>N Cells</td><td>12272317</td></tr>\n",
       "<tr><td>N Points</td><td>12272317</td></tr>\n",
       "<tr><td>N Strips</td><td>0</td></tr>\n",
       "<tr><td>X Bounds</td><td>-1.204e+00, 1.320e+00</td></tr>\n",
       "<tr><td>Y Bounds</td><td>-1.282e+00, 1.031e+00</td></tr>\n",
       "<tr><td>Z Bounds</td><td>-1.828e+00, 2.140e+00</td></tr>\n",
       "<tr><td>N Arrays</td><td>1</td></tr>\n",
       "</table>\n",
       "\n",
       "</td><td>\n",
       "<table>\n",
       "<tr><th>Name</th><th>Field</th><th>Type</th><th>N Comp</th><th>Min</th><th>Max</th></tr>\n",
       "<tr><td><b>RGB</b></td><td>Points</td><td>uint8</td><td>3</td><td>0.000e+00</td><td>2.550e+02</td></tr>\n",
       "</table>\n",
       "\n",
       "</td></tr> </table>"
      ],
      "text/plain": [
       "PolyData (0x2ac72bed2880)\n",
       "  N Cells:    12272317\n",
       "  N Points:   12272317\n",
       "  N Strips:   0\n",
       "  X Bounds:   -1.204e+00, 1.320e+00\n",
       "  Y Bounds:   -1.282e+00, 1.031e+00\n",
       "  Z Bounds:   -1.828e+00, 2.140e+00\n",
       "  N Arrays:   1"
      ]
     },
     "execution_count": 9,
     "metadata": {},
     "output_type": "execute_result"
    }
   ],
   "source": [
    "img_path = '/rds/project/rds-qxpdOeYWi78/multinerf/results/blender/stool/pts/distance_mode_pts/vis_d2s.ply'\n",
    "obj = pv.read(img_path)\n",
    "obj"
   ]
  },
  {
   "cell_type": "code",
   "execution_count": null,
   "id": "56ec6904",
   "metadata": {},
   "outputs": [
    {
     "name": "stderr",
     "output_type": "stream",
     "text": [
      "/rds/user/tw554/hpc-work/workspace/conda/envs/voxel_sdf/lib/python3.8/site-packages/pyvista/plotting/plotting.py:147: UserWarning: \n",
      "This system does not appear to be running an xserver.\n",
      "PyVista will likely segfault when rendering.\n",
      "\n",
      "Try starting a virtual frame buffer with xvfb, or using\n",
      "  ``pyvista.start_xvfb()``\n",
      "\n",
      "  warnings.warn(\n"
     ]
    }
   ],
   "source": [
    "img_path = '/rds/project/rds-qxpdOeYWi78/multinerf/results/blender/lego_re/pts/distance_mode_09_pts/vis_d2s.ply'\n",
    "obj = pv.read(img_path)\n",
    "\n",
    "obj.plot(scalars='RGB', rgb=True, eye_dome_lighting=True,\n",
    "        point_size=1, show_axes=False, background=background, window_size=img_size, \n",
    "        )"
   ]
  },
  {
   "cell_type": "code",
   "execution_count": null,
   "id": "46d1b8fd",
   "metadata": {},
   "outputs": [],
   "source": [
    "img_path = '/rds/project/rds-qxpdOeYWi78/plenoxels/opt/ckpt/tuning/lego_re/good_trunc/clamp_0149_no_ldist_no_in_sparse/ckpt_eval_surf_masked/ckpt/vis_d2s.ply'\n",
    "obj = pv.read(img_path)\n",
    "\n",
    "obj.plot(scalars='RGB', rgb=True, eye_dome_lighting=True,\n",
    "        point_size=1, show_axes=False, background=background, window_size=img_size, \n",
    "        )"
   ]
  },
  {
   "cell_type": "code",
   "execution_count": null,
   "id": "7e1bef53",
   "metadata": {},
   "outputs": [],
   "source": []
  }
 ],
 "metadata": {
  "kernelspec": {
   "display_name": "Python 3 (ipykernel)",
   "language": "python",
   "name": "python3"
  },
  "language_info": {
   "codemirror_mode": {
    "name": "ipython",
    "version": 3
   },
   "file_extension": ".py",
   "mimetype": "text/x-python",
   "name": "python",
   "nbconvert_exporter": "python",
   "pygments_lexer": "ipython3",
   "version": "3.8.13"
  }
 },
 "nbformat": 4,
 "nbformat_minor": 5
}
