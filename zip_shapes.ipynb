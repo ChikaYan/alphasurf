{
 "cells": [
  {
   "cell_type": "code",
   "execution_count": 1,
   "id": "9d203748",
   "metadata": {},
   "outputs": [],
   "source": [
    "import numpy as np\n",
    "from pathlib import Path\n",
    "from tqdm import tqdm\n",
    "import pandas as pd\n",
    "from tbparse import SummaryReader\n",
    "import shutil\n",
    "import os"
   ]
  },
  {
   "cell_type": "code",
   "execution_count": 3,
   "id": "29bcd202",
   "metadata": {},
   "outputs": [
    {
     "name": "stderr",
     "output_type": "stream",
     "text": [
      "100%|█████████████████████████████████████████████████████████████████████████████████████████████████████████████| 1/1 [00:13<00:00, 13.41s/it]\n"
     ]
    },
    {
     "name": "stdout",
     "output_type": "stream",
     "text": [
      "updating: zip_temp/dtu/ (stored 0%)\n",
      "updating: zip_temp/dtu/dtu_scan40/ (stored 0%)\n",
      "updating: zip_temp/dtu/dtu_scan40/neus.ply (deflated 41%)\n",
      "  adding: zip_temp/dtu/dtu_scan40/nerf_sig_50.ply (deflated 53%)\n",
      "  adding: zip_temp/dtu/dtu_scan40/nerf_sig_10.ply (deflated 53%)\n",
      "  adding: zip_temp/dtu/dtu_scan40/ours.ply (deflated 52%)\n"
     ]
    },
    {
     "data": {
      "text/plain": [
       "0"
      ]
     },
     "execution_count": 3,
     "metadata": {},
     "output_type": "execute_result"
    }
   ],
   "source": [
    "\n",
    "\n",
    "methods = {\n",
    "    \"ours\": \"/rds/project/rds-qxpdOeYWi78/plenoxels/opt/ckpt/tuning/{}/dtu_new_exp/less_trunc/ckpt_eval_surf_single/ckpt/vis_040_d2s.ply\",\n",
    "    \"nerf_sig_10\": \"/rds/project/rds-qxpdOeYWi78/plenoxels/opt/ckpt/tuning/{}/nerf/syn/ckpt_eval_cuvol/thresh_10/ckpt/vis_040_d2s.ply\",\n",
    "    \"nerf_sig_50\": \"/rds/project/rds-qxpdOeYWi78/plenoxels/opt/ckpt/tuning/{}/nerf/syn/ckpt_eval_cuvol/thresh_50/ckpt/vis_040_d2s.ply\",\n",
    "    \"neus\": \"/rds/project/rds-qxpdOeYWi78/NeuS/dtu_exp/{}/wmask/fine_mesh/vis_040_d2s.ply\",\n",
    "}\n",
    "\n",
    "scenes = [\n",
    "    'dtu_scan40',\n",
    "]\n",
    "\n",
    "temp_dir = Path('./zip_temp/')\n",
    "\n",
    "# if temp_dir.exists():\n",
    "#     shutil.rmtree(str(temp_dir))\n",
    "\n",
    "temp_dir.mkdir(exist_ok=True)\n",
    "\n",
    "folder_name = 'dtu'\n",
    "\n",
    "shape_dir = temp_dir / folder_name\n",
    "shape_dir.mkdir(exist_ok=True)\n",
    "\n",
    "for scene in tqdm(scenes):\n",
    "    scene_dir = shape_dir / scene\n",
    "    scene_dir.mkdir(exist_ok=True)\n",
    "    for method in methods:\n",
    "        p = methods[method].format(scene)\n",
    "\n",
    "        if Path(p).exists():\n",
    "            shutil.copy(p, str(scene_dir / f'{method}.ply'))\n",
    "        else:\n",
    "            print(f'{p} does not exist!')\n",
    "\n",
    "os.system(f'zip -r {str(shape_dir)}.zip {str(shape_dir)}')"
   ]
  },
  {
   "cell_type": "code",
   "execution_count": 6,
   "id": "f8d0ef43",
   "metadata": {},
   "outputs": [
    {
     "name": "stderr",
     "output_type": "stream",
     "text": [
      "  0%|          | 0/3 [00:00<?, ?it/s]"
     ]
    },
    {
     "name": "stdout",
     "output_type": "stream",
     "text": [
      "/rds/project/rds-qxpdOeYWi78/plenoxels/opt/ckpt/tuning/flower_thin/llff/single_lv_less_trunc/ckpt_eval_surf_single/ckpt_nc_pts.ply does not exist!\n"
     ]
    },
    {
     "name": "stderr",
     "output_type": "stream",
     "text": [
      "100%|██████████| 3/3 [00:02<00:00,  1.07it/s]\n"
     ]
    },
    {
     "name": "stdout",
     "output_type": "stream",
     "text": [
      "  adding: zip_temp/llff_ours_new/ (stored 0%)\n",
      "  adding: zip_temp/llff_ours_new/flower_thin/ (stored 0%)\n",
      "  adding: zip_temp/llff_ours_new/trex/ (stored 0%)\n",
      "  adding: zip_temp/llff_ours_new/trex/ours.ply (deflated 75%)\n",
      "  adding: zip_temp/llff_ours_new/leaves/ (stored 0%)\n",
      "  adding: zip_temp/llff_ours_new/leaves/ours.ply (deflated 75%)\n"
     ]
    },
    {
     "data": {
      "text/plain": [
       "0"
      ]
     },
     "execution_count": 6,
     "metadata": {},
     "output_type": "execute_result"
    }
   ],
   "source": [
    "\n",
    "\n",
    "methods = {\n",
    "    \"ours\": \"/rds/project/rds-qxpdOeYWi78/plenoxels/opt/ckpt/tuning/{}/llff/single_lv_less_trunc/ckpt_eval_surf_single/ckpt_nc_pts.ply\",\n",
    "    # \"nerf_sig_10\": \"/rds/project/rds-qxpdOeYWi78/plenoxels/opt/ckpt/tuning/{}/nerf/synllff/ckpt_eval_cuvol/thresh_10/ckpt_nc_pts.ply\",\n",
    "    # \"nerf_sig_50\": \"/rds/project/rds-qxpdOeYWi78/plenoxels/opt/ckpt/tuning/{}/nerf/synllff/ckpt_eval_cuvol/thresh_50/ckpt_nc_pts.ply\",\n",
    "    # \"nerf_depth_01\": \"/rds/project/rds-qxpdOeYWi78/plenoxels/opt/ckpt/tuning/{}/nerf/synllff/ckpt_eval_cuvol/depth_spiral_mode_0.1/ckpt_nc_pts.ply\",\n",
    "    # \"neus\": \"/rds/project/rds-qxpdOeYWi78/NeuS/exp/{}/womask/fine_mesh/vis_d2s.ply\",\n",
    "}\n",
    "\n",
    "scenes = [\n",
    "    # 'fern',\n",
    "    'flower_thin',\n",
    "    'trex',\n",
    "    \"leaves\",\n",
    "    # \"orchids\",\n",
    "]\n",
    "\n",
    "temp_dir = Path('./zip_temp/')\n",
    "\n",
    "if temp_dir.exists():\n",
    "    shutil.rmtree(str(temp_dir))\n",
    "\n",
    "temp_dir.mkdir(exist_ok=True)\n",
    "\n",
    "folder_name = 'llff_ours_new'\n",
    "\n",
    "shape_dir = temp_dir / folder_name\n",
    "shape_dir.mkdir(exist_ok=True)\n",
    "\n",
    "for scene in tqdm(scenes):\n",
    "    scene_dir = shape_dir / scene\n",
    "    scene_dir.mkdir(exist_ok=True)\n",
    "    for method in methods:\n",
    "        p = methods[method].format(scene)\n",
    "\n",
    "        if Path(p).exists():\n",
    "            shutil.copy(p, str(scene_dir / f'{method}.ply'))\n",
    "        else:\n",
    "            print(f'{p} does not exist!')\n",
    "\n",
    "os.system(f'zip -r {str(shape_dir)}.zip {str(shape_dir)}')"
   ]
  },
  {
   "cell_type": "code",
   "execution_count": 8,
   "id": "2f5f0ddf",
   "metadata": {},
   "outputs": [
    {
     "name": "stderr",
     "output_type": "stream",
     "text": [
      "100%|██████████| 3/3 [00:44<00:00, 14.78s/it]\n"
     ]
    },
    {
     "name": "stdout",
     "output_type": "stream",
     "text": [
      "  adding: zip_temp/llff_trans2_low_tv/ (stored 0%)\n",
      "  adding: zip_temp/llff_trans2_low_tv/rough/ (stored 0%)\n",
      "  adding: zip_temp/llff_trans2_low_tv/rough/nerf_sig_50.ply (deflated 75%)\n",
      "  adding: zip_temp/llff_trans2_low_tv/rough/nerf_sig_10.ply (deflated 75%)\n",
      "  adding: zip_temp/llff_trans2_low_tv/rough/ours.ply (deflated 75%)\n",
      "  adding: zip_temp/llff_trans2_low_tv/cleanser2/ (stored 0%)\n",
      "  adding: zip_temp/llff_trans2_low_tv/cleanser2/nerf_sig_50.ply (deflated 75%)\n",
      "  adding: zip_temp/llff_trans2_low_tv/cleanser2/nerf_sig_10.ply (deflated 75%)\n",
      "  adding: zip_temp/llff_trans2_low_tv/cleanser2/ours.ply (deflated 75%)\n",
      "  adding: zip_temp/llff_trans2_low_tv/glass_cup/ (stored 0%)\n",
      "  adding: zip_temp/llff_trans2_low_tv/glass_cup/nerf_sig_50.ply (deflated 75%)\n",
      "  adding: zip_temp/llff_trans2_low_tv/glass_cup/nerf_sig_10.ply (deflated 75%)\n",
      "  adding: zip_temp/llff_trans2_low_tv/glass_cup/ours.ply (deflated 75%)\n"
     ]
    },
    {
     "data": {
      "text/plain": [
       "0"
      ]
     },
     "execution_count": 8,
     "metadata": {},
     "output_type": "execute_result"
    }
   ],
   "source": [
    "\n",
    "\n",
    "methods = {\n",
    "    \"ours\": \"/rds/project/rds-qxpdOeYWi78/plenoxels/opt/ckpt/tuning/{}/llff/single_lv_less_trunc_low_tv/ckpt_eval_surf_single/ckpt_nc_pts.ply\",\n",
    "    \"nerf_sig_10\": \"/rds/project/rds-qxpdOeYWi78/plenoxels/opt/ckpt/tuning/{}/nerf/synllff_low_tv/ckpt_eval_cuvol/thresh_10/ckpt_nc_pts.ply\",\n",
    "    \"nerf_sig_50\": \"/rds/project/rds-qxpdOeYWi78/plenoxels/opt/ckpt/tuning/{}/nerf/synllff_low_tv/ckpt_eval_cuvol/thresh_50/ckpt_nc_pts.ply\",\n",
    "    # \"nerf_depth_01\": \"/rds/project/rds-qxpdOeYWi78/plenoxels/opt/ckpt/tuning/{}/nerf/synllff/ckpt_eval_cuvol/depth_spiral_mode_0.1/ckpt_nc_pts.ply\",\n",
    "    # \"neus\": \"/rds/project/rds-qxpdOeYWi78/NeuS/exp/{}/womask/fine_mesh/vis_d2s.ply\",\n",
    "}\n",
    "\n",
    "scenes = [\n",
    "    'cleanser2',\n",
    "    'glass_cup',\n",
    "    'rough'\n",
    "]\n",
    "\n",
    "temp_dir = Path('./zip_temp/')\n",
    "\n",
    "# if temp_dir.exists():\n",
    "#     shutil.rmtree(str(temp_dir))\n",
    "\n",
    "temp_dir.mkdir(exist_ok=True)\n",
    "\n",
    "folder_name = 'llff_trans2_low_tv'\n",
    "\n",
    "shape_dir = temp_dir / folder_name\n",
    "shape_dir.mkdir(exist_ok=True)\n",
    "\n",
    "for scene in tqdm(scenes):\n",
    "    scene_dir = shape_dir / scene\n",
    "    scene_dir.mkdir(exist_ok=True)\n",
    "    for method in methods:\n",
    "        p = methods[method].format(scene)\n",
    "\n",
    "        if Path(p).exists():\n",
    "            shutil.copy(p, str(scene_dir / f'{method}.ply'))\n",
    "        else:\n",
    "            print(f'{p} does not exist!')\n",
    "\n",
    "os.system(f'zip -r {str(shape_dir)}.zip {str(shape_dir)}')"
   ]
  },
  {
   "cell_type": "code",
   "execution_count": 7,
   "id": "5554fd9b",
   "metadata": {},
   "outputs": [
    {
     "name": "stderr",
     "output_type": "stream",
     "text": [
      "100%|██████████| 3/3 [00:20<00:00,  6.68s/it]\n"
     ]
    },
    {
     "name": "stdout",
     "output_type": "stream",
     "text": [
      "  adding: zip_temp/llff_trans2_neus/ (stored 0%)\n",
      "  adding: zip_temp/llff_trans2_neus/rough/ (stored 0%)\n",
      "  adding: zip_temp/llff_trans2_neus/rough/neus.ply (deflated 58%)\n",
      "  adding: zip_temp/llff_trans2_neus/cleanser2/ (stored 0%)\n",
      "  adding: zip_temp/llff_trans2_neus/cleanser2/neus.ply (deflated 58%)\n",
      "  adding: zip_temp/llff_trans2_neus/glass_cup/ (stored 0%)\n",
      "  adding: zip_temp/llff_trans2_neus/glass_cup/neus.ply (deflated 56%)\n"
     ]
    },
    {
     "data": {
      "text/plain": [
       "0"
      ]
     },
     "execution_count": 7,
     "metadata": {},
     "output_type": "execute_result"
    }
   ],
   "source": [
    "\n",
    "\n",
    "methods = {\n",
    "    # \"ours\": \"/rds/project/rds-qxpdOeYWi78/plenoxels/opt/ckpt/tuning/{}/llff/single_lv_less_trunc/ckpt_eval_surf_single/ckpt_nc_pts.ply\",\n",
    "    # \"nerf_sig_10\": \"/rds/project/rds-qxpdOeYWi78/plenoxels/opt/ckpt/tuning/{}/nerf/synllff/ckpt_eval_cuvol/thresh_10/ckpt_nc_pts.ply\",\n",
    "    # \"nerf_sig_50\": \"/rds/project/rds-qxpdOeYWi78/plenoxels/opt/ckpt/tuning/{}/nerf/synllff/ckpt_eval_cuvol/thresh_50/ckpt_nc_pts.ply\",\n",
    "    # \"nerf_depth_01\": \"/rds/project/rds-qxpdOeYWi78/plenoxels/opt/ckpt/tuning/{}/nerf/synllff/ckpt_eval_cuvol/depth_spiral_mode_0.1/ckpt_nc_pts.ply\",\n",
    "    \"neus\": \"/rds/project/rds-qxpdOeYWi78/NeuS/exp/{}/womask/fine_mesh/vis_d2s.ply\",\n",
    "}\n",
    "\n",
    "scenes = [\n",
    "    'cleanser2',\n",
    "    'glass_cup',\n",
    "    'rough'\n",
    "]\n",
    "\n",
    "temp_dir = Path('./zip_temp/')\n",
    "\n",
    "# if temp_dir.exists():\n",
    "#     shutil.rmtree(str(temp_dir))\n",
    "\n",
    "temp_dir.mkdir(exist_ok=True)\n",
    "\n",
    "folder_name = 'llff_trans2_neus'\n",
    "\n",
    "shape_dir = temp_dir / folder_name\n",
    "shape_dir.mkdir(exist_ok=True)\n",
    "\n",
    "for scene in tqdm(scenes):\n",
    "    scene_dir = shape_dir / scene\n",
    "    scene_dir.mkdir(exist_ok=True)\n",
    "    for method in methods:\n",
    "        p = methods[method].format(scene)\n",
    "\n",
    "        if Path(p).exists():\n",
    "            shutil.copy(p, str(scene_dir / f'{method}.ply'))\n",
    "        else:\n",
    "            print(f'{p} does not exist!')\n",
    "\n",
    "os.system(f'zip -r {str(shape_dir)}.zip {str(shape_dir)}')"
   ]
  },
  {
   "cell_type": "code",
   "execution_count": 5,
   "id": "1d90fbf3",
   "metadata": {},
   "outputs": [
    {
     "data": {
      "text/plain": [
       "True"
      ]
     },
     "execution_count": 5,
     "metadata": {},
     "output_type": "execute_result"
    }
   ],
   "source": [
    "Path('/rds/project/rds-qxpdOeYWi78/NeuS/exp/fern/womask/fine_mesh/vis_d2s.ply').exists()"
   ]
  },
  {
   "cell_type": "code",
   "execution_count": 4,
   "id": "73253db9",
   "metadata": {},
   "outputs": [
    {
     "name": "stderr",
     "output_type": "stream",
     "text": [
      "100%|██████████| 5/5 [00:21<00:00,  4.30s/it]\n"
     ]
    },
    {
     "name": "stdout",
     "output_type": "stream",
     "text": [
      "  adding: zip_temp/llff_trans_lowtv_mlv/ (stored 0%)\n",
      "  adding: zip_temp/llff_trans_lowtv_mlv/rough/ (stored 0%)\n",
      "  adding: zip_temp/llff_trans_lowtv_mlv/rough/ours.ply (deflated 76%)\n",
      "  adding: zip_temp/llff_trans_lowtv_mlv/cleanser2/ (stored 0%)\n",
      "  adding: zip_temp/llff_trans_lowtv_mlv/cleanser2/ours.ply (deflated 76%)\n",
      "  adding: zip_temp/llff_trans_lowtv_mlv/glass_cup/ (stored 0%)\n",
      "  adding: zip_temp/llff_trans_lowtv_mlv/glass_cup/ours.ply (deflated 76%)\n",
      "  adding: zip_temp/llff_trans_lowtv_mlv/choco/ (stored 0%)\n",
      "  adding: zip_temp/llff_trans_lowtv_mlv/choco/ours.ply"
     ]
    }
   ],
   "source": [
    "\n",
    "\n",
    "methods = {\n",
    "    \"ours\": \"/rds/project/rds-qxpdOeYWi78/plenoxels/opt/ckpt/tuning/{}/llff_low_tv/multi_lv/ckpt_eval_surf_single/ckpt_nc_pts.ply\",\n",
    "    # \"nerf_sig_10\": \"/rds/project/rds-qxpdOeYWi78/plenoxels/opt/ckpt/tuning/{}/nerf/synllff_low_tv/ckpt_eval_cuvol/thresh_10/ckpt_nc_pts.ply\",\n",
    "    # \"nerf_sig_50\": \"/rds/project/rds-qxpdOeYWi78/plenoxels/opt/ckpt/tuning/{}/nerf/synllff_low_tv/ckpt_eval_cuvol/thresh_50/ckpt_nc_pts.ply\",\n",
    "    # \"nerf_depth_01\": \"/rds/project/rds-qxpdOeYWi78/plenoxels/opt/ckpt/tuning/{}/nerf/synllff/ckpt_eval_cuvol/depth_spiral_mode_0.1/ckpt_nc_pts.ply\",\n",
    "    # \"neus\": \"/rds/project/rds-qxpdOeYWi78/NeuS/exp/{}/womask/fine_mesh/vis_d2s.ply\",\n",
    "}\n",
    "\n",
    "scenes = [\n",
    "    'plastic',\n",
    "    'choco',\n",
    "    'cleanser2',\n",
    "    'glass_cup',\n",
    "    'rough'\n",
    "]\n",
    "\n",
    "temp_dir = Path('./zip_temp/')\n",
    "\n",
    "if temp_dir.exists():\n",
    "    shutil.rmtree(str(temp_dir))\n",
    "\n",
    "temp_dir.mkdir(exist_ok=True)\n",
    "\n",
    "folder_name = 'llff_trans_lowtv_mlv'\n",
    "\n",
    "shape_dir = temp_dir / folder_name\n",
    "shape_dir.mkdir(exist_ok=True)\n",
    "\n",
    "for scene in tqdm(scenes):\n",
    "    scene_dir = shape_dir / scene\n",
    "    scene_dir.mkdir(exist_ok=True)\n",
    "    for method in methods:\n",
    "        p = methods[method].format(scene)\n",
    "\n",
    "        if Path(p).exists():\n",
    "            shutil.copy(p, str(scene_dir / f'{method}.ply'))\n",
    "        else:\n",
    "            print(f'{p} does not exist!')\n",
    "\n",
    "os.system(f'zip -r {str(shape_dir)}.zip {str(shape_dir)}')"
   ]
  },
  {
   "cell_type": "code",
   "execution_count": 2,
   "id": "bc8193b3",
   "metadata": {},
   "outputs": [
    {
     "name": "stderr",
     "output_type": "stream",
     "text": [
      "100%|█████████████████████████████████████████████████████████████████████████████████████████████████████████████████████| 5/5 [00:17<00:00,  3.57s/it]\n"
     ]
    },
    {
     "name": "stdout",
     "output_type": "stream",
     "text": [
      "  adding: zip_temp/llff_trans_lowtv_mlv_high_tv/ (stored 0%)\n",
      "  adding: zip_temp/llff_trans_lowtv_mlv_high_tv/rough/ (stored 0%)\n",
      "  adding: zip_temp/llff_trans_lowtv_mlv_high_tv/rough/ours.ply (deflated 76%)\n",
      "  adding: zip_temp/llff_trans_lowtv_mlv_high_tv/cleanser2/ (stored 0%)\n",
      "  adding: zip_temp/llff_trans_lowtv_mlv_high_tv/cleanser2/ours.ply (deflated 76%)\n",
      "  adding: zip_temp/llff_trans_lowtv_mlv_high_tv/glass_cup/ (stored 0%)\n",
      "  adding: zip_temp/llff_trans_lowtv_mlv_high_tv/glass_cup/ours.ply (deflated 76%)\n",
      "  adding: zip_temp/llff_trans_lowtv_mlv_high_tv/choco/ (stored 0%)\n",
      "  adding: zip_temp/llff_trans_lowtv_mlv_high_tv/choco/ours.ply (deflated 76%)\n",
      "  adding: zip_temp/llff_trans_lowtv_mlv_high_tv/plastic/ (stored 0%)\n",
      "  adding: zip_temp/llff_trans_lowtv_mlv_high_tv/plastic/ours.ply (deflated 76%)\n"
     ]
    },
    {
     "data": {
      "text/plain": [
       "0"
      ]
     },
     "execution_count": 2,
     "metadata": {},
     "output_type": "execute_result"
    }
   ],
   "source": [
    "\n",
    "\n",
    "methods = {\n",
    "    \"ours\": \"/rds/project/rds-qxpdOeYWi78/plenoxels/opt/ckpt/tuning/{}/llff_low_tv/multi_lv_large_tv/ckpt_eval_surf_single/ckpt_nc_pts.ply\",\n",
    "    # \"nerf_sig_10\": \"/rds/project/rds-qxpdOeYWi78/plenoxels/opt/ckpt/tuning/{}/nerf/synllff_low_tv/ckpt_eval_cuvol/thresh_10/ckpt_nc_pts.ply\",\n",
    "    # \"nerf_sig_50\": \"/rds/project/rds-qxpdOeYWi78/plenoxels/opt/ckpt/tuning/{}/nerf/synllff_low_tv/ckpt_eval_cuvol/thresh_50/ckpt_nc_pts.ply\",\n",
    "    # \"nerf_depth_01\": \"/rds/project/rds-qxpdOeYWi78/plenoxels/opt/ckpt/tuning/{}/nerf/synllff/ckpt_eval_cuvol/depth_spiral_mode_0.1/ckpt_nc_pts.ply\",\n",
    "    # \"neus\": \"/rds/project/rds-qxpdOeYWi78/NeuS/exp/{}/womask/fine_mesh/vis_d2s.ply\",\n",
    "}\n",
    "\n",
    "scenes = [\n",
    "    'plastic',\n",
    "    'choco',\n",
    "    'cleanser2',\n",
    "    'glass_cup',\n",
    "    'rough'\n",
    "]\n",
    "\n",
    "temp_dir = Path('./zip_temp/')\n",
    "\n",
    "# if temp_dir.exists():\n",
    "#     shutil.rmtree(str(temp_dir))\n",
    "\n",
    "temp_dir.mkdir(exist_ok=True)\n",
    "\n",
    "folder_name = 'llff_trans_lowtv_mlv_high_tv'\n",
    "\n",
    "shape_dir = temp_dir / folder_name\n",
    "shape_dir.mkdir(exist_ok=True)\n",
    "\n",
    "for scene in tqdm(scenes):\n",
    "    scene_dir = shape_dir / scene\n",
    "    scene_dir.mkdir(exist_ok=True)\n",
    "    for method in methods:\n",
    "        p = methods[method].format(scene)\n",
    "\n",
    "        if Path(p).exists():\n",
    "            shutil.copy(p, str(scene_dir / f'{method}.ply'))\n",
    "        else:\n",
    "            print(f'{p} does not exist!')\n",
    "\n",
    "os.system(f'zip -r {str(shape_dir)}.zip {str(shape_dir)}')"
   ]
  },
  {
   "cell_type": "code",
   "execution_count": 3,
   "id": "be9d8f3d",
   "metadata": {},
   "outputs": [
    {
     "name": "stderr",
     "output_type": "stream",
     "text": [
      "100%|██████████| 17/17 [00:41<00:00,  2.46s/it]"
     ]
    },
    {
     "name": "stdout",
     "output_type": "stream",
     "text": [
      "/rds/project/rds-qxpdOeYWi78/plenoxels/opt/ckpt/tuning/slide/good_trunc/alpha_dep_tv_slv/ckpt_eval_surf/ckpt/vis_d2s.ply does not exist!\n"
     ]
    },
    {
     "name": "stderr",
     "output_type": "stream",
     "text": [
      "\n"
     ]
    }
   ],
   "source": [
    "\n",
    "\n",
    "scene_names = [\n",
    "    \"ship_re\", \n",
    "    \"lego_re\", \n",
    "    \"ficus\",\n",
    "    \"drums\",\n",
    "    \"mic_re\",\n",
    "    \"materials\",\n",
    "    \"hotdog_re\",\n",
    "    \"chair_re\",\n",
    "    \"lyre\",\n",
    "    \"bee\",\n",
    "    \"stair\",\n",
    "    \"fence\",\n",
    "    \"scale\",\n",
    "    \"seat\",\n",
    "    \"well\",\n",
    "    \"house\",\n",
    "    \"slide\",\n",
    "    # \"glass_table\",\n",
    "    # \"skull\",\n",
    "    # \"vase\", \n",
    "    # \"jar\",\n",
    "    # \"glasses2\",\n",
    "    # \"perfume\",\n",
    "    # \"wine\",\n",
    "    # \"bottle\",\n",
    "]\n",
    "\n",
    "temp_dir = Path('./zip_temp/')\n",
    "\n",
    "# if temp_dir.exists():\n",
    "#     shutil.rmtree(str(temp_dir))\n",
    "\n",
    "temp_dir.mkdir(exist_ok=True)\n",
    "\n",
    "\n",
    "path_pattern = '/rds/project/rds-qxpdOeYWi78/plenoxels/opt/ckpt/tuning/{}/good_trunc/clamp_0149_no_ldist_no_in_sparse/ckpt_eval_surf_masked/ckpt/vis_d2s.ply'\n",
    "folder_name = 'clamp_0149_no_ldist_no_in_sparse'\n",
    "\n",
    "path_pattern = '/rds/project/rds-qxpdOeYWi78/plenoxels/opt/ckpt/tuning/{}/good_trunc/alpha_dep_tv_slv/ckpt_eval_surf/ckpt/vis_d2s.ply'\n",
    "folder_name = 'alpha_dep_tv_slv'\n",
    "\n",
    "shape_dir = temp_dir / folder_name\n",
    "shape_dir.mkdir(exist_ok=True)\n",
    "\n",
    "for scene in tqdm(scene_names):\n",
    "    if Path(path_pattern.format(scene)).exists():\n",
    "        shutil.copy(path_pattern.format(scene), str(shape_dir / f'{scene}.ply'))\n",
    "    else:\n",
    "        print(f'{path_pattern.format(scene)} does not exist!')\n",
    "\n"
   ]
  },
  {
   "cell_type": "code",
   "execution_count": 4,
   "id": "f33dde57",
   "metadata": {},
   "outputs": [
    {
     "name": "stdout",
     "output_type": "stream",
     "text": [
      "  adding: zip_temp/alpha_dep_tv_slv/ (stored 0%)\n",
      "  adding: zip_temp/alpha_dep_tv_slv/seat.ply (deflated 75%)\n",
      "  adding: zip_temp/alpha_dep_tv_slv/lyre.ply (deflated 75%)\n",
      "  adding: zip_temp/alpha_dep_tv_slv/house.ply (deflated 74%)\n",
      "  adding: zip_temp/alpha_dep_tv_slv/lego_re.ply (deflated 75%)\n",
      "  adding: zip_temp/alpha_dep_tv_slv/bee.ply (deflated 74%)\n",
      "  adding: zip_temp/alpha_dep_tv_slv/mic_re.ply (deflated 74%)\n",
      "  adding: zip_temp/alpha_dep_tv_slv/fence.ply (deflated 76%)\n",
      "  adding: zip_temp/alpha_dep_tv_slv/stair.ply (deflated 76%)\n",
      "  adding: zip_temp/alpha_dep_tv_slv/chair_re.ply (deflated 74%)\n",
      "  adding: zip_temp/alpha_dep_tv_slv/ficus.ply (deflated 74%)\n",
      "  adding: zip_temp/alpha_dep_tv_slv/hotdog_re.ply (deflated 75%)\n",
      "  adding: zip_temp/alpha_dep_tv_slv/ship_re.ply (deflated 74%)\n",
      "  adding: zip_temp/alpha_dep_tv_slv/well.ply (deflated 75%)\n",
      "  adding: zip_temp/alpha_dep_tv_slv/materials.ply (deflated 74%)\n",
      "  adding: zip_temp/alpha_dep_tv_slv/drums.ply (deflated 73%)\n",
      "  adding: zip_temp/alpha_dep_tv_slv/scale.ply (deflated 75%)\n"
     ]
    },
    {
     "data": {
      "text/plain": [
       "0"
      ]
     },
     "execution_count": 4,
     "metadata": {},
     "output_type": "execute_result"
    }
   ],
   "source": [
    "os.system(f'zip -r {str(shape_dir)}.zip {str(shape_dir)}')"
   ]
  },
  {
   "cell_type": "code",
   "execution_count": 5,
   "id": "44ce4a88",
   "metadata": {},
   "outputs": [
    {
     "data": {
      "text/plain": [
       "PosixPath('zip_temp/clamp_0149_no_ldist_no_in_sparse')"
      ]
     },
     "execution_count": 5,
     "metadata": {},
     "output_type": "execute_result"
    }
   ],
   "source": [
    "shape_dir"
   ]
  }
 ],
 "metadata": {
  "kernelspec": {
   "display_name": "Python 3 (ipykernel)",
   "language": "python",
   "name": "python3"
  },
  "language_info": {
   "codemirror_mode": {
    "name": "ipython",
    "version": 3
   },
   "file_extension": ".py",
   "mimetype": "text/x-python",
   "name": "python",
   "nbconvert_exporter": "python",
   "pygments_lexer": "ipython3",
   "version": "3.8.13"
  },
  "vscode": {
   "interpreter": {
    "hash": "a4eb325728a7893a62c46a5cc24f1e4a30f85359e10143b1765a473a834f19df"
   }
  }
 },
 "nbformat": 4,
 "nbformat_minor": 5
}
