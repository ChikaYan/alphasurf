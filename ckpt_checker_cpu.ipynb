{
 "cells": [
  {
   "cell_type": "code",
   "execution_count": 19,
   "metadata": {},
   "outputs": [],
   "source": [
    "import numpy as np\n",
    "import svox2\n",
    "import torch\n",
    "\n",
    "np.set_printoptions(suppress=True)\n",
    "torch.set_printoptions(sci_mode=False)\n",
    "\n",
    "ckpy_path = \"opt/ckpt/tuning/lego/udf_slv_ms_fs/std_ex/ckpt.npz\"\n",
    "grid = np.load(ckpy_path, allow_pickle=True)\n",
    "grid = dict(zip((k for k in grid), (grid[k] for k in grid)))\n",
    "\n",
    "surface_data = grid['surface_data']\n",
    "alpha_data = grid['density_data']\n",
    "links = grid['links']"
   ]
  },
  {
   "cell_type": "code",
   "execution_count": 11,
   "metadata": {},
   "outputs": [
    {
     "data": {
      "text/plain": [
       "(84, 126, 106)"
      ]
     },
     "execution_count": 11,
     "metadata": {},
     "output_type": "execute_result"
    }
   ],
   "source": [
    "alpha_data.argmax()\n",
    "svox2.utils.inv_morton_code_3(1959832)"
   ]
  },
  {
   "cell_type": "code",
   "execution_count": 15,
   "metadata": {},
   "outputs": [
    {
     "data": {
      "text/plain": [
       "(array([117]), array([123]), array([156]))"
      ]
     },
     "execution_count": 15,
     "metadata": {},
     "output_type": "execute_result"
    }
   ],
   "source": [
    "np.where(links == 1959832)"
   ]
  },
  {
   "cell_type": "code",
   "execution_count": 13,
   "metadata": {},
   "outputs": [
    {
     "data": {
      "text/plain": [
       "array([9.164036], dtype=float32)"
      ]
     },
     "execution_count": 13,
     "metadata": {},
     "output_type": "execute_result"
    }
   ],
   "source": [
    "117, 123, 156"
   ]
  },
  {
   "cell_type": "code",
   "execution_count": 2,
   "metadata": {},
   "outputs": [],
   "source": [
    "def get_voxel_surface_data(l, surface_data=surface_data, links=links):\n",
    "    lx, ly, lz = l\n",
    "    links000 = links[lx, ly, lz]\n",
    "    links001 = links[lx, ly, lz + 1]\n",
    "    links010 = links[lx, ly + 1, lz]\n",
    "    links011 = links[lx, ly + 1, lz + 1]\n",
    "    links100 = links[lx + 1, ly, lz]\n",
    "    links101 = links[lx + 1, ly, lz + 1]\n",
    "    links110 = links[lx + 1, ly + 1, lz]\n",
    "    links111 = links[lx + 1, ly + 1, lz + 1]\n",
    "\n",
    "    surfaces = [surface_data[links000,0], surface_data[links001,0], surface_data[links010,0], surface_data[links011,0], surface_data[links100,0], surface_data[links101,0], surface_data[links110,0], surface_data[links111,0]]\n",
    "\n",
    "    return np.stack(surfaces)\n",
    "\n",
    "def get_voxel_alpha_data(l, alpha_data=alpha_data):\n",
    "    lx, ly, lz = l\n",
    "    links000 = links[lx, ly, lz]\n",
    "    links001 = links[lx, ly, lz + 1]\n",
    "    links010 = links[lx, ly + 1, lz]\n",
    "    links011 = links[lx, ly + 1, lz + 1]\n",
    "    links100 = links[lx + 1, ly, lz]\n",
    "    links101 = links[lx + 1, ly, lz + 1]\n",
    "    links110 = links[lx + 1, ly + 1, lz]\n",
    "    links111 = links[lx + 1, ly + 1, lz + 1]\n",
    "\n",
    "    alphas = [alpha_data[links000,0], alpha_data[links001,0], alpha_data[links010,0], alpha_data[links011,0], alpha_data[links100,0], alpha_data[links101,0], alpha_data[links110,0], alpha_data[links111,0]]\n",
    "\n",
    "    return np.stack(alphas)\n"
   ]
  },
  {
   "cell_type": "code",
   "execution_count": 18,
   "metadata": {},
   "outputs": [
    {
     "data": {
      "text/plain": [
       "tensor([110.3559, 110.3534, 110.3542, 110.3513, 110.3545, 110.3517, 110.3532,\n",
       "        110.3502])"
      ]
     },
     "execution_count": 18,
     "metadata": {},
     "output_type": "execute_result"
    }
   ],
   "source": [
    "fn = torch.nn.Softplus()\n",
    "\n",
    "fn(torch.from_numpy(get_voxel_surface_data([118, 123, 156])))"
   ]
  },
  {
   "cell_type": "code",
   "execution_count": 17,
   "metadata": {},
   "outputs": [
    {
     "data": {
      "text/plain": [
       "tensor([0.9999, 0.9998, 0.6124, 0.6253, 0.9993, 0.9994, 0.2456, 0.2772])"
      ]
     },
     "execution_count": 17,
     "metadata": {},
     "output_type": "execute_result"
    }
   ],
   "source": [
    "torch.sigmoid(torch.from_numpy(get_voxel_alpha_data([117, 123, 156])))"
   ]
  },
  {
   "cell_type": "code",
   "execution_count": null,
   "metadata": {},
   "outputs": [],
   "source": []
  },
  {
   "cell_type": "code",
   "execution_count": null,
   "metadata": {},
   "outputs": [],
   "source": []
  },
  {
   "cell_type": "code",
   "execution_count": null,
   "metadata": {},
   "outputs": [],
   "source": []
  },
  {
   "cell_type": "code",
   "execution_count": null,
   "metadata": {},
   "outputs": [],
   "source": []
  },
  {
   "cell_type": "code",
   "execution_count": 31,
   "metadata": {},
   "outputs": [
    {
     "name": "stdout",
     "output_type": "stream",
     "text": [
      "[6 1 5]\n",
      "[0.9999989  1.         1.         1.         0.36254048 1.\n",
      " 1.         1.        ]\n"
     ]
    }
   ],
   "source": [
    "ls = np.stack(\n",
    "    np.meshgrid(np.arange(grid.links.shape[0]-1),np.arange(grid.links.shape[1]-1),np.arange(grid.links.shape[2]-1))\n",
    "    ).reshape(3, -1).T\n",
    "# ls = np.stack(\n",
    "#     np.meshgrid(np.arange(64, 128),np.arange(64, 128),np.arange(64, 128))\n",
    "#     ).reshape(3, -1).T\n",
    "\n",
    "render_ls = [ls[i] for i in range(ls.shape[0])]\n",
    "\n",
    "for l in render_ls:\n",
    "    lx, ly, lz = l\n",
    "    links000 = grid.links[lx, ly, lz]\n",
    "    links001 = grid.links[lx, ly, lz + 1]\n",
    "    links010 = grid.links[lx, ly + 1, lz]\n",
    "    links011 = grid.links[lx, ly + 1, lz + 1]\n",
    "    links100 = grid.links[lx + 1, ly, lz]\n",
    "    links101 = grid.links[lx + 1, ly, lz + 1]\n",
    "    links110 = grid.links[lx + 1, ly + 1, lz]\n",
    "    links111 = grid.links[lx + 1, ly + 1, lz + 1]\n",
    "    alphas = [\n",
    "        alpha_data[links000,0], \n",
    "        alpha_data[links001,0], \n",
    "        alpha_data[links010,0], \n",
    "        alpha_data[links011,0], \n",
    "        alpha_data[links100,0], \n",
    "        alpha_data[links101,0], \n",
    "        alpha_data[links110,0], \n",
    "        alpha_data[links111,0]\n",
    "        ]\n",
    "    alphas = torch.sigmoid(torch.stack(alphas)).cpu().detach().numpy()\n",
    "    if np.min(alphas) >= 0.01:\n",
    "        print(l)\n",
    "        print(alphas)\n",
    "        break\n"
   ]
  },
  {
   "cell_type": "code",
   "execution_count": 47,
   "metadata": {},
   "outputs": [
    {
     "name": "stdout",
     "output_type": "stream",
     "text": [
      "tensor([-0.2808, -0.1471, -0.5816, -1.2880, -0.1003, -1.2476, -0.0587, -0.5634],\n",
      "       device='cuda:0', grad_fn=<StackBackward0>)\n",
      "tensor([-6.7964,  2.7451, 25.3549, 20.4087, 11.5054,  5.5626, 18.6356, 27.7375],\n",
      "       device='cuda:0', grad_fn=<StackBackward0>)\n",
      "tensor([0.0011, 0.9396, 1.0000, 1.0000, 1.0000, 0.9962, 1.0000, 1.0000],\n",
      "       device='cuda:0', grad_fn=<SigmoidBackward0>)\n"
     ]
    }
   ],
   "source": [
    "# l = [2,4,3]\n",
    "# l = [ 74, 64, 101]\n",
    "# l = [ 74, 64, 104]\n",
    "\n",
    "\n",
    "\n",
    "\n",
    "lx, ly, lz = l\n",
    "links000 = grid.links[lx, ly, lz]\n",
    "links001 = grid.links[lx, ly, lz + 1]\n",
    "links010 = grid.links[lx, ly + 1, lz]\n",
    "links011 = grid.links[lx, ly + 1, lz + 1]\n",
    "links100 = grid.links[lx + 1, ly, lz]\n",
    "links101 = grid.links[lx + 1, ly, lz + 1]\n",
    "links110 = grid.links[lx + 1, ly + 1, lz]\n",
    "links111 = grid.links[lx + 1, ly + 1, lz + 1]\n",
    "\n",
    "\n",
    "surfaces = [surface_data[links000,0], surface_data[links001,0], surface_data[links010,0], surface_data[links011,0], surface_data[links100,0], surface_data[links101,0], surface_data[links110,0], surface_data[links111,0]]\n",
    "alphas = [alpha_data[links000,0], alpha_data[links001,0], alpha_data[links010,0], alpha_data[links011,0], alpha_data[links100,0], alpha_data[links101,0], alpha_data[links110,0], alpha_data[links111,0]]\n",
    "print(torch.stack(surfaces))\n",
    "print(torch.stack(alphas))\n",
    "print(torch.sigmoid(torch.stack(alphas)))"
   ]
  },
  {
   "cell_type": "code",
   "execution_count": 17,
   "metadata": {},
   "outputs": [
    {
     "data": {
      "text/plain": [
       "tensor(221.7026, device='cuda:0', grad_fn=<MaxBackward1>)"
      ]
     },
     "execution_count": 17,
     "metadata": {},
     "output_type": "execute_result"
    }
   ],
   "source": [
    "surface_data.max()"
   ]
  },
  {
   "cell_type": "code",
   "execution_count": 24,
   "metadata": {},
   "outputs": [
    {
     "data": {
      "text/plain": [
       "tensor(0.0010, grad_fn=<MinBackward1>)"
      ]
     },
     "execution_count": 24,
     "metadata": {},
     "output_type": "execute_result"
    }
   ],
   "source": [
    "torch.sigmoid(grid.density_data).min()"
   ]
  },
  {
   "cell_type": "code",
   "execution_count": 19,
   "metadata": {},
   "outputs": [],
   "source": [
    "grid_new = svox2.SparseGrid(reso=grid.links.shape,\n",
    "                            center=grid.center,\n",
    "                            radius=grid.radius,\n",
    "                            use_sphere_bound=False,\n",
    "                            basis_dim=9,\n",
    "                            use_z_order=True,\n",
    "                            device='cuda',\n",
    "                            basis_reso=32,\n",
    "                            basis_type=svox2.__dict__['BASIS_TYPE_' + 'sh'.upper()],\n",
    "                            surface_type=grid.surface_type,\n",
    "                            surface_init=None)\n"
   ]
  },
  {
   "cell_type": "code",
   "execution_count": 20,
   "metadata": {},
   "outputs": [
    {
     "data": {
      "text/plain": [
       "[tensor(71.5542, device='cuda:0', grad_fn=<SelectBackward0>),\n",
       " tensor(71.1126, device='cuda:0', grad_fn=<SelectBackward0>),\n",
       " tensor(71.5612, device='cuda:0', grad_fn=<SelectBackward0>),\n",
       " tensor(71.1196, device='cuda:0', grad_fn=<SelectBackward0>),\n",
       " tensor(70.6612, device='cuda:0', grad_fn=<SelectBackward0>),\n",
       " tensor(70.2140, device='cuda:0', grad_fn=<SelectBackward0>),\n",
       " tensor(70.6682, device='cuda:0', grad_fn=<SelectBackward0>),\n",
       " tensor(70.2211, device='cuda:0', grad_fn=<SelectBackward0>)]"
      ]
     },
     "execution_count": 20,
     "metadata": {},
     "output_type": "execute_result"
    }
   ],
   "source": [
    "l = [2,4,3]\n",
    "l = [2*32,4*32,3*32]\n",
    "lx, ly, lz = l\n",
    "links000 = grid.links[lx, ly, lz]\n",
    "links001 = grid.links[lx, ly, lz + 1]\n",
    "links010 = grid.links[lx, ly + 1, lz]\n",
    "links011 = grid.links[lx, ly + 1, lz + 1]\n",
    "links100 = grid.links[lx + 1, ly, lz]\n",
    "links101 = grid.links[lx + 1, ly, lz + 1]\n",
    "links110 = grid.links[lx + 1, ly + 1, lz]\n",
    "links111 = grid.links[lx + 1, ly + 1, lz + 1]\n",
    "\n",
    "surface_data = grid_new.surface_data\n",
    "surfaces = [surface_data[links000,0], surface_data[links001,0], surface_data[links010,0], surface_data[links011,0], surface_data[links100,0], surface_data[links101,0], surface_data[links110,0], surface_data[links111,0]]\n",
    "surfaces"
   ]
  },
  {
   "cell_type": "code",
   "execution_count": 33,
   "metadata": {},
   "outputs": [
    {
     "data": {
      "text/plain": [
       "tensor([[0.0010],\n",
       "        [0.0010],\n",
       "        [0.0010],\n",
       "        ...,\n",
       "        [0.0010],\n",
       "        [0.0010],\n",
       "        [0.0010]], device='cuda:0', grad_fn=<SigmoidBackward0>)"
      ]
     },
     "execution_count": 33,
     "metadata": {},
     "output_type": "execute_result"
    }
   ],
   "source": [
    "torch.sigmoid(grid_new.density_data)"
   ]
  },
  {
   "cell_type": "code",
   "execution_count": 26,
   "metadata": {},
   "outputs": [
    {
     "data": {
      "text/plain": [
       "Parameter containing:\n",
       "tensor([[0.],\n",
       "        [0.],\n",
       "        [0.],\n",
       "        ...,\n",
       "        [0.],\n",
       "        [0.],\n",
       "        [0.]], device='cuda:0', requires_grad=True)"
      ]
     },
     "execution_count": 26,
     "metadata": {},
     "output_type": "execute_result"
    }
   ],
   "source": [
    "grid_new.density_data"
   ]
  },
  {
   "cell_type": "code",
   "execution_count": 31,
   "metadata": {},
   "outputs": [
    {
     "data": {
      "text/plain": [
       "tensor(-6.9068)"
      ]
     },
     "execution_count": 31,
     "metadata": {},
     "output_type": "execute_result"
    }
   ],
   "source": [
    "torch.logit(torch.tensor(0.001))"
   ]
  }
 ],
 "metadata": {
  "kernelspec": {
   "display_name": "Python 3.8.8 ('plenoxel')",
   "language": "python",
   "name": "python3"
  },
  "language_info": {
   "codemirror_mode": {
    "name": "ipython",
    "version": 3
   },
   "file_extension": ".py",
   "mimetype": "text/x-python",
   "name": "python",
   "nbconvert_exporter": "python",
   "pygments_lexer": "ipython3",
   "version": "3.8.13"
  },
  "orig_nbformat": 4,
  "vscode": {
   "interpreter": {
    "hash": "3b33ed6f2d6466f718d5d19a1aa8c0bc9763ba76419ccedffeca61195249d282"
   }
  }
 },
 "nbformat": 4,
 "nbformat_minor": 2
}
