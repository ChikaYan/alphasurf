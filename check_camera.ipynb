{
 "cells": [
  {
   "cell_type": "code",
   "execution_count": 1,
   "metadata": {},
   "outputs": [],
   "source": [
    "import numpy as np\n",
    "np.set_printoptions(suppress=True)"
   ]
  },
  {
   "cell_type": "code",
   "execution_count": 14,
   "metadata": {},
   "outputs": [
    {
     "data": {
      "text/plain": [
       "array([  -0.56796869,    0.74166787,   -0.35684778,   -2.3535273 ,\n",
       "       4000.        ,    0.80565053,    0.58966777,   -0.05673747,\n",
       "          2.49801358, 3000.        ,    0.16834128,   -0.31971972,\n",
       "         -0.93243794,   -1.505387  , 5791.52966728,    6.78811453,\n",
       "         12.84622196])"
      ]
     },
     "execution_count": 14,
     "metadata": {},
     "output_type": "execute_result"
    }
   ],
   "source": [
    "p1 = np.load('/rds/project/rds-qxpdOeYWi78/plenoxels/data/real/floss3/poses_bounds.npy')\n",
    "p1[0]"
   ]
  },
  {
   "cell_type": "code",
   "execution_count": 15,
   "metadata": {},
   "outputs": [
    {
     "data": {
      "text/plain": [
       "array([   0.02242252,    0.98963074,   -0.141874  ,   -3.67917907,\n",
       "       3024.        ,    0.99912101,   -0.02720908,   -0.0318884 ,\n",
       "         -1.60379162, 4032.        ,   -0.035418  ,   -0.14103427,\n",
       "         -0.98937096,   -0.27680206, 3260.52633288,   17.74708748,\n",
       "         78.25748707])"
      ]
     },
     "execution_count": 15,
     "metadata": {},
     "output_type": "execute_result"
    }
   ],
   "source": [
    "p2 = np.load('/rds/project/rds-qxpdOeYWi78/plenoxels/data/real/fern/poses_bounds.npy')\n",
    "p2[0]"
   ]
  },
  {
   "cell_type": "code",
   "execution_count": 3,
   "metadata": {},
   "outputs": [
    {
     "data": {
      "text/plain": [
       "(14,)"
      ]
     },
     "execution_count": 3,
     "metadata": {},
     "output_type": "execute_result"
    }
   ],
   "source": [
    "p3 = np.load('/rds/project/rds-qxpdOeYWi78/plenoxels/data/real/cup_yellow_circle/poses_bounds.npy')\n",
    "# p3 = np.load('/rds/project/rds-qxpdOeYWi78/plenoxels/data/real/cup_yellow_circle/hwf_cxcy.npy')\n",
    "p3[0].shape"
   ]
  },
  {
   "cell_type": "code",
   "execution_count": 13,
   "metadata": {},
   "outputs": [
    {
     "data": {
      "text/plain": [
       "array([-0.36082542,  0.02712938, -0.93223871, -4.61510539,  0.35683694,\n",
       "        0.92753396, -0.11112221,  1.58789957,  0.86166839, -0.37275293,\n",
       "       -0.3443586 ,  2.39182312,  3.97284397,  6.44802153])"
      ]
     },
     "execution_count": 13,
     "metadata": {},
     "output_type": "execute_result"
    }
   ],
   "source": [
    "p3[0]"
   ]
  },
  {
   "cell_type": "code",
   "execution_count": 4,
   "metadata": {},
   "outputs": [],
   "source": [
    "pts = np.load('/rds/project/rds-qxpdOeYWi78/plenoxels/data/real/cup_yellow_circle/pts_arr.npy')\n",
    "view_ids = np.load('/rds/project/rds-qxpdOeYWi78/plenoxels/data/real/cup_yellow_circle/vis_arr.npy')"
   ]
  },
  {
   "cell_type": "code",
   "execution_count": 5,
   "metadata": {},
   "outputs": [
    {
     "data": {
      "text/plain": [
       "(74881, 3)"
      ]
     },
     "execution_count": 5,
     "metadata": {},
     "output_type": "execute_result"
    }
   ],
   "source": [
    "pts.shape"
   ]
  },
  {
   "cell_type": "code",
   "execution_count": 6,
   "metadata": {},
   "outputs": [
    {
     "data": {
      "text/plain": [
       "(74881, 103)"
      ]
     },
     "execution_count": 6,
     "metadata": {},
     "output_type": "execute_result"
    }
   ],
   "source": [
    "view_ids.shape"
   ]
  },
  {
   "cell_type": "code",
   "execution_count": 13,
   "metadata": {},
   "outputs": [
    {
     "data": {
      "text/plain": [
       "(1998, 3)"
      ]
     },
     "execution_count": 13,
     "metadata": {},
     "output_type": "execute_result"
    }
   ],
   "source": [
    "pts[view_ids[:, 1].astype(bool)].shape"
   ]
  },
  {
   "cell_type": "code",
   "execution_count": 15,
   "metadata": {},
   "outputs": [
    {
     "data": {
      "text/plain": [
       "array([    0,     1,     2, ..., 74878, 74879, 74880])"
      ]
     },
     "execution_count": 15,
     "metadata": {},
     "output_type": "execute_result"
    }
   ],
   "source": [
    "np.arange(view_ids.shape[0])"
   ]
  }
 ],
 "metadata": {
  "kernelspec": {
   "display_name": "voxel_sdf",
   "language": "python",
   "name": "python3"
  },
  "language_info": {
   "codemirror_mode": {
    "name": "ipython",
    "version": 3
   },
   "file_extension": ".py",
   "mimetype": "text/x-python",
   "name": "python",
   "nbconvert_exporter": "python",
   "pygments_lexer": "ipython3",
   "version": "3.8.13"
  }
 },
 "nbformat": 4,
 "nbformat_minor": 2
}
