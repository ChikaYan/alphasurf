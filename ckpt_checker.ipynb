{
 "cells": [
  {
   "cell_type": "code",
   "execution_count": 1,
   "metadata": {},
   "outputs": [
    {
     "name": "stderr",
     "output_type": "stream",
     "text": [
      "/home/tw554/plenoxels/svox2/utils.py:42: UserWarning: CUDA extension svox2.csrc could not be loaded! Operations will be slow.\n",
      "Please do not import svox in the svox2 source directory.\n",
      "  warn(\"CUDA extension svox2.csrc could not be loaded! \" +\n"
     ]
    }
   ],
   "source": [
    "import numpy as np\n",
    "import svox2\n",
    "import torch\n",
    "from k3d.colormaps import matplotlib_color_maps\n",
    "import open3d as o3d\n",
    "from tqdm import tqdm\n",
    "from scipy.io import loadmat\n",
    "import k3d\n",
    "from opt.util.dataset import datasets\n",
    "import os\n",
    "\n",
    "np.set_printoptions(suppress=True)\n",
    "torch.set_printoptions(sci_mode=False)"
   ]
  },
  {
   "cell_type": "code",
   "execution_count": 2,
   "metadata": {},
   "outputs": [
    {
     "data": {
      "text/plain": [
       "100000"
      ]
     },
     "execution_count": 2,
     "metadata": {},
     "output_type": "execute_result"
    }
   ],
   "source": [
    "path = \"/home/tw554/plenoxels/opt/ckpt/sparsify/000/ckpt.npz\"\n",
    "# path = \"opt/ckpt/dtu_scan63/ex_3_no_alpha/\"\n",
    "# path = \"opt/ckpt/dtu_scan63/no_surface_init_long_init_high_lap/\"\n",
    "# path = \"opt/ckpt/dtu_scan63/norm_loss_con_low/\"\n",
    "# path = \"opt/ckpt/udf_debug_3/ckpt_00500.npz\"\n",
    "\n",
    "if os.path.isfile(path):\n",
    "    grid = svox2.SparseGrid.load(path, device='cuda')\n",
    "else:\n",
    "    grid = svox2.SparseGrid.load(path + \"ckpt.npz\", device='cuda')\n",
    "\n",
    "surface_data = grid.surface_data\n",
    "alpha_data = grid.density_data\n",
    "grid.step_id"
   ]
  },
  {
   "cell_type": "markdown",
   "metadata": {},
   "source": [
    "# Inspect non-empty voxels"
   ]
  },
  {
   "cell_type": "code",
   "execution_count": 10,
   "metadata": {},
   "outputs": [],
   "source": [
    "# l = [2,4,3]\n",
    "# l = [ 74, 64, 101]\n",
    "# l = [ 74, 64, 104]\n",
    "\n",
    "def get_voxel_surface_data(l, surface_data=surface_data):\n",
    "    lx, ly, lz = l\n",
    "    links000 = grid.links[lx, ly, lz]\n",
    "    links001 = grid.links[lx, ly, lz + 1]\n",
    "    links010 = grid.links[lx, ly + 1, lz]\n",
    "    links011 = grid.links[lx, ly + 1, lz + 1]\n",
    "    links100 = grid.links[lx + 1, ly, lz]\n",
    "    links101 = grid.links[lx + 1, ly, lz + 1]\n",
    "    links110 = grid.links[lx + 1, ly + 1, lz]\n",
    "    links111 = grid.links[lx + 1, ly + 1, lz + 1]\n",
    "\n",
    "    surfaces = [surface_data[links000,0], surface_data[links001,0], surface_data[links010,0], surface_data[links011,0], surface_data[links100,0], surface_data[links101,0], surface_data[links110,0], surface_data[links111,0]]\n",
    "\n",
    "    return torch.stack(surfaces)\n",
    "\n",
    "def get_voxel_alpha_data(l, alpha_data=alpha_data):\n",
    "    lx, ly, lz = l\n",
    "    links000 = grid.links[lx, ly, lz]\n",
    "    links001 = grid.links[lx, ly, lz + 1]\n",
    "    links010 = grid.links[lx, ly + 1, lz]\n",
    "    links011 = grid.links[lx, ly + 1, lz + 1]\n",
    "    links100 = grid.links[lx + 1, ly, lz]\n",
    "    links101 = grid.links[lx + 1, ly, lz + 1]\n",
    "    links110 = grid.links[lx + 1, ly + 1, lz]\n",
    "    links111 = grid.links[lx + 1, ly + 1, lz + 1]\n",
    "\n",
    "    alphas = [alpha_data[links000,0], alpha_data[links001,0], alpha_data[links010,0], alpha_data[links011,0], alpha_data[links100,0], alpha_data[links101,0], alpha_data[links110,0], alpha_data[links111,0]]\n",
    "\n",
    "    return torch.stack(alphas)\n"
   ]
  },
  {
   "cell_type": "code",
   "execution_count": 18,
   "metadata": {},
   "outputs": [
    {
     "data": {
      "text/plain": [
       "tensor([    5.6306,     0.2281,     4.7108,     4.7423,    10.1005,     0.0018,\n",
       "            5.2897,     1.4869], device='cuda:0', grad_fn=<SoftplusBackward0>)"
      ]
     },
     "execution_count": 18,
     "metadata": {},
     "output_type": "execute_result"
    }
   ],
   "source": [
    "fn = torch.nn.Softplus()\n",
    "\n",
    "fn(get_voxel_surface_data([2,4,3]))"
   ]
  },
  {
   "cell_type": "code",
   "execution_count": 31,
   "metadata": {},
   "outputs": [
    {
     "name": "stdout",
     "output_type": "stream",
     "text": [
      "[6 1 5]\n",
      "[0.9999989  1.         1.         1.         0.36254048 1.\n",
      " 1.         1.        ]\n"
     ]
    }
   ],
   "source": [
    "ls = np.stack(\n",
    "    np.meshgrid(np.arange(grid.links.shape[0]-1),np.arange(grid.links.shape[1]-1),np.arange(grid.links.shape[2]-1))\n",
    "    ).reshape(3, -1).T\n",
    "# ls = np.stack(\n",
    "#     np.meshgrid(np.arange(64, 128),np.arange(64, 128),np.arange(64, 128))\n",
    "#     ).reshape(3, -1).T\n",
    "\n",
    "render_ls = [ls[i] for i in range(ls.shape[0])]\n",
    "\n",
    "for l in render_ls:\n",
    "    lx, ly, lz = l\n",
    "    links000 = grid.links[lx, ly, lz]\n",
    "    links001 = grid.links[lx, ly, lz + 1]\n",
    "    links010 = grid.links[lx, ly + 1, lz]\n",
    "    links011 = grid.links[lx, ly + 1, lz + 1]\n",
    "    links100 = grid.links[lx + 1, ly, lz]\n",
    "    links101 = grid.links[lx + 1, ly, lz + 1]\n",
    "    links110 = grid.links[lx + 1, ly + 1, lz]\n",
    "    links111 = grid.links[lx + 1, ly + 1, lz + 1]\n",
    "    alphas = [\n",
    "        alpha_data[links000,0], \n",
    "        alpha_data[links001,0], \n",
    "        alpha_data[links010,0], \n",
    "        alpha_data[links011,0], \n",
    "        alpha_data[links100,0], \n",
    "        alpha_data[links101,0], \n",
    "        alpha_data[links110,0], \n",
    "        alpha_data[links111,0]\n",
    "        ]\n",
    "    alphas = torch.sigmoid(torch.stack(alphas)).cpu().detach().numpy()\n",
    "    if np.min(alphas) >= 0.01:\n",
    "        print(l)\n",
    "        print(alphas)\n",
    "        break\n"
   ]
  },
  {
   "cell_type": "markdown",
   "metadata": {},
   "source": [
    "# Visualize extracted pts"
   ]
  },
  {
   "cell_type": "code",
   "execution_count": 3,
   "metadata": {},
   "outputs": [
    {
     "name": "stderr",
     "output_type": "stream",
     "text": [
      "100%|███████████████████████████████████████████████████████████████████████████████████████████████████| 49/49 [00:04<00:00, 11.72it/s]\n"
     ]
    },
    {
     "name": "stdout",
     "output_type": "stream",
     "text": [
      " Generating rays, scaling factor 1\n"
     ]
    },
    {
     "name": "stderr",
     "output_type": "stream",
     "text": [
      "/home/tw554/.conda/envs/voxel_sdf/lib/python3.8/site-packages/torch/functional.py:568: UserWarning: torch.meshgrid: in an upcoming release, it will be required to pass the indexing argument. (Triggered internally at  /opt/conda/conda-bld/pytorch_1646755903507/work/aten/src/ATen/native/TensorShape.cpp:2228.)\n",
      "  return _VF.meshgrid(tensors, **kwargs)  # type: ignore[attr-defined]\n"
     ]
    }
   ],
   "source": [
    "# to find voxel of pts\n",
    "dset = datasets[\"auto\"](\n",
    "               \"data/dtu/dtu_scan63\",\n",
    "               split=\"train\",\n",
    "               device=\"cuda\",\n",
    "               factor=1,\n",
    "               n_images=-1)"
   ]
  },
  {
   "cell_type": "code",
   "execution_count": 4,
   "metadata": {},
   "outputs": [
    {
     "data": {
      "application/vnd.jupyter.widget-view+json": {
       "model_id": "e56861822df94464a471f77ff4b04812",
       "version_major": 2,
       "version_minor": 0
      },
      "text/plain": [
       "Output()"
      ]
     },
     "metadata": {},
     "output_type": "display_data"
    }
   ],
   "source": [
    "# data_pcd = np.load(f'{path}/ckpt_eval_surf_trav/pts.npy')\n",
    "data_pcd = np.load(f'/home/tw554/plenoxels/opt/ckpt/sparsify/000/ckpt_eval_surf_trav/ckpt_pts.npy')\n",
    "\n",
    "lb = np.array([-300,-200,600])\n",
    "ub = np.array([-50,0,800])\n",
    "\n",
    "lb = np.array([-240,-300,500])\n",
    "ub = np.array([100,100,900])\n",
    "\n",
    "mask = (data_pcd > lb).all(axis=-1) & (data_pcd < ub).all(axis=-1)\n",
    "pts = data_pcd[mask]\n",
    "# pts = data_pcd\n",
    "pts.shape\n",
    "\n",
    "\n",
    "\n",
    "plt_points = k3d.points(pts,\n",
    "                        color=0xff0000,\n",
    "                        point_size=0.001,\n",
    "                        shader=\"flat\")\n",
    "\n",
    "\n",
    "plot = k3d.plot(grid_visible=True,\n",
    "                camera_auto_fit=True)\n",
    "plot += plt_points\n",
    "plot.display()"
   ]
  },
  {
   "cell_type": "code",
   "execution_count": null,
   "metadata": {},
   "outputs": [],
   "source": []
  },
  {
   "cell_type": "code",
   "execution_count": 5,
   "metadata": {},
   "outputs": [
    {
     "name": "stdout",
     "output_type": "stream",
     "text": [
      "tensor([[ 81.0907, 130.4815, 321.4035],\n",
      "        [ 81.2725, 130.4778, 321.4713],\n",
      "        [ 81.4480, 130.4709, 321.5504],\n",
      "        ...,\n",
      "        [214.3602, 291.1046, 349.1845],\n",
      "        [217.9518, 288.0277, 352.2457],\n",
      "        [218.5369, 287.3306, 352.9247]])\n"
     ]
    },
    {
     "data": {
      "application/vnd.jupyter.widget-view+json": {
       "model_id": "a3b1d03e20c14d65a804c8f34f958caf",
       "version_major": 2,
       "version_minor": 0
      },
      "text/plain": [
       "Output()"
      ]
     },
     "metadata": {},
     "output_type": "display_data"
    }
   ],
   "source": [
    "hit_pts = grid.world2grid(torch.tensor(dset.rescale2world(pts)))\n",
    "\n",
    "print(hit_pts)\n",
    "\n",
    "plt_points = k3d.points(hit_pts,\n",
    "                        color=0xff0000,\n",
    "                        point_size=0.001,\n",
    "                        shader=\"flat\")\n",
    "\n",
    "\n",
    "plot = k3d.plot(grid_visible=True,\n",
    "                camera_auto_fit=True)\n",
    "plot += plt_points\n",
    "plot.display()"
   ]
  },
  {
   "cell_type": "code",
   "execution_count": 8,
   "metadata": {},
   "outputs": [
    {
     "data": {
      "application/vnd.jupyter.widget-view+json": {
       "model_id": "dbb8f865a55245ee9484820dca7ab52c",
       "version_major": 2,
       "version_minor": 0
      },
      "text/plain": [
       "Output()"
      ]
     },
     "metadata": {},
     "output_type": "display_data"
    }
   ],
   "source": [
    "vex_pts = hit_pts.long()\n",
    "links = grid.links[vex_pts[:,0], vex_pts[:,1], vex_pts[:,2]]\n",
    "\n",
    "link_mask = links >= 0\n",
    "vex_pts = vex_pts[link_mask]\n",
    "links = links[link_mask]\n",
    "\n",
    "surfs = grid.surface_data.data[links.long()]\n",
    "density = grid.density_data.data[links.long()]\n",
    "\n",
    "plt_points = k3d.points(positions=vex_pts.cpu().detach().numpy(),\n",
    "#                         colors=colors,\n",
    "                        point_size=0.5,\n",
    "                        shader='3d',\n",
    "#                         opacities=density.cpu().detach().numpy(),\n",
    "#                         color_map=matplotlib_color_maps.Coolwarm,\n",
    "                        attribute=density.clamp_max(200).cpu().detach().numpy()[:,0],\n",
    "#                         color_range=[110.9, 110.8], \n",
    "#                         color=0x3f6bc5,\n",
    "                       )\n",
    "\n",
    "plot = k3d.plot()\n",
    "plot += plt_points\n",
    "plot.display()"
   ]
  },
  {
   "cell_type": "code",
   "execution_count": 6,
   "metadata": {},
   "outputs": [
    {
     "name": "stderr",
     "output_type": "stream",
     "text": [
      "/home/tw554/.conda/envs/voxel_sdf/lib/python3.8/site-packages/traittypes/traittypes.py:97: UserWarning: Given trait value dtype \"int64\" does not match required type \"float32\". A coerced copy has been created.\n",
      "  warnings.warn(\n"
     ]
    },
    {
     "data": {
      "application/vnd.jupyter.widget-view+json": {
       "model_id": "322981a302e54d79881bfe02c6ff88cf",
       "version_major": 2,
       "version_minor": 0
      },
      "text/plain": [
       "Output()"
      ]
     },
     "metadata": {},
     "output_type": "display_data"
    }
   ],
   "source": [
    "vex_pts = torch.meshgrid(torch.arange(100, 200), torch.arange(100, 200), torch.arange(250, 350))\n",
    "vex_pts = torch.stack(vex_pts).view(3, -1).T.to('cuda').long()\n",
    "links = grid.links[vex_pts[:,0], vex_pts[:,1], vex_pts[:,2]]\n",
    "\n",
    "link_mask = links >= 0\n",
    "vex_pts = vex_pts[link_mask]\n",
    "links = links[link_mask]\n",
    "\n",
    "surfs = grid.surface_data.data[links.long()]\n",
    "density = grid.density_data.data[links.long()]\n",
    "\n",
    "\n",
    "plt_points = k3d.points(positions=vex_pts.cpu().detach().numpy(),\n",
    "#                         colors=colors,\n",
    "                        point_size=0.5,\n",
    "                        shader='3d',\n",
    "#                         opacities=density.cpu().detach().numpy(),\n",
    "#                         color_map=matplotlib_color_maps.Coolwarm,\n",
    "                        attribute=density.clamp_max(200).cpu().detach().numpy()[:,0],\n",
    "#                         color_range=[110.9, 110.8], \n",
    "#                         color=0x3f6bc5,\n",
    "                       )\n",
    "\n",
    "plot = k3d.plot()\n",
    "plot += plt_points\n",
    "plot.display()"
   ]
  },
  {
   "cell_type": "code",
   "execution_count": 14,
   "metadata": {},
   "outputs": [
    {
     "data": {
      "text/plain": [
       "tensor(4.2622, device='cuda:0')"
      ]
     },
     "execution_count": 14,
     "metadata": {},
     "output_type": "execute_result"
    }
   ],
   "source": [
    "density.mean()"
   ]
  },
  {
   "cell_type": "code",
   "execution_count": 18,
   "metadata": {},
   "outputs": [
    {
     "data": {
      "text/plain": [
       "tensor([[0.1144],\n",
       "        [0.1144],\n",
       "        [0.1144],\n",
       "        ...,\n",
       "        [0.0487],\n",
       "        [0.1055],\n",
       "        [0.0458]], device='cuda:0')"
      ]
     },
     "execution_count": 18,
     "metadata": {},
     "output_type": "execute_result"
    }
   ],
   "source": []
  },
  {
   "cell_type": "code",
   "execution_count": null,
   "metadata": {},
   "outputs": [],
   "source": []
  },
  {
   "cell_type": "code",
   "execution_count": null,
   "metadata": {},
   "outputs": [],
   "source": []
  },
  {
   "cell_type": "code",
   "execution_count": 83,
   "metadata": {},
   "outputs": [
    {
     "name": "stderr",
     "output_type": "stream",
     "text": [
      "100%|████████████████████████████████████████████████████████████████████████████████████████████████████████████████████| 400/400 [00:02<00:00, 186.54it/s]\n"
     ]
    }
   ],
   "source": [
    "device='cuda'\n",
    "def create_udf_surface(udfs, alphas, l, lv_sets, SURFACE_RANGE = 1.25, SAMPLE_NUM = 1e3):\n",
    "    lx, ly, lz = l\n",
    "    udf000, udf001, udf010, udf011, udf100, udf101, udf110, udf111 = \\\n",
    "        udfs\n",
    "\n",
    "    alpha000, alpha001, alpha010, alpha011, alpha100, alpha101, alpha110, alpha111 = \\\n",
    "        alphas\n",
    "\n",
    "    ys = torch.linspace(ly - SURFACE_RANGE, ly + 1 + SURFACE_RANGE, int(SAMPLE_NUM))\n",
    "    zs = torch.linspace(lz - SURFACE_RANGE, lz + 1 + SURFACE_RANGE, int(SAMPLE_NUM))\n",
    "\n",
    "    y_mesh, z_mesh = torch.meshgrid(ys,zs)\n",
    "    yz = torch.vstack([y_mesh.flatten(), z_mesh.flatten()]).T\n",
    "\n",
    "    pts = torch.zeros([int(SAMPLE_NUM**2), 3]).to(device)\n",
    "    pts[:,1:] = yz\n",
    "\n",
    "    wys, wzs = pts[:,1]-ly, pts[:,2]-lz\n",
    "    c00 = udf000 * (1.-wzs) + udf001 * wzs\n",
    "    c01 = udf010 * (1.-wzs) + udf011 * wzs\n",
    "    c10 = udf100 * (1.-wzs) + udf101 * wzs\n",
    "    c11 = udf110 * (1.-wzs) + udf111 * wzs\n",
    "    c0 = c00 * (1.-wys) + c01 * wys\n",
    "    c1 = c10 * (1.-wys) + c11 * wys\n",
    "    # udf = c0 * (1.-wx) + c1 * wx = 0\n",
    "    \n",
    "    # find closest level set\n",
    "    udf_avg = torch.mean(udfs)\n",
    "\n",
    "    lv_dists = torch.abs(udf_avg - lv_sets)\n",
    "    lv_set = lv_sets[lv_dists.min(axis=-1).indices]\n",
    "\n",
    "    # print(f'level set is: {lv_set}')\n",
    "\n",
    "    wxs =  (c0 -lv_set) / (c0 - c1)\n",
    "\n",
    "    pts[:,0] = wxs.flatten() + lx\n",
    "\n",
    "\n",
    "    # filter out points that are too far away\n",
    "    min_dists = torch.min(torch.stack([torch.abs(pts[:, 0] - lx), torch.abs(pts[:, 0] - (lx+1))]), axis=0).values\n",
    "    near_pt_ids = torch.arange(pts.shape[0])[(min_dists <= 2*SURFACE_RANGE) | ((lx <= pts[:, 0]) & (pts[:, 0] <= (lx+1)))]\n",
    "    pts = pts[near_pt_ids,:]\n",
    "\n",
    "    # filter out points with low alpha\n",
    "    wa, wb = 1. - (pts - l), (pts - l)\n",
    "        \n",
    "    c00 = alpha000 * wa[:, 2:] + alpha001 * wb[:, 2:]\n",
    "    c01 = alpha010 * wa[:, 2:] + alpha011 * wb[:, 2:]\n",
    "    c10 = alpha100 * wa[:, 2:] + alpha101 * wb[:, 2:]\n",
    "    c11 = alpha110 * wa[:, 2:] + alpha111 * wb[:, 2:]\n",
    "    c0 = c00 * wa[:, 1:2] + c01 * wb[:, 1:2]\n",
    "    c1 = c10 * wa[:, 1:2] + c11 * wb[:, 1:2]\n",
    "    _alpha = c0 * wa[:, :1] + c1 * wb[:, :1]\n",
    "    # post sigmoid activation\n",
    "    _alpha = torch.sigmoid(_alpha)\n",
    "    \n",
    "    th = 0.01\n",
    "    \n",
    "    pts = pts[_alpha[:, 0] > th]\n",
    "    _alpha = _alpha[_alpha[:, 0] > th]\n",
    "\n",
    "    return pts, _alpha\n",
    "\n",
    "def find_normal_center(surfaces):\n",
    "    surface000, surface001, surface010, surface011, surface100, surface101, surface110, surface111 = \\\n",
    "        surfaces.unbind(-1)\n",
    "    x = _x = y = _y = z = _z = 0.5\n",
    "\n",
    "    c00 = surface000 * _z + surface001 * z\n",
    "    c01 = surface010 * _z + surface011 * z\n",
    "    c10 = surface100 * _z + surface101 * z\n",
    "    c11 = surface110 * _z + surface111 * z\n",
    "    c0 = c00 * _y + c01 * y\n",
    "    c1 = c10 * _y + c11 * y\n",
    "    # surface = c0 * _x + c1 * x\n",
    "\n",
    "    ds_dx = c1 - c0\n",
    "    ds_dy = (c01-c00)*_x + (c11-c10)*x\n",
    "\n",
    "    dc00_dz = surface001 - surface000\n",
    "    dc01_dz = surface011 - surface010\n",
    "    dc10_dz = surface101 - surface100\n",
    "    dc11_dz = surface111 - surface110\n",
    "    ds_dz = (dc00_dz * _y + dc01_dz * y)*_x + (dc10_dz * _y + dc11_dz * y)*x\n",
    "\n",
    "    normals = torch.stack([ds_dx, ds_dy, ds_dz], dim=-1)\n",
    "    normals = normals / torch.norm(normals, dim=-1, keepdim=True)\n",
    "    return normals\n",
    "\n",
    "with torch.no_grad():\n",
    "\n",
    "    links = grid.links\n",
    "#     surface_data = grid.surface_data\n",
    "#     alpha_data = grid.density_data\n",
    "    lv_sets = grid.level_set_data\n",
    "\n",
    "    ls = torch.stack(\n",
    "        torch.meshgrid(torch.arange(links.shape[0]-1),torch.arange(links.shape[1]-1),torch.arange(links.shape[2]-1))\n",
    "        ).reshape(3, -1).T.to(device)\n",
    "\n",
    "    surface_pts = []\n",
    "    surface_alphas = []\n",
    "    surface_values = []\n",
    "\n",
    "#     render_ls = [ls[i] for i in range(ls.shape[0])]\n",
    "    render_ls = [\n",
    "        [86,100,140], \n",
    "        [85,101,140],\n",
    "        [85,100,140],\n",
    "        [87,100,140],\n",
    "        [86,101,140], \n",
    "\n",
    "#         [85,99,140],\n",
    "#         [87,101,140],\n",
    "#         [87,110,132],\n",
    "        \n",
    "#         [87,111,132],\n",
    "        \n",
    "#         [87,112,132],\n",
    "        ]\n",
    "    \n",
    "    #74.7971, 100.2854, 132.5037\n",
    "    #88.6427, 125.2865, 140.1453\n",
    "    \n",
    "    render_ls = np.reshape(np.stack(np.meshgrid(np.arange(80,85),np.arange(110,120), np.arange(132,140))), [3,-1]).T\n",
    "    \n",
    "#     render_ls = np.reshape(np.stack(np.meshgrid(np.arange(25,35),np.arange(15,25), np.arange(45,55))), [3,-1]).T\n",
    "\n",
    "    for l in tqdm(render_ls):\n",
    "        tl = torch.tensor(l).long().to(device)\n",
    "        if (tl < 0).any() or (tl >= torch.tensor(links.shape).to(device) - 1).any():\n",
    "            continue \n",
    "        lx, ly, lz = tl\n",
    "        links000 = links[lx, ly, lz]\n",
    "        links001 = links[lx, ly, lz + 1]\n",
    "        links010 = links[lx, ly + 1, lz]\n",
    "        links011 = links[lx, ly + 1, lz + 1]\n",
    "        links100 = links[lx + 1, ly, lz]\n",
    "        links101 = links[lx + 1, ly, lz + 1]\n",
    "        links110 = links[lx + 1, ly + 1, lz]\n",
    "        links111 = links[lx + 1, ly + 1, lz + 1]\n",
    "\n",
    "        surfaces = torch.tensor([surface_data[links000,0], surface_data[links001,0], surface_data[links010,0], surface_data[links011,0], surface_data[links100,0], surface_data[links101,0], surface_data[links110,0], surface_data[links111,0]]).to(device)\n",
    "        alphas = torch.tensor([alpha_data[links000,0], alpha_data[links001,0], alpha_data[links010,0], alpha_data[links011,0], alpha_data[links100,0], alpha_data[links101,0], alpha_data[links110,0], alpha_data[links111,0]]).to(device)\n",
    "\n",
    "    #     print(f'udf Raw: {surfaces}')\n",
    "\n",
    "        v_pts, pt_alphas = create_udf_surface(surfaces, alphas, tl, lv_sets, SURFACE_RANGE=0, SAMPLE_NUM=50)\n",
    "\n",
    "        surface_pts.append(v_pts)\n",
    "        surface_alphas.append(pt_alphas)\n",
    "        surface_values.append(surfaces)\n",
    "\n",
    "    surface_pts = torch.cat(surface_pts).cpu().detach().numpy()\n",
    "    surface_alphas = torch.cat(surface_alphas).cpu().detach().numpy()\n",
    "    surface_values = torch.stack(surface_values,dim=0).cpu().detach().numpy()\n"
   ]
  },
  {
   "cell_type": "code",
   "execution_count": 84,
   "metadata": {},
   "outputs": [
    {
     "data": {
      "application/vnd.jupyter.widget-view+json": {
       "model_id": "477f8d896053432c9aba0e7bf9b06e61",
       "version_major": 2,
       "version_minor": 0
      },
      "text/plain": [
       "Output()"
      ]
     },
     "metadata": {},
     "output_type": "display_data"
    }
   ],
   "source": [
    "plt_points = k3d.points(positions=surface_pts,\n",
    "                        point_size=0.02,\n",
    "                        shader='3d',\n",
    "#                         opacities=surface_alphas,\n",
    "#                         color_map=matplotlib_color_maps.Coolwarm,\n",
    "                        attribute=surface_alphas,\n",
    "#                         color=0x3f6bc5,\n",
    "                       )\n",
    "\n",
    "plot = k3d.plot()\n",
    "plot += plt_points\n",
    "norms = find_normal_center(torch.tensor(surface_values))\n",
    "\n",
    "\n",
    "vectors = k3d.vectors(origins=np.array(render_ls) + 0.5,\n",
    "            vectors=norms.cpu().detach().numpy(),\n",
    "           )\n",
    "\n",
    "# plot += vectors\n",
    "\n",
    "ls = np.array(render_ls)\n",
    "vertices = np.array([\n",
    "    [0,0,0],\n",
    "    [0,0,1],\n",
    "    [0,1,0],\n",
    "    [0,1,1],\n",
    "    [1,0,0],\n",
    "    [1,0,1],\n",
    "    [1,1,0],\n",
    "    [1,1,1],\n",
    "])\n",
    "\n",
    "vers = ls[:,None,:] + vertices[None,:,:]\n",
    "vers = np.reshape(vers, [-1,3])\n",
    "\n",
    "color = np.reshape(surface_values-lv_sets.item(),[-1,1])\n",
    "# print(norms)\n",
    "# print(surface_values-lv_sets.item())\n",
    "color = np.where(color > 0, 1., 0.)\n",
    "\n",
    "mask = color[:,0]>0\n",
    "# mask = color[:,0]>-100\n",
    "\n",
    "plt_points = k3d.points(positions=vers[mask],\n",
    "                        point_size=0.1,\n",
    "                        shader='3d',\n",
    "#                         color_map=matplotlib_color_maps.Coolwarm,\n",
    "                        attribute=color[mask],\n",
    "                       )\n",
    "\n",
    "plot += plt_points\n",
    "plot.display()"
   ]
  },
  {
   "cell_type": "code",
   "execution_count": 72,
   "metadata": {},
   "outputs": [
    {
     "data": {
      "text/plain": [
       "(8000, 1)"
      ]
     },
     "execution_count": 72,
     "metadata": {},
     "output_type": "execute_result"
    }
   ],
   "source": []
  },
  {
   "cell_type": "code",
   "execution_count": 28,
   "metadata": {},
   "outputs": [
    {
     "data": {
      "text/plain": [
       "array([[51.75892, 51.75892, 51.75892, ..., 51.75892, 51.75892, 51.75892],\n",
       "       [51.75892, 51.75892, 51.75892, ..., 51.75892, 51.75892, 51.75892],\n",
       "       [51.75892, 51.75892, 51.75892, ..., 51.75892, 51.75892, 51.75892],\n",
       "       ...,\n",
       "       [51.75892, 51.75892, 51.75892, ..., 51.75892, 51.75892, 51.75892],\n",
       "       [51.75892, 51.75892, 51.75892, ..., 51.75892, 51.75892, 51.75892],\n",
       "       [51.75892, 51.75892, 51.75892, ..., 51.75892, 51.75892, 51.75892]],\n",
       "      dtype=float32)"
      ]
     },
     "execution_count": 28,
     "metadata": {},
     "output_type": "execute_result"
    }
   ],
   "source": [
    "surface_values"
   ]
  },
  {
   "cell_type": "code",
   "execution_count": 6,
   "metadata": {},
   "outputs": [
    {
     "data": {
      "text/plain": [
       "tensor([[    0.5484,     0.4587,     0.4145,  ...,     0.6422,     0.3693,\n",
       "             0.6105],\n",
       "        [    0.4587,     0.3975,     0.7804,  ...,     0.4637,     0.6105,\n",
       "             0.5192],\n",
       "        [    0.3975,     0.4669,     0.6535,  ...,     0.5674,     0.5192,\n",
       "             0.4874],\n",
       "        ...,\n",
       "        [    0.0000,     0.0000,     0.0000,  ...,     0.0000,     0.0000,\n",
       "             0.0000],\n",
       "        [    0.0000,     0.0000,     0.0000,  ...,     0.0000,     0.0000,\n",
       "             0.0000],\n",
       "        [    0.0000,     0.0000,     0.0000,  ...,     0.0000,     0.0000,\n",
       "             0.0000]], device='cuda:0')"
      ]
     },
     "execution_count": 6,
     "metadata": {},
     "output_type": "execute_result"
    }
   ],
   "source": [
    "torch.sigmoid((torch.tensor(surface_values, device=device) + alpha_lv_sets[0] - grid.level_set_data[0]))"
   ]
  },
  {
   "cell_type": "code",
   "execution_count": 33,
   "metadata": {},
   "outputs": [
    {
     "data": {
      "text/plain": [
       "torch.Size([148258, 3])"
      ]
     },
     "execution_count": 33,
     "metadata": {},
     "output_type": "execute_result"
    }
   ],
   "source": []
  },
  {
   "cell_type": "code",
   "execution_count": 41,
   "metadata": {},
   "outputs": [
    {
     "name": "stdout",
     "output_type": "stream",
     "text": [
      "torch.Size([10451, 3])\n"
     ]
    },
    {
     "data": {
      "application/vnd.jupyter.widget-view+json": {
       "model_id": "5baa6ca63eda4c26846eb83210659bb5",
       "version_major": 2,
       "version_minor": 0
      },
      "text/plain": [
       "Output()"
      ]
     },
     "metadata": {},
     "output_type": "display_data"
    }
   ],
   "source": [
    "reso = grid._grid_size().long()\n",
    "coords = torch.meshgrid(torch.arange(reso[0]), torch.arange(reso[1]), torch.arange(reso[2]))\n",
    "coords = torch.stack(coords).view(3, -1).T\n",
    "links = grid.links[coords[:, 0], coords[:, 1], coords[:, 2]]\n",
    "coords = coords[links>=0, :]\n",
    "links = links[links>=0]\n",
    "coords.shape\n",
    "\n",
    "density, rgb, surface = grid._fetch_links(grid.links[coords[:, 0], coords[:, 1], coords[:, 2]])\n",
    "\n",
    "alpha = 1 - torch.exp(-torch.clamp_min(density, 1e-6) * grid.opt.step_size)\n",
    "\n",
    "fn = torch.nn.Softplus()\n",
    "surface = fn(surface)\n",
    "\n",
    "mask = alpha[:,0] > 0.00001\n",
    "alpha = alpha[mask]\n",
    "surface = surface[mask]\n",
    "coords = coords[mask, :]\n",
    "print(coords.shape)\n",
    "\n",
    "alpha_lv_sets = [0.1]\n",
    "alpha_lv_sets = torch.tensor(alpha_lv_sets, device=device)\n",
    "alpha_lv_sets = torch.logit(alpha_lv_sets)\n",
    "raw_alpha_data = torch.logit(alpha)\n",
    "surface_data = raw_alpha_data.detach().clone()\n",
    "surface = surface_data - alpha_lv_sets + grid.level_set_data[0]\n",
    "\n",
    "attr = surface.clone()\n",
    "attr[surface>grid.level_set_data] = 1\n",
    "attr[surface<=grid.level_set_data] = 0\n",
    "\n",
    "plt_points = k3d.points(positions=coords.cpu().detach().numpy(),\n",
    "#                         colors=colors,\n",
    "                        point_size=0.01,\n",
    "                        shader='3d',\n",
    "#                         opacities=surface_alphas,\n",
    "                        color_map=matplotlib_color_maps.Coolwarm,\n",
    "                        attribute=attr.cpu().detach().numpy()[:,0],\n",
    "#                         color_range=[110.9, 110.8], \n",
    "#                         color=0x3f6bc5,\n",
    "                       )\n",
    "\n",
    "plot = k3d.plot()\n",
    "plot += plt_points\n",
    "plot.display()"
   ]
  }
 ],
 "metadata": {
  "kernelspec": {
   "display_name": "Python 3 (ipykernel)",
   "language": "python",
   "name": "python3"
  },
  "language_info": {
   "codemirror_mode": {
    "name": "ipython",
    "version": 3
   },
   "file_extension": ".py",
   "mimetype": "text/x-python",
   "name": "python",
   "nbconvert_exporter": "python",
   "pygments_lexer": "ipython3",
   "version": "3.8.8"
  },
  "vscode": {
   "interpreter": {
    "hash": "c3cf32bc3e80b5779e7e5c4deeeee58af3a8004e8adaca7ae56b78f370dcfac6"
   }
  }
 },
 "nbformat": 4,
 "nbformat_minor": 2
}
