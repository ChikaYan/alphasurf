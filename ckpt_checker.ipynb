{
 "cells": [
  {
   "cell_type": "code",
   "execution_count": 46,
   "metadata": {},
   "outputs": [
    {
     "data": {
      "text/plain": [
       "5000"
      ]
     },
     "execution_count": 46,
     "metadata": {},
     "output_type": "execute_result"
    }
   ],
   "source": [
    "import numpy as np\n",
    "import svox2\n",
    "import torch\n",
    "\n",
    "path = \"./opt/ckpt/udf_lego_8_tv_sur/ckpt.npz\"\n",
    "path = \"./opt/ckpt/udf_lego_256_mp_low_lr/ckpt.npz\"\n",
    "path = \"./opt/ckpt/udf_lego_16_mp_ex_lr_var_reg/ckpt.npz\"\n",
    "grid = svox2.SparseGrid.load(path, device='cuda')\n",
    "\n",
    "surface_data = grid.surface_data\n",
    "alpha_data = grid.density_data\n",
    "grid.step_id"
   ]
  },
  {
   "cell_type": "code",
   "execution_count": 31,
   "metadata": {},
   "outputs": [
    {
     "name": "stdout",
     "output_type": "stream",
     "text": [
      "[6 1 5]\n",
      "[0.9999989  1.         1.         1.         0.36254048 1.\n",
      " 1.         1.        ]\n"
     ]
    }
   ],
   "source": [
    "ls = np.stack(\n",
    "    np.meshgrid(np.arange(grid.links.shape[0]-1),np.arange(grid.links.shape[1]-1),np.arange(grid.links.shape[2]-1))\n",
    "    ).reshape(3, -1).T\n",
    "# ls = np.stack(\n",
    "#     np.meshgrid(np.arange(64, 128),np.arange(64, 128),np.arange(64, 128))\n",
    "#     ).reshape(3, -1).T\n",
    "\n",
    "render_ls = [ls[i] for i in range(ls.shape[0])]\n",
    "\n",
    "for l in render_ls:\n",
    "    lx, ly, lz = l\n",
    "    links000 = grid.links[lx, ly, lz]\n",
    "    links001 = grid.links[lx, ly, lz + 1]\n",
    "    links010 = grid.links[lx, ly + 1, lz]\n",
    "    links011 = grid.links[lx, ly + 1, lz + 1]\n",
    "    links100 = grid.links[lx + 1, ly, lz]\n",
    "    links101 = grid.links[lx + 1, ly, lz + 1]\n",
    "    links110 = grid.links[lx + 1, ly + 1, lz]\n",
    "    links111 = grid.links[lx + 1, ly + 1, lz + 1]\n",
    "    alphas = [\n",
    "        alpha_data[links000,0], \n",
    "        alpha_data[links001,0], \n",
    "        alpha_data[links010,0], \n",
    "        alpha_data[links011,0], \n",
    "        alpha_data[links100,0], \n",
    "        alpha_data[links101,0], \n",
    "        alpha_data[links110,0], \n",
    "        alpha_data[links111,0]\n",
    "        ]\n",
    "    alphas = torch.sigmoid(torch.stack(alphas)).cpu().detach().numpy()\n",
    "    if np.min(alphas) >= 0.01:\n",
    "        print(l)\n",
    "        print(alphas)\n",
    "        break\n"
   ]
  },
  {
   "cell_type": "code",
   "execution_count": 47,
   "metadata": {},
   "outputs": [
    {
     "name": "stdout",
     "output_type": "stream",
     "text": [
      "tensor([-0.2808, -0.1471, -0.5816, -1.2880, -0.1003, -1.2476, -0.0587, -0.5634],\n",
      "       device='cuda:0', grad_fn=<StackBackward0>)\n",
      "tensor([-6.7964,  2.7451, 25.3549, 20.4087, 11.5054,  5.5626, 18.6356, 27.7375],\n",
      "       device='cuda:0', grad_fn=<StackBackward0>)\n",
      "tensor([0.0011, 0.9396, 1.0000, 1.0000, 1.0000, 0.9962, 1.0000, 1.0000],\n",
      "       device='cuda:0', grad_fn=<SigmoidBackward0>)\n"
     ]
    }
   ],
   "source": [
    "# l = [2,4,3]\n",
    "# l = [ 74, 64, 101]\n",
    "# l = [ 74, 64, 104]\n",
    "\n",
    "\n",
    "\n",
    "\n",
    "lx, ly, lz = l\n",
    "links000 = grid.links[lx, ly, lz]\n",
    "links001 = grid.links[lx, ly, lz + 1]\n",
    "links010 = grid.links[lx, ly + 1, lz]\n",
    "links011 = grid.links[lx, ly + 1, lz + 1]\n",
    "links100 = grid.links[lx + 1, ly, lz]\n",
    "links101 = grid.links[lx + 1, ly, lz + 1]\n",
    "links110 = grid.links[lx + 1, ly + 1, lz]\n",
    "links111 = grid.links[lx + 1, ly + 1, lz + 1]\n",
    "\n",
    "\n",
    "surfaces = [surface_data[links000,0], surface_data[links001,0], surface_data[links010,0], surface_data[links011,0], surface_data[links100,0], surface_data[links101,0], surface_data[links110,0], surface_data[links111,0]]\n",
    "alphas = [alpha_data[links000,0], alpha_data[links001,0], alpha_data[links010,0], alpha_data[links011,0], alpha_data[links100,0], alpha_data[links101,0], alpha_data[links110,0], alpha_data[links111,0]]\n",
    "print(torch.stack(surfaces))\n",
    "print(torch.stack(alphas))\n",
    "print(torch.sigmoid(torch.stack(alphas)))"
   ]
  },
  {
   "cell_type": "code",
   "execution_count": 17,
   "metadata": {},
   "outputs": [
    {
     "data": {
      "text/plain": [
       "tensor(221.7026, device='cuda:0', grad_fn=<MaxBackward1>)"
      ]
     },
     "execution_count": 17,
     "metadata": {},
     "output_type": "execute_result"
    }
   ],
   "source": [
    "surface_data.max()"
   ]
  },
  {
   "cell_type": "code",
   "execution_count": 24,
   "metadata": {},
   "outputs": [
    {
     "data": {
      "text/plain": [
       "tensor(0.0010, grad_fn=<MinBackward1>)"
      ]
     },
     "execution_count": 24,
     "metadata": {},
     "output_type": "execute_result"
    }
   ],
   "source": [
    "torch.sigmoid(grid.density_data).min()"
   ]
  },
  {
   "cell_type": "code",
   "execution_count": 19,
   "metadata": {},
   "outputs": [],
   "source": [
    "grid_new = svox2.SparseGrid(reso=grid.links.shape,\n",
    "                            center=grid.center,\n",
    "                            radius=grid.radius,\n",
    "                            use_sphere_bound=False,\n",
    "                            basis_dim=9,\n",
    "                            use_z_order=True,\n",
    "                            device='cuda',\n",
    "                            basis_reso=32,\n",
    "                            basis_type=svox2.__dict__['BASIS_TYPE_' + 'sh'.upper()],\n",
    "                            surface_type=grid.surface_type,\n",
    "                            surface_init=None)\n"
   ]
  },
  {
   "cell_type": "code",
   "execution_count": 20,
   "metadata": {},
   "outputs": [
    {
     "data": {
      "text/plain": [
       "[tensor(71.5542, device='cuda:0', grad_fn=<SelectBackward0>),\n",
       " tensor(71.1126, device='cuda:0', grad_fn=<SelectBackward0>),\n",
       " tensor(71.5612, device='cuda:0', grad_fn=<SelectBackward0>),\n",
       " tensor(71.1196, device='cuda:0', grad_fn=<SelectBackward0>),\n",
       " tensor(70.6612, device='cuda:0', grad_fn=<SelectBackward0>),\n",
       " tensor(70.2140, device='cuda:0', grad_fn=<SelectBackward0>),\n",
       " tensor(70.6682, device='cuda:0', grad_fn=<SelectBackward0>),\n",
       " tensor(70.2211, device='cuda:0', grad_fn=<SelectBackward0>)]"
      ]
     },
     "execution_count": 20,
     "metadata": {},
     "output_type": "execute_result"
    }
   ],
   "source": [
    "l = [2,4,3]\n",
    "l = [2*32,4*32,3*32]\n",
    "lx, ly, lz = l\n",
    "links000 = grid.links[lx, ly, lz]\n",
    "links001 = grid.links[lx, ly, lz + 1]\n",
    "links010 = grid.links[lx, ly + 1, lz]\n",
    "links011 = grid.links[lx, ly + 1, lz + 1]\n",
    "links100 = grid.links[lx + 1, ly, lz]\n",
    "links101 = grid.links[lx + 1, ly, lz + 1]\n",
    "links110 = grid.links[lx + 1, ly + 1, lz]\n",
    "links111 = grid.links[lx + 1, ly + 1, lz + 1]\n",
    "\n",
    "surface_data = grid_new.surface_data\n",
    "surfaces = [surface_data[links000,0], surface_data[links001,0], surface_data[links010,0], surface_data[links011,0], surface_data[links100,0], surface_data[links101,0], surface_data[links110,0], surface_data[links111,0]]\n",
    "surfaces"
   ]
  },
  {
   "cell_type": "code",
   "execution_count": 33,
   "metadata": {},
   "outputs": [
    {
     "data": {
      "text/plain": [
       "tensor([[0.0010],\n",
       "        [0.0010],\n",
       "        [0.0010],\n",
       "        ...,\n",
       "        [0.0010],\n",
       "        [0.0010],\n",
       "        [0.0010]], device='cuda:0', grad_fn=<SigmoidBackward0>)"
      ]
     },
     "execution_count": 33,
     "metadata": {},
     "output_type": "execute_result"
    }
   ],
   "source": [
    "torch.sigmoid(grid_new.density_data)"
   ]
  },
  {
   "cell_type": "code",
   "execution_count": 26,
   "metadata": {},
   "outputs": [
    {
     "data": {
      "text/plain": [
       "Parameter containing:\n",
       "tensor([[0.],\n",
       "        [0.],\n",
       "        [0.],\n",
       "        ...,\n",
       "        [0.],\n",
       "        [0.],\n",
       "        [0.]], device='cuda:0', requires_grad=True)"
      ]
     },
     "execution_count": 26,
     "metadata": {},
     "output_type": "execute_result"
    }
   ],
   "source": [
    "grid_new.density_data"
   ]
  },
  {
   "cell_type": "code",
   "execution_count": 31,
   "metadata": {},
   "outputs": [
    {
     "data": {
      "text/plain": [
       "tensor(-6.9068)"
      ]
     },
     "execution_count": 31,
     "metadata": {},
     "output_type": "execute_result"
    }
   ],
   "source": [
    "torch.logit(torch.tensor(0.001))"
   ]
  }
 ],
 "metadata": {
  "kernelspec": {
   "display_name": "Python 3.8.8 ('voxel_sdf')",
   "language": "python",
   "name": "python3"
  },
  "language_info": {
   "codemirror_mode": {
    "name": "ipython",
    "version": 3
   },
   "file_extension": ".py",
   "mimetype": "text/x-python",
   "name": "python",
   "nbconvert_exporter": "python",
   "pygments_lexer": "ipython3",
   "version": "3.8.8"
  },
  "orig_nbformat": 4,
  "vscode": {
   "interpreter": {
    "hash": "c3cf32bc3e80b5779e7e5c4deeeee58af3a8004e8adaca7ae56b78f370dcfac6"
   }
  }
 },
 "nbformat": 4,
 "nbformat_minor": 2
}
