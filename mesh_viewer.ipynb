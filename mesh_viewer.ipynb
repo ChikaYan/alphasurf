{
 "cells": [
  {
   "cell_type": "code",
   "execution_count": 1,
   "id": "9d203748",
   "metadata": {},
   "outputs": [
    {
     "name": "stderr",
     "output_type": "stream",
     "text": [
      "/home/tw554/plenoxels/svox2/utils.py:39: UserWarning: CUDA extension svox2.csrc could not be loaded! Operations will be slow.\n",
      "Please do not import svox in the svox2 source directory.\n",
      "  warn(\"CUDA extension svox2.csrc could not be loaded! \" +\n"
     ]
    }
   ],
   "source": [
    "# %matplotlib inline\n",
    "import numpy as np\n",
    "import k3d\n",
    "from k3d.colormaps import matplotlib_color_maps\n",
    "import pathlib\n",
    "import matplotlib.pyplot as plt\n",
    "import matplotlib\n",
    "import imageio\n",
    "import svox2\n",
    "import torch\n",
    "import tqdm\n",
    "import open3d as o3d"
   ]
  },
  {
   "cell_type": "code",
   "execution_count": 2,
   "id": "ad437daf",
   "metadata": {},
   "outputs": [
    {
     "data": {
      "text/plain": [
       "(1316532, 3)"
      ]
     },
     "execution_count": 2,
     "metadata": {},
     "output_type": "execute_result"
    }
   ],
   "source": [
    "path = \"/home/tw554/plenoxels/opt/ckpt/dtu_scan63/no_surface_init_long_init/pts.npy\"\n",
    "pts = np.load(path)\n",
    "\n",
    "pts.shape"
   ]
  },
  {
   "cell_type": "code",
   "execution_count": 3,
   "id": "efc9aca8",
   "metadata": {},
   "outputs": [
    {
     "name": "stdout",
     "output_type": "stream",
     "text": [
      "(4637485, 3)\n"
     ]
    }
   ],
   "source": [
    "pcd = o3d.geometry.PointCloud()\n",
    "pcd.points = o3d.utility.Vector3dVector(pts)\n",
    "\n",
    "# downsample point cloud\n",
    "voxel_size = 0.001\n",
    "downpcd = pcd.voxel_down_sample(voxel_size=voxel_size)\n",
    "radius_normal = voxel_size * 2\n",
    "\n",
    "print(np.asarray(downpcd.points).shape)\n",
    "\n",
    "# downpcd.estimate_normals(\n",
    "#     search_param=o3d.geometry.KDTreeSearchParamHybrid(radius=radius_normal,max_nn=30)\n",
    "#     )\n",
    "\n"
   ]
  },
  {
   "cell_type": "code",
   "execution_count": 5,
   "id": "d0824252",
   "metadata": {},
   "outputs": [
    {
     "data": {
      "application/vnd.jupyter.widget-view+json": {
       "model_id": "80ed3a20e9de4612b0473f61826563d8",
       "version_major": 2,
       "version_minor": 0
      },
      "text/plain": [
       "Output()"
      ]
     },
     "metadata": {},
     "output_type": "display_data"
    }
   ],
   "source": [
    "plt_points = k3d.points(np.asarray(downpcd.points),\n",
    "                        point_size=0.0001,\n",
    "                        shader=\"flat\")\n",
    "\n",
    "plot = k3d.plot(grid_visible=True,\n",
    "                camera_auto_fit=True)\n",
    "plot += plt_points\n",
    "plot.display()"
   ]
  },
  {
   "cell_type": "code",
   "execution_count": 6,
   "id": "0053a6db",
   "metadata": {},
   "outputs": [
    {
     "name": "stdout",
     "output_type": "stream",
     "text": [
      "run Poisson surface reconstruction\n",
      "[Open3D DEBUG] Input Points / Samples: 4637485 / 983080\n",
      "[Open3D DEBUG] #   Got kernel density: 0.490167 (s), 1473.95 (MB) / 1473.95 (MB) / 1603 (MB)\n",
      "[Open3D DEBUG] #     Got normal field: 3.58199 (s), 1688.03 (MB) / 1688.03 (MB) / 1688 (MB)\n",
      "[Open3D DEBUG] Point weight / Estimated Area: 9.918878e-07 / 4.599864e+00\n",
      "[Open3D DEBUG] #       Finalized tree: 2.71658 (s), 1839.43 (MB) / 1839.43 (MB) / 1839 (MB)\n",
      "[Open3D DEBUG] #  Set FEM constraints: 2.73046 (s), 1733.34 (MB) / 1839.43 (MB) / 1839 (MB)\n",
      "[Open3D DEBUG] #Set point constraints: 1.10605 (s), 1733.34 (MB) / 1839.43 (MB) / 1839 (MB)\n",
      "[Open3D DEBUG] Leaf Nodes / Active Nodes / Ghost Nodes: 6406338 / 7310000 / 11529\n",
      "[Open3D DEBUG] Memory Usage: 1733.344 MB\n",
      "[Open3D DEBUG] # Linear system solved: 5.9224 (s), 1955.69 (MB) / 1955.69 (MB) / 1955 (MB)\n",
      "[Open3D DEBUG] Got average: 0.252813 (s), 1709.45 (MB) / 1955.69 (MB) / 1955 (MB)\n",
      "[Open3D DEBUG] Iso-Value: 5.005371e-01 = 2.321233e+06 / 4.637485e+06\n",
      "Cycle[0] Depth[0/9]:\tUpdated constraints / Got system / Solved in:  0.000 /  0.000 /  0.000\t(1761.234 MB)\tNodes: 8\n",
      "CG: 2.1324e+00 -> 2.1324e+00 -> 4.5442e-06 (2.1e-06) [22044]\n",
      "Cycle[0] Depth[1/9]:\tUpdated constraints / Got system / Solved in:  0.001 /  0.000 /  0.000\t(1761.234 MB)\tNodes: 27\n",
      "  GS: 8.3642e-01 -> 8.3642e-01 -> 2.2377e-04 (2.7e-04) [8]\n",
      "Cycle[0] Depth[2/9]:\tUpdated constraints / Got system / Solved in:  0.001 /  0.001 /  0.000\t(1761.234 MB)\tNodes: 125\n",
      "    GS: 1.0020e+00 -> 1.0020e+00 -> 1.6577e-03 (1.7e-03) [8]\n",
      "Cycle[0] Depth[3/9]:\tUpdated constraints / Got system / Solved in:  0.001 /  0.002 /  0.000\t(1761.234 MB)\tNodes: 729\n",
      "      GS: 1.4449e+00 -> 1.4449e+00 -> 1.1252e-02 (7.8e-03) [8]\n",
      "Cycle[0] Depth[4/9]:\tUpdated constraints / Got system / Solved in:  0.001 /  0.006 /  0.002\t(1761.234 MB)\tNodes: 4913\n",
      "        GS: 1.1438e+00 -> 1.1438e+00 -> 9.3782e-03 (8.2e-03) [8]\n",
      "Cycle[0] Depth[5/9]:\tUpdated constraints / Got system / Solved in:  0.002 /  0.013 /  0.018\t(1761.234 MB)\tNodes: 35937\n",
      "          GS: 1.0249e+00 -> 1.0249e+00 -> 9.6334e-03 (9.4e-03) [8]\n",
      "Cycle[0] Depth[6/9]:\tUpdated constraints / Got system / Solved in:  0.004 /  0.017 /  0.029\t(1761.234 MB)\tNodes: 78208\n",
      "            GS: 1.0785e+00 -> 1.0785e+00 -> 6.1889e-03 (5.7e-03) [8]\n",
      "Cycle[0] Depth[7/9]:\tUpdated constraints / Got system / Solved in:  0.013 /  0.058 /  0.088\t(1761.234 MB)\tNodes: 347256\n",
      "              GS: 1.2678e+00 -> 1.2678e+00 -> 6.3309e-03 (5.0e-03) [8]\n",
      "Cycle[0] Depth[8/9]:\tUpdated constraints / Got system / Solved in:  0.053 /  0.252 /  0.392\t(1816.133 MB)\tNodes: 1610304\n",
      "                GS: 1.2555e+00 -> 1.2555e+00 -> 4.8174e-03 (3.8e-03) [8]\n",
      "Cycle[0] Depth[9/9]:\tUpdated constraints / Got system / Solved in:  0.088 /  0.836 /  1.303\t(1955.688 MB)\tNodes: 5204960\n",
      "                  GS: 7.2658e-01 -> 7.2658e-01 -> 1.4914e-03 (2.1e-03) [8]\n"
     ]
    },
    {
     "name": "stderr",
     "output_type": "stream",
     "text": [
      "[WARNING] /home/runner/work/Open3D/Open3D/3rdparty/PoissonRecon/PoissonRecon/Src/FEMTree.IsoSurface.specialized.inl (Line 1858)\n",
      "          Extract\n",
      "          bad average roots: 4\n"
     ]
    },
    {
     "name": "stdout",
     "output_type": "stream",
     "text": [
      "[Open3D DEBUG] #          Total Solve:      36.1 (s),    2408.6 (MB)\n"
     ]
    }
   ],
   "source": [
    "downpcd.estimate_normals(\n",
    "    search_param=o3d.geometry.KDTreeSearchParamHybrid(radius=radius_normal,max_nn=30)\n",
    "    )\n",
    "\n"
   ]
  },
  {
   "cell_type": "code",
   "execution_count": null,
   "id": "551c8ea1",
   "metadata": {},
   "outputs": [],
   "source": [
    "mesh_recon_type = 'rolling_ball'\n",
    "\n",
    "if mesh_recon_type == 'rolling_ball':\n",
    "    # estimate radius for rolling ball\n",
    "    print('run rolling ball surface reconstruction')\n",
    "    distances = downpcd.compute_nearest_neighbor_distance()\n",
    "    avg_dist = np.mean(distances)\n",
    "    radius = 1.5 * avg_dist   \n",
    "    print(f'Radius: {radius}')\n",
    "\n",
    "    mesh = o3d.geometry.TriangleMesh.create_from_point_cloud_ball_pivoting(\n",
    "               downpcd,\n",
    "               o3d.utility.DoubleVector([radius, radius * 2]))\n",
    "elif mesh_recon_type == 'poisson':\n",
    "    print('run poisson surface reconstruction')\n",
    "    with o3d.utility.VerbosityContextManager(\n",
    "            o3d.utility.VerbosityLevel.Debug) as cm:\n",
    "        mesh, densities = o3d.geometry.TriangleMesh.create_from_point_cloud_poisson(\n",
    "            downpcd, depth=9)"
   ]
  },
  {
   "cell_type": "code",
   "execution_count": 7,
   "id": "c151b845",
   "metadata": {},
   "outputs": [
    {
     "data": {
      "text/plain": [
       "array([[      0,       1,      38],\n",
       "       [     38,      37,       0],\n",
       "       [      1,       2,      39],\n",
       "       ...,\n",
       "       [2363452, 2363718, 2363668],\n",
       "       [2363719, 2363455, 2363668],\n",
       "       [2363720, 2363455, 2363719]], dtype=int32)"
      ]
     },
     "execution_count": 7,
     "metadata": {},
     "output_type": "execute_result"
    }
   ],
   "source": [
    "np.asarray(mesh.vertices)\n",
    "np.asarray(mesh.triangles)"
   ]
  },
  {
   "cell_type": "code",
   "execution_count": null,
   "id": "502ca9e7",
   "metadata": {},
   "outputs": [],
   "source": [
    "plt_points = k3d.mesh(np.asarray(mesh.vertices),\n",
    "                      np.asarray(mesh.triangles),\n",
    "                      shader=\"flat\")\n",
    "\n",
    "plot = k3d.plot(grid_visible=True,\n",
    "                camera_auto_fit=True)\n",
    "plot += plt_points\n",
    "plot.display()"
   ]
  },
  {
   "cell_type": "code",
   "execution_count": null,
   "id": "806edcb3",
   "metadata": {},
   "outputs": [],
   "source": []
  },
  {
   "cell_type": "code",
   "execution_count": null,
   "id": "ccd86a48",
   "metadata": {},
   "outputs": [],
   "source": []
  },
  {
   "cell_type": "code",
   "execution_count": null,
   "id": "690cff39",
   "metadata": {},
   "outputs": [],
   "source": []
  },
  {
   "cell_type": "code",
   "execution_count": null,
   "id": "ed191902",
   "metadata": {},
   "outputs": [],
   "source": []
  },
  {
   "cell_type": "code",
   "execution_count": null,
   "id": "1003e35e",
   "metadata": {},
   "outputs": [],
   "source": []
  },
  {
   "cell_type": "code",
   "execution_count": 3,
   "id": "0c13171c",
   "metadata": {},
   "outputs": [],
   "source": [
    "import numpy as np\n",
    "import open3d as o3d\n",
    "import sklearn.neighbors as skln\n",
    "from tqdm import tqdm\n",
    "from scipy.io import loadmat\n",
    "import multiprocessing as mp\n",
    "import argparse\n",
    "import k3d\n",
    "\n",
    "def sample_single_tri(input_):\n",
    "    n1, n2, v1, v2, tri_vert = input_\n",
    "    c = np.mgrid[:n1+1, :n2+1]\n",
    "    c += 0.5\n",
    "    c[0] /= max(n1, 1e-7)\n",
    "    c[1] /= max(n2, 1e-7)\n",
    "    c = np.transpose(c, (1,2,0))\n",
    "    k = c[c.sum(axis=-1) < 1]  # m2\n",
    "    q = v1 * k[:,:1] + v2 * k[:,1:] + tri_vert\n",
    "    return q\n",
    "\n",
    "def write_vis_pcd(file, points, colors):\n",
    "    pcd = o3d.geometry.PointCloud()\n",
    "    pcd.points = o3d.utility.Vector3dVector(points)\n",
    "    pcd.colors = o3d.utility.Vector3dVector(colors)\n",
    "    o3d.io.write_point_cloud(file, pcd)\n",
    "    "
   ]
  },
  {
   "cell_type": "code",
   "execution_count": 7,
   "id": "0f71e9c9",
   "metadata": {},
   "outputs": [
    {
     "name": "stderr",
     "output_type": "stream",
     "text": [
      "random shuffle pcd index:  12%|█████████▎                                                                | 1/8 [00:34<04:02, 34.66s/it]\n",
      "random shuffle pcd index:  12%|█████████▎                                                                | 1/8 [00:00<00:00, 84.74it/s]"
     ]
    }
   ],
   "source": [
    "parser = argparse.ArgumentParser()\n",
    "parser.add_argument('--pts_dir', type=str, default='/home/tw554/plenoxels/opt/ckpt/dtu_scan63/no_surface_init_long_init/')\n",
    "parser.add_argument('--scan', type=int, default=63)\n",
    "parser.add_argument('--dataset_dir', type=str, default='/home/tw554/plenoxels/data/dtu_eval/SampleSet/MVS Data')\n",
    "parser.add_argument('--downsample_density', type=float, default=0.2)\n",
    "parser.add_argument('--patch_size', type=float, default=60)\n",
    "parser.add_argument('--max_dist', type=float, default=20)\n",
    "parser.add_argument('--visualize_threshold', type=float, default=10)\n",
    "args = parser.parse_args(args=[])\n",
    "\n",
    "thresh = args.downsample_density\n",
    "\n",
    "pbar = tqdm(total=8)\n",
    "pbar.set_description('read data pcd')\n",
    "data_pcd = np.load(f'{args.pts_dir}/pts.npy')\n",
    "data_down = data_pcd\n",
    "\n",
    "# # rescale pts\n",
    "# cam = np.load(f'/home/tw554/plenoxels/data/dtu/dtu_scan{args.scan}/cameras_large.npz')\n",
    "# data_pcd = np.load(f'{args.pts_dir}/pts.npy')\n",
    "# data_pcd = data_pcd * cam['scale_mat_0'][0,0] + cam['scale_mat_0'][:3,3][None]\n",
    "# data_pcd = data_pcd[:, :3]\n",
    "\n",
    "pbar.update(1)\n",
    "pbar.set_description('random shuffle pcd index')\n",
    "shuffle_rng = np.random.default_rng()\n",
    "shuffle_rng.shuffle(data_pcd, axis=0)\n",
    "\n",
    "\n",
    "nn_engine = skln.NearestNeighbors(n_neighbors=1, radius=thresh, algorithm='kd_tree', n_jobs=-1)\n"
   ]
  },
  {
   "cell_type": "code",
   "execution_count": 3,
   "id": "990b00bf",
   "metadata": {},
   "outputs": [
    {
     "name": "stderr",
     "output_type": "stream",
     "text": [
      "downsample pcd:  25%|█████████████████████████▌                                                                            | 2/8 [00:24<01:13, 12.25s/it]"
     ]
    }
   ],
   "source": [
    "pbar.update(1)\n",
    "pbar.set_description('downsample pcd')\n",
    "\n",
    "nn_engine.fit(data_pcd)\n",
    "rnn_idxs = nn_engine.radius_neighbors(data_pcd, radius=thresh, return_distance=False)\n",
    "mask = np.ones(data_pcd.shape[0], dtype=np.bool_)\n",
    "for curr, idxs in enumerate(rnn_idxs):\n",
    "    if mask[curr]:\n",
    "        mask[idxs] = 0\n",
    "        mask[curr] = 1\n",
    "data_down = data_pcd[mask]"
   ]
  },
  {
   "cell_type": "code",
   "execution_count": 6,
   "id": "f7c11775",
   "metadata": {},
   "outputs": [
    {
     "name": "stderr",
     "output_type": "stream",
     "text": [
      "/home/tw554/.conda/envs/voxel_sdf/lib/python3.8/site-packages/traittypes/traittypes.py:97: UserWarning: Given trait value dtype \"float64\" does not match required type \"float32\". A coerced copy has been created.\n",
      "  warnings.warn(\n"
     ]
    },
    {
     "data": {
      "application/vnd.jupyter.widget-view+json": {
       "model_id": "7f8f74a72cac4266baa97a56fc5863bd",
       "version_major": 2,
       "version_minor": 0
      },
      "text/plain": [
       "Output()"
      ]
     },
     "metadata": {},
     "output_type": "display_data"
    }
   ],
   "source": [
    "stl_pcd = o3d.io.read_point_cloud(f'{args.dataset_dir}/Points/stl/stl{args.scan:03}_total.ply')\n",
    "stl = np.asarray(stl_pcd.points)\n",
    "\n",
    "plt_points = k3d.points(data_pcd[0:-1:10,:],\n",
    "                        color=0xff0000,\n",
    "                        point_size=0.0001,\n",
    "                        shader=\"flat\")\n",
    "\n",
    "plt_points_2 = k3d.points(stl[0:-1:10,:],\n",
    "                        color=0x00ff00,\n",
    "                        point_size=0.0001,\n",
    "                        shader=\"flat\")\n",
    "\n",
    "plot = k3d.plot(grid_visible=False,\n",
    "                camera_auto_fit=True)\n",
    "plot += plt_points\n",
    "plot += plt_points_2\n",
    "plot.display()"
   ]
  },
  {
   "cell_type": "code",
   "execution_count": 3,
   "id": "c78adac1",
   "metadata": {},
   "outputs": [
    {
     "name": "stderr",
     "output_type": "stream",
     "text": [
      "/home/tw554/.conda/envs/voxel_sdf/lib/python3.8/site-packages/traittypes/traittypes.py:97: UserWarning: Given trait value dtype \"float64\" does not match required type \"float32\". A coerced copy has been created.\n",
      "  warnings.warn(\n"
     ]
    },
    {
     "data": {
      "application/vnd.jupyter.widget-view+json": {
       "model_id": "17acd3374651432aa74f7c4dc2cc81b7",
       "version_major": 2,
       "version_minor": 0
      },
      "text/plain": [
       "Output()"
      ]
     },
     "metadata": {},
     "output_type": "display_data"
    }
   ],
   "source": [
    "stl_pcd = o3d.io.read_point_cloud(f'{args.dataset_dir}/Points/stl/stl{args.scan:03}_total.ply')\n",
    "stl = np.asarray(stl_pcd.points)\n",
    "\n",
    "plt_points = k3d.points(np.load(f'{args.pts_dir}/pts_2.npy')[0:-1:10,:],\n",
    "                        color=0xff0000,\n",
    "                        point_size=0.0001,\n",
    "                        shader=\"flat\")\n",
    "\n",
    "plt_points_2 = k3d.points(stl[0:-1:10,:],\n",
    "                        color=0x00ff00,\n",
    "                        point_size=0.0001,\n",
    "                        shader=\"flat\")\n",
    "\n",
    "plot = k3d.plot(grid_visible=False,\n",
    "                camera_auto_fit=True)\n",
    "plot += plt_points\n",
    "plot += plt_points_2\n",
    "plot.display()"
   ]
  },
  {
   "cell_type": "code",
   "execution_count": 5,
   "id": "8def3f9c",
   "metadata": {},
   "outputs": [
    {
     "data": {
      "text/plain": [
       "(383298, 3)"
      ]
     },
     "execution_count": 5,
     "metadata": {},
     "output_type": "execute_result"
    }
   ],
   "source": []
  },
  {
   "cell_type": "code",
   "execution_count": 4,
   "id": "b53edf4b",
   "metadata": {},
   "outputs": [
    {
     "data": {
      "application/vnd.jupyter.widget-view+json": {
       "model_id": "f780ee6d34724375abc7cf601edb84e6",
       "version_major": 2,
       "version_minor": 0
      },
      "text/plain": [
       "Output()"
      ]
     },
     "metadata": {},
     "output_type": "display_data"
    }
   ],
   "source": [
    "data_pcd = np.load(f'{args.pts_dir}/pts.npy')\n",
    "\n",
    "lb = np.array([-300,-200,600])\n",
    "ub = np.array([-50,0,800])\n",
    "\n",
    "mask = (data_pcd > lb).all(axis=-1) & (data_pcd < ub).all(axis=-1)\n",
    "pts = data_pcd[mask]\n",
    "pts.shape\n",
    "\n",
    "plt_points = k3d.points(pts,\n",
    "                        color=0xff0000,\n",
    "                        point_size=0.001,\n",
    "                        shader=\"flat\")\n",
    "\n",
    "\n",
    "plot = k3d.plot(grid_visible=True,\n",
    "                camera_auto_fit=True)\n",
    "plot += plt_points\n",
    "plot.display()"
   ]
  },
  {
   "cell_type": "code",
   "execution_count": 6,
   "id": "0a5f489e",
   "metadata": {},
   "outputs": [
    {
     "data": {
      "application/vnd.jupyter.widget-view+json": {
       "model_id": "c597e85f436e44ac80524fa74b24379b",
       "version_major": 2,
       "version_minor": 0
      },
      "text/plain": [
       "Output()"
      ]
     },
     "metadata": {},
     "output_type": "display_data"
    }
   ],
   "source": [
    "data_pcd = np.load(f'{args.pts_dir}/pts_2.npy')\n",
    "\n",
    "lb = np.array([-300,-200,600])\n",
    "ub = np.array([-50,0,800])\n",
    "\n",
    "mask = (data_pcd > lb).all(axis=-1) & (data_pcd < ub).all(axis=-1)\n",
    "pts = data_pcd[mask]\n",
    "# pts = data_pcd\n",
    "pts.shape\n",
    "\n",
    "\n",
    "\n",
    "plt_points = k3d.points(pts,\n",
    "                        color=0xff0000,\n",
    "                        point_size=0.001,\n",
    "                        shader=\"flat\")\n",
    "\n",
    "\n",
    "plot = k3d.plot(grid_visible=True,\n",
    "                camera_auto_fit=True)\n",
    "plot += plt_points\n",
    "plot.display()"
   ]
  },
  {
   "cell_type": "code",
   "execution_count": 7,
   "id": "32d664a3",
   "metadata": {},
   "outputs": [
    {
     "data": {
      "application/vnd.jupyter.widget-view+json": {
       "model_id": "027a2292771e4dce8e61c1c8c74f7fff",
       "version_major": 2,
       "version_minor": 0
      },
      "text/plain": [
       "Output()"
      ]
     },
     "metadata": {},
     "output_type": "display_data"
    }
   ],
   "source": [
    "data_pcd = np.load(f'{args.pts_dir}/pts_3.npy')\n",
    "\n",
    "lb = np.array([-300,-200,600])\n",
    "ub = np.array([-50,0,800])\n",
    "\n",
    "mask = (data_pcd > lb).all(axis=-1) & (data_pcd < ub).all(axis=-1)\n",
    "pts = data_pcd[mask]\n",
    "# pts = data_pcd\n",
    "pts.shape\n",
    "\n",
    "\n",
    "\n",
    "plt_points = k3d.points(pts,\n",
    "                        color=0xff0000,\n",
    "                        point_size=0.001,\n",
    "                        shader=\"flat\")\n",
    "\n",
    "\n",
    "plot = k3d.plot(grid_visible=True,\n",
    "                camera_auto_fit=True)\n",
    "plot += plt_points\n",
    "plot.display()"
   ]
  },
  {
   "cell_type": "code",
   "execution_count": 10,
   "id": "accfc0c1",
   "metadata": {},
   "outputs": [
    {
     "data": {
      "application/vnd.jupyter.widget-view+json": {
       "model_id": "7d9654cd1d984df2879be0bd468a335c",
       "version_major": 2,
       "version_minor": 0
      },
      "text/plain": [
       "Output()"
      ]
     },
     "metadata": {},
     "output_type": "display_data"
    }
   ],
   "source": [
    "data_pcd = np.load(f'{args.pts_dir}/pts_3.npy')\n",
    "\n",
    "lb = np.array([-240,-200,640])\n",
    "ub = np.array([-160,0,680])\n",
    "\n",
    "mask = (data_pcd > lb).all(axis=-1) & (data_pcd < ub).all(axis=-1)\n",
    "pts = data_pcd[mask]\n",
    "# pts = data_pcd\n",
    "pts.shape\n",
    "\n",
    "\n",
    "\n",
    "plt_points = k3d.points(pts,\n",
    "                        color=0xff0000,\n",
    "                        point_size=0.001,\n",
    "                        shader=\"flat\")\n",
    "\n",
    "\n",
    "plot = k3d.plot(grid_visible=True,\n",
    "                camera_auto_fit=True)\n",
    "plot += plt_points\n",
    "plot.display()"
   ]
  },
  {
   "cell_type": "code",
   "execution_count": 14,
   "id": "676349fe",
   "metadata": {
    "scrolled": true
   },
   "outputs": [
    {
     "name": "stderr",
     "output_type": "stream",
     "text": [
      "\n",
      "  0%|                                                                                                                         | 0/49 [00:00<?, ?it/s]\u001b[A\n",
      "  2%|██▎                                                                                                              | 1/49 [00:00<00:05,  9.25it/s]\u001b[A\n",
      "  6%|██████▉                                                                                                          | 3/49 [00:00<00:04, 10.61it/s]\u001b[A\n",
      " 10%|███████████▌                                                                                                     | 5/49 [00:00<00:04, 10.21it/s]\u001b[A\n",
      " 14%|████████████████▏                                                                                                | 7/49 [00:00<00:04,  9.80it/s]\u001b[A\n",
      " 16%|██████████████████▍                                                                                              | 8/49 [00:00<00:04,  9.74it/s]\u001b[A\n",
      " 20%|██████████████████████▊                                                                                         | 10/49 [00:00<00:03, 10.27it/s]\u001b[A\n",
      " 24%|███████████████████████████▍                                                                                    | 12/49 [00:01<00:03, 10.52it/s]\u001b[A\n",
      " 29%|████████████████████████████████                                                                                | 14/49 [00:01<00:03, 10.55it/s]\u001b[A\n",
      " 33%|████████████████████████████████████▌                                                                           | 16/49 [00:01<00:03, 10.58it/s]\u001b[A\n",
      " 37%|█████████████████████████████████████████▏                                                                      | 18/49 [00:01<00:03, 10.09it/s]\u001b[A\n",
      " 41%|█████████████████████████████████████████████▋                                                                  | 20/49 [00:01<00:02,  9.85it/s]\u001b[A\n",
      " 43%|████████████████████████████████████████████████                                                                | 21/49 [00:02<00:02,  9.84it/s]\u001b[A\n",
      " 45%|██████████████████████████████████████████████████▎                                                             | 22/49 [00:02<00:02,  9.64it/s]\u001b[A\n",
      " 47%|████████████████████████████████████████████████████▌                                                           | 23/49 [00:02<00:02,  9.33it/s]\u001b[A\n",
      " 49%|██████████████████████████████████████████████████████▊                                                         | 24/49 [00:02<00:02,  9.32it/s]\u001b[A\n",
      " 53%|███████████████████████████████████████████████████████████▍                                                    | 26/49 [00:02<00:02,  9.76it/s]\u001b[A\n",
      " 55%|█████████████████████████████████████████████████████████████▋                                                  | 27/49 [00:02<00:02,  9.81it/s]\u001b[A\n",
      " 57%|████████████████████████████████████████████████████████████████                                                | 28/49 [00:02<00:02,  8.89it/s]\u001b[A\n",
      " 61%|████████████████████████████████████████████████████████████████████▌                                           | 30/49 [00:03<00:02,  9.34it/s]\u001b[A\n",
      " 63%|██████████████████████████████████████████████████████████████████████▊                                         | 31/49 [00:03<00:01,  9.34it/s]\u001b[A\n",
      " 65%|█████████████████████████████████████████████████████████████████████████▏                                      | 32/49 [00:03<00:01,  9.39it/s]\u001b[A\n",
      " 67%|███████████████████████████████████████████████████████████████████████████▍                                    | 33/49 [00:03<00:01,  9.47it/s]\u001b[A\n",
      " 69%|█████████████████████████████████████████████████████████████████████████████▋                                  | 34/49 [00:03<00:01,  9.46it/s]\u001b[A\n",
      " 71%|████████████████████████████████████████████████████████████████████████████████                                | 35/49 [00:03<00:01,  9.40it/s]\u001b[A\n",
      " 73%|██████████████████████████████████████████████████████████████████████████████████▎                             | 36/49 [00:03<00:01,  9.38it/s]\u001b[A\n",
      " 76%|████████████████████████████████████████████████████████████████████████████████████▌                           | 37/49 [00:03<00:01,  9.26it/s]\u001b[A\n",
      " 78%|██████████████████████████████████████████████████████████████████████████████████████▊                         | 38/49 [00:03<00:01,  9.27it/s]\u001b[A\n",
      " 80%|█████████████████████████████████████████████████████████████████████████████████████████▏                      | 39/49 [00:04<00:01,  9.30it/s]\u001b[A\n",
      " 82%|███████████████████████████████████████████████████████████████████████████████████████████▍                    | 40/49 [00:04<00:00,  9.31it/s]\u001b[A\n",
      " 84%|█████████████████████████████████████████████████████████████████████████████████████████████▋                  | 41/49 [00:04<00:00,  9.44it/s]\u001b[A\n",
      " 86%|████████████████████████████████████████████████████████████████████████████████████████████████                | 42/49 [00:04<00:00,  9.42it/s]\u001b[A\n",
      " 88%|██████████████████████████████████████████████████████████████████████████████████████████████████▎             | 43/49 [00:04<00:00,  9.44it/s]\u001b[A\n",
      " 90%|████████████████████████████████████████████████████████████████████████████████████████████████████▌           | 44/49 [00:04<00:00,  9.53it/s]\u001b[A\n",
      " 92%|██████████████████████████████████████████████████████████████████████████████████████████████████████▊         | 45/49 [00:04<00:00,  9.59it/s]\u001b[A\n",
      " 94%|█████████████████████████████████████████████████████████████████████████████████████████████████████████▏      | 46/49 [00:04<00:00,  9.47it/s]\u001b[A\n",
      " 96%|███████████████████████████████████████████████████████████████████████████████████████████████████████████▍    | 47/49 [00:04<00:00,  9.53it/s]\u001b[A\n",
      "100%|████████████████████████████████████████████████████████████████████████████████████████████████████████████████| 49/49 [00:05<00:00,  9.69it/s]\u001b[A\n"
     ]
    },
    {
     "name": "stdout",
     "output_type": "stream",
     "text": [
      " Generating rays, scaling factor 1\n"
     ]
    },
    {
     "name": "stderr",
     "output_type": "stream",
     "text": [
      "/home/tw554/.conda/envs/voxel_sdf/lib/python3.8/site-packages/torch/functional.py:568: UserWarning: torch.meshgrid: in an upcoming release, it will be required to pass the indexing argument. (Triggered internally at  /opt/conda/conda-bld/pytorch_1646755903507/work/aten/src/ATen/native/TensorShape.cpp:2228.)\n",
      "  return _VF.meshgrid(tensors, **kwargs)  # type: ignore[attr-defined]\n"
     ]
    }
   ],
   "source": [
    "from opt.util.dataset import datasets\n",
    "dset = datasets[\"auto\"](\n",
    "               \"data/dtu/dtu_scan63\",\n",
    "               split=\"train\",\n",
    "               device=\"cuda\",\n",
    "               factor=1,\n",
    "               n_images=-1)"
   ]
  },
  {
   "cell_type": "code",
   "execution_count": 15,
   "id": "0dcde53d",
   "metadata": {},
   "outputs": [
    {
     "data": {
      "text/plain": [
       "array([[-0.32334685, -0.21004248,  0.09764756],\n",
       "       [-0.3296334 , -0.21021104,  0.09848092],\n",
       "       [-0.328991  , -0.21008903,  0.09807844],\n",
       "       ...,\n",
       "       [-0.31540674, -0.02715903,  0.07484099],\n",
       "       [-0.31482303, -0.02720326,  0.07537636],\n",
       "       [-0.31443095, -0.02719915,  0.07541216]], dtype=float32)"
      ]
     },
     "execution_count": 15,
     "metadata": {},
     "output_type": "execute_result"
    }
   ],
   "source": [
    "dset.rescale2world(pts)"
   ]
  },
  {
   "cell_type": "code",
   "execution_count": 8,
   "id": "109f2dec",
   "metadata": {},
   "outputs": [
    {
     "name": "stderr",
     "output_type": "stream",
     "text": [
      "masking data pcd:  25%|████████████████████▌                                                             | 2/8 [00:13<00:41,  6.96s/it]"
     ]
    }
   ],
   "source": [
    "pbar.update(1)\n",
    "pbar.set_description('masking data pcd')\n",
    "obs_mask_file = loadmat(f'{args.dataset_dir}/ObsMask/ObsMask{args.scan}_10.mat')\n",
    "ObsMask, BB, Res = [obs_mask_file[attr] for attr in ['ObsMask', 'BB', 'Res']]\n",
    "BB = BB.astype(np.float32)\n",
    "\n",
    "data_down = data_pcd\n",
    "\n",
    "patch = args.patch_size\n",
    "patch = 600\n",
    "inbound = ((data_down >= BB[:1]-patch) & (data_down < BB[1:]+patch*2)).sum(axis=-1) ==3\n",
    "data_in = data_down[inbound]\n",
    "\n",
    "data_grid = np.around((data_in - BB[:1]) / Res).astype(np.int32)\n",
    "grid_inbound = ((data_grid >= 0) & (data_grid < np.expand_dims(ObsMask.shape, 0))).sum(axis=-1) ==3\n",
    "data_grid_in = data_grid[grid_inbound]\n",
    "in_obs = ObsMask[data_grid_in[:,0], data_grid_in[:,1], data_grid_in[:,2]].astype(np.bool_)\n",
    "data_in_obs = data_in[grid_inbound][in_obs]"
   ]
  },
  {
   "cell_type": "code",
   "execution_count": 9,
   "id": "80d41640",
   "metadata": {},
   "outputs": [
    {
     "name": "stderr",
     "output_type": "stream",
     "text": [
      "done:  88%|██████████████████████████████████████████████████████████████████████████████████▎           | 7/8 [01:12<00:10, 10.31s/it]"
     ]
    },
    {
     "name": "stdout",
     "output_type": "stream",
     "text": [
      "2.9290515172293006 3.4710870208708196 3.20006926905006\n"
     ]
    },
    {
     "name": "stderr",
     "output_type": "stream",
     "text": [
      "\n"
     ]
    }
   ],
   "source": [
    "pbar.update(1)\n",
    "pbar.set_description('read STL pcd')\n",
    "stl_pcd = o3d.io.read_point_cloud(f'{args.dataset_dir}/Points/stl/stl{args.scan:03}_total.ply')\n",
    "stl = np.asarray(stl_pcd.points)\n",
    "\n",
    "pbar.update(1)\n",
    "pbar.set_description('compute data2stl')\n",
    "nn_engine.fit(stl)\n",
    "dist_d2s, idx_d2s = nn_engine.kneighbors(data_in_obs, n_neighbors=1, return_distance=True)\n",
    "max_dist = args.max_dist\n",
    "mean_d2s = dist_d2s[dist_d2s < max_dist].mean()\n",
    "\n",
    "pbar.update(1)\n",
    "pbar.set_description('compute stl2data')\n",
    "ground_plane = loadmat(f'{args.dataset_dir}/ObsMask/Plane{args.scan}.mat')['P']\n",
    "\n",
    "stl_hom = np.concatenate([stl, np.ones_like(stl[:,:1])], -1)\n",
    "above = (ground_plane.reshape((1,4)) * stl_hom).sum(-1) > 0\n",
    "stl_above = stl[above]\n",
    "\n",
    "nn_engine.fit(data_in)\n",
    "dist_s2d, idx_s2d = nn_engine.kneighbors(stl_above, n_neighbors=1, return_distance=True)\n",
    "mean_s2d = dist_s2d[dist_s2d < max_dist].mean()\n",
    "\n",
    "pbar.update(1)\n",
    "pbar.set_description('visualize error')\n",
    "vis_dist = args.visualize_threshold\n",
    "R = np.array([[1,0,0]], dtype=np.float64)\n",
    "G = np.array([[0,1,0]], dtype=np.float64)\n",
    "B = np.array([[0,0,1]], dtype=np.float64)\n",
    "W = np.array([[1,1,1]], dtype=np.float64)\n",
    "data_color = np.tile(B, (data_down.shape[0], 1))\n",
    "data_alpha = dist_d2s.clip(max=vis_dist) / vis_dist\n",
    "data_color[ np.where(inbound)[0][grid_inbound][in_obs] ] = R * data_alpha + W * (1-data_alpha)\n",
    "data_color[ np.where(inbound)[0][grid_inbound][in_obs][dist_d2s[:,0] >= max_dist] ] = G\n",
    "write_vis_pcd(f'{args.pts_dir}/vis_{args.scan:03}_d2s.ply', data_down, data_color)\n",
    "stl_color = np.tile(B, (stl.shape[0], 1))\n",
    "stl_alpha = dist_s2d.clip(max=vis_dist) / vis_dist\n",
    "stl_color[ np.where(above)[0] ] = R * stl_alpha + W * (1-stl_alpha)\n",
    "stl_color[ np.where(above)[0][dist_s2d[:,0] >= max_dist] ] = G\n",
    "write_vis_pcd(f'{args.pts_dir}/vis_{args.scan:03}_s2d.ply', stl, stl_color)\n",
    "\n",
    "pbar.update(1)\n",
    "pbar.set_description('done')\n",
    "pbar.close()\n",
    "over_all = (mean_d2s + mean_s2d) / 2\n",
    "print(mean_d2s, mean_s2d, over_all)\n",
    "\n",
    "with open(f'{args.pts_dir}/cf.txt', 'w') as f:\n",
    "    f.write(f'Mean d2s: {mean_d2s}\\n')\n",
    "    f.write(f'Mean s2d: {mean_s2d}\\n')\n",
    "    f.write(f'Over all: {over_all}\\n')\n",
    "\n"
   ]
  },
  {
   "cell_type": "code",
   "execution_count": 10,
   "id": "0060abb9",
   "metadata": {},
   "outputs": [
    {
     "name": "stderr",
     "output_type": "stream",
     "text": [
      "/home/tw554/.conda/envs/voxel_sdf/lib/python3.8/site-packages/traittypes/traittypes.py:97: UserWarning: Given trait value dtype \"float64\" does not match required type \"float32\". A coerced copy has been created.\n",
      "  warnings.warn(\n"
     ]
    },
    {
     "data": {
      "application/vnd.jupyter.widget-view+json": {
       "model_id": "504bedb1003046e8b1ad02061877c707",
       "version_major": 2,
       "version_minor": 0
      },
      "text/plain": [
       "Output()"
      ]
     },
     "metadata": {},
     "output_type": "display_data"
    }
   ],
   "source": [
    "plt_points = k3d.points(data_in[0:-1:1,:],\n",
    "                        color=0xff0000,\n",
    "                        point_size=0.0001,\n",
    "                        shader=\"flat\")\n",
    "\n",
    "plt_points_2 = k3d.points(stl[0:-1:1,:],\n",
    "                        color=0x00ff00,\n",
    "                        point_size=0.0001,\n",
    "                        shader=\"flat\")\n",
    "\n",
    "plot = k3d.plot(grid_visible=False,\n",
    "                camera_auto_fit=True)\n",
    "plot += plt_points\n",
    "# plot += plt_points_2\n",
    "plot.display()"
   ]
  },
  {
   "cell_type": "code",
   "execution_count": 31,
   "id": "a0963e8d",
   "metadata": {},
   "outputs": [],
   "source": []
  },
  {
   "cell_type": "code",
   "execution_count": 11,
   "id": "8faba7c2",
   "metadata": {},
   "outputs": [
    {
     "data": {
      "application/vnd.jupyter.widget-view+json": {
       "model_id": "38eac076d2e94a62ae03ad0aa834cb93",
       "version_major": 2,
       "version_minor": 0
      },
      "text/plain": [
       "Output()"
      ]
     },
     "metadata": {},
     "output_type": "display_data"
    }
   ],
   "source": [
    "\n",
    "\n",
    "plt_points = k3d.points(data_in_obs,\n",
    "                        color=0xff0000,\n",
    "                        point_size=0.0001,\n",
    "                        shader=\"flat\")\n",
    "\n",
    "plt_points_2 = k3d.points(stl[0:-1:5,:],\n",
    "                        color=0x00ff00,\n",
    "                        point_size=0.0001,\n",
    "                        shader=\"flat\")\n",
    "\n",
    "plot = k3d.plot(grid_visible=False,\n",
    "                camera_auto_fit=True)\n",
    "plot += plt_points\n",
    "plot += plt_points_2\n",
    "plot.display()"
   ]
  }
 ],
 "metadata": {
  "kernelspec": {
   "display_name": "Python 3 (ipykernel)",
   "language": "python",
   "name": "python3"
  },
  "language_info": {
   "codemirror_mode": {
    "name": "ipython",
    "version": 3
   },
   "file_extension": ".py",
   "mimetype": "text/x-python",
   "name": "python",
   "nbconvert_exporter": "python",
   "pygments_lexer": "ipython3",
   "version": "3.8.8"
  },
  "vscode": {
   "interpreter": {
    "hash": "c3cf32bc3e80b5779e7e5c4deeeee58af3a8004e8adaca7ae56b78f370dcfac6"
   }
  }
 },
 "nbformat": 4,
 "nbformat_minor": 5
}
