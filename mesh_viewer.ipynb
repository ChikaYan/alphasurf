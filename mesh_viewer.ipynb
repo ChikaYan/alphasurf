{
 "cells": [
  {
   "cell_type": "code",
   "execution_count": 4,
   "id": "9d203748",
   "metadata": {},
   "outputs": [
    {
     "name": "stderr",
     "output_type": "stream",
     "text": [
      "INFO - 2022-09-26 09:32:35,365 - rasterization - Cannot import nvdiffrast\n",
      "/home/tw554/plenoxels/svox2/utils.py:39: UserWarning: CUDA extension svox2.csrc could not be loaded! Operations will be slow.\n",
      "Please do not import svox in the svox2 source directory.\n",
      "  warn(\"CUDA extension svox2.csrc could not be loaded! \" +\n"
     ]
    }
   ],
   "source": [
    "# %matplotlib inline\n",
    "import numpy as np\n",
    "import k3d\n",
    "from k3d.colormaps import matplotlib_color_maps\n",
    "import pathlib\n",
    "import matplotlib.pyplot as plt\n",
    "import imageio\n",
    "import svox2\n",
    "import torch\n",
    "import tqdm\n",
    "import open3d as o3d"
   ]
  },
  {
   "cell_type": "code",
   "execution_count": 64,
   "id": "ad437daf",
   "metadata": {},
   "outputs": [
    {
     "data": {
      "text/plain": [
       "(2644705, 3)"
      ]
     },
     "execution_count": 64,
     "metadata": {},
     "output_type": "execute_result"
    }
   ],
   "source": [
    "path = \"opt/ckpt/dtu_scan63/reso_256_low_den_lr_2/pts.npy\"\n",
    "pts = np.load(path)\n",
    "\n",
    "pts.shape"
   ]
  },
  {
   "cell_type": "code",
   "execution_count": 57,
   "id": "116264ba",
   "metadata": {},
   "outputs": [
    {
     "data": {
      "text/plain": [
       "0.8584"
      ]
     },
     "execution_count": 57,
     "metadata": {},
     "output_type": "execute_result"
    }
   ],
   "source": [
    "pts.max()"
   ]
  },
  {
   "cell_type": "code",
   "execution_count": 65,
   "id": "efc9aca8",
   "metadata": {},
   "outputs": [
    {
     "name": "stdout",
     "output_type": "stream",
     "text": [
      "(396848, 3)\n"
     ]
    }
   ],
   "source": [
    "pcd = o3d.geometry.PointCloud()\n",
    "pcd.points = o3d.utility.Vector3dVector(pts)\n",
    "\n",
    "# downsample point cloud\n",
    "voxel_size = 0.001\n",
    "downpcd = pcd.voxel_down_sample(voxel_size=voxel_size)\n",
    "radius_normal = voxel_size * 2\n",
    "\n",
    "print(np.asarray(downpcd.points).shape)\n",
    "\n",
    "# downpcd.estimate_normals(\n",
    "#     search_param=o3d.geometry.KDTreeSearchParamHybrid(radius=radius_normal,max_nn=30)\n",
    "#     )\n",
    "\n"
   ]
  },
  {
   "cell_type": "code",
   "execution_count": 66,
   "id": "d0824252",
   "metadata": {},
   "outputs": [
    {
     "data": {
      "application/vnd.jupyter.widget-view+json": {
       "model_id": "5b5ceca6c48d4105b0ca9eff4f3f56f5",
       "version_major": 2,
       "version_minor": 0
      },
      "text/plain": [
       "Output()"
      ]
     },
     "metadata": {},
     "output_type": "display_data"
    }
   ],
   "source": [
    "plt_points = k3d.points(np.asarray(downpcd.points),\n",
    "                        point_size=0.0001,\n",
    "                        shader=\"flat\")\n",
    "\n",
    "plot = k3d.plot(grid_visible=False,\n",
    "                camera_auto_fit=True)\n",
    "plot += plt_points\n",
    "plot.display()"
   ]
  },
  {
   "cell_type": "code",
   "execution_count": 13,
   "id": "0053a6db",
   "metadata": {},
   "outputs": [
    {
     "name": "stdout",
     "output_type": "stream",
     "text": [
      "run Poisson surface reconstruction\n",
      "[Open3D DEBUG] Input Points / Samples: 89510 / 89439\n",
      "[Open3D DEBUG] #   Got kernel density: 0.190896 (s), 2447.77 (MB) / 2447.77 (MB) / 2730 (MB)\n",
      "[Open3D DEBUG] #     Got normal field: 0.624237 (s), 2487.13 (MB) / 2487.13 (MB) / 2730 (MB)\n",
      "[Open3D DEBUG] Point weight / Estimated Area: 5.621553e-05 / 5.031852e+00\n",
      "[Open3D DEBUG] #       Finalized tree: 0.651328 (s), 2491.77 (MB) / 2491.77 (MB) / 2730 (MB)\n",
      "[Open3D DEBUG] #  Set FEM constraints: 0.770962 (s), 2491.77 (MB) / 2491.77 (MB) / 2730 (MB)\n",
      "[Open3D DEBUG] #Set point constraints: 0.194765 (s), 2491.77 (MB) / 2491.77 (MB) / 2730 (MB)\n",
      "[Open3D DEBUG] Leaf Nodes / Active Nodes / Ghost Nodes: 1829780 / 1304160 / 787017\n",
      "[Open3D DEBUG] Memory Usage: 2491.773 MB\n",
      "[Open3D DEBUG] # Linear system solved: 1.3348 (s), 2491.77 (MB) / 2491.77 (MB) / 2730 (MB)\n",
      "[Open3D DEBUG] Got average: 0.0459881 (s), 2491.77 (MB) / 2491.77 (MB) / 2730 (MB)\n",
      "[Open3D DEBUG] Iso-Value: 4.999108e-01 = 4.474702e+04 / 8.951000e+04\n",
      "[Open3D DEBUG] #          Total Solve:       8.5 (s),    2568.8 (MB)\n"
     ]
    }
   ],
   "source": [
    "downpcd.estimate_normals(\n",
    "    search_param=o3d.geometry.KDTreeSearchParamHybrid(radius=radius_normal,max_nn=30)\n",
    "    )\n",
    "\n",
    "print('run Poisson surface reconstruction')\n",
    "with o3d.utility.VerbosityContextManager(\n",
    "        o3d.utility.VerbosityLevel.Debug) as cm:\n",
    "    mesh, densities = o3d.geometry.TriangleMesh.create_from_point_cloud_poisson(\n",
    "        downpcd, depth=9)"
   ]
  },
  {
   "cell_type": "code",
   "execution_count": 17,
   "id": "c151b845",
   "metadata": {},
   "outputs": [
    {
     "data": {
      "text/plain": [
       "array([[    48,     15,     52],\n",
       "       [    14,     15,     48],\n",
       "       [    57,     52,     78],\n",
       "       ...,\n",
       "       [336919, 336923, 337013],\n",
       "       [337019, 336925, 337023],\n",
       "       [336923, 336925, 337019]], dtype=int32)"
      ]
     },
     "execution_count": 17,
     "metadata": {},
     "output_type": "execute_result"
    }
   ],
   "source": [
    "np.asarray(mesh.vertices)\n",
    "np.asarray(mesh.triangles)"
   ]
  },
  {
   "cell_type": "code",
   "execution_count": 18,
   "id": "502ca9e7",
   "metadata": {},
   "outputs": [
    {
     "name": "stderr",
     "output_type": "stream",
     "text": [
      "/home/tw554/.conda/envs/voxel_sdf/lib/python3.8/site-packages/traittypes/traittypes.py:97: UserWarning: Given trait value dtype \"int32\" does not match required type \"uint32\". A coerced copy has been created.\n",
      "  warnings.warn(\n"
     ]
    },
    {
     "data": {
      "application/vnd.jupyter.widget-view+json": {
       "model_id": "14d508a4b95d403f87f7a63e0307d4fb",
       "version_major": 2,
       "version_minor": 0
      },
      "text/plain": [
       "Output()"
      ]
     },
     "metadata": {},
     "output_type": "display_data"
    }
   ],
   "source": [
    "plt_points = k3d.mesh(np.asarray(mesh.vertices),\n",
    "                      np.asarray(mesh.triangles),\n",
    "                      shader=\"flat\")\n",
    "\n",
    "plot = k3d.plot(grid_visible=False,\n",
    "                camera_auto_fit=True)\n",
    "plot += plt_points\n",
    "plot.display()"
   ]
  },
  {
   "cell_type": "code",
   "execution_count": 1,
   "id": "0c13171c",
   "metadata": {},
   "outputs": [],
   "source": [
    "import numpy as np\n",
    "import open3d as o3d\n",
    "import sklearn.neighbors as skln\n",
    "from tqdm import tqdm\n",
    "from scipy.io import loadmat\n",
    "import multiprocessing as mp\n",
    "import argparse\n",
    "import k3d\n",
    "\n",
    "def sample_single_tri(input_):\n",
    "    n1, n2, v1, v2, tri_vert = input_\n",
    "    c = np.mgrid[:n1+1, :n2+1]\n",
    "    c += 0.5\n",
    "    c[0] /= max(n1, 1e-7)\n",
    "    c[1] /= max(n2, 1e-7)\n",
    "    c = np.transpose(c, (1,2,0))\n",
    "    k = c[c.sum(axis=-1) < 1]  # m2\n",
    "    q = v1 * k[:,:1] + v2 * k[:,1:] + tri_vert\n",
    "    return q\n",
    "\n",
    "def write_vis_pcd(file, points, colors):\n",
    "    pcd = o3d.geometry.PointCloud()\n",
    "    pcd.points = o3d.utility.Vector3dVector(points)\n",
    "    pcd.colors = o3d.utility.Vector3dVector(colors)\n",
    "    o3d.io.write_point_cloud(file, pcd)"
   ]
  },
  {
   "cell_type": "code",
   "execution_count": 8,
   "id": "0f71e9c9",
   "metadata": {},
   "outputs": [
    {
     "name": "stderr",
     "output_type": "stream",
     "text": [
      "\n",
      "masking data pcd:  38%|█████████████████████████████████████▏                                                             | 3/8 [12:52<21:27, 257.46s/it]\u001b[A\n",
      "\n",
      "read data pcd:   0%|                                                                                                               | 0/8 [00:00<?, ?it/s]\u001b[A\n",
      "random shuffle pcd index:  12%|███████████▌                                                                                | 1/8 [00:00<00:00, 65.86it/s]\u001b[A"
     ]
    }
   ],
   "source": [
    "parser = argparse.ArgumentParser()\n",
    "parser.add_argument('--pts_dir', type=str, default='/home/tw554/plenoxels/opt/ckpt/dtu_scan63/reso_256_low_den_lr_2')\n",
    "parser.add_argument('--scan', type=int, default=63)\n",
    "parser.add_argument('--dataset_dir', type=str, default='/home/tw554/plenoxels/data/dtu_eval/SampleSet/MVS Data')\n",
    "parser.add_argument('--downsample_density', type=float, default=0.2)\n",
    "parser.add_argument('--patch_size', type=float, default=60)\n",
    "parser.add_argument('--max_dist', type=float, default=20)\n",
    "parser.add_argument('--visualize_threshold', type=float, default=10)\n",
    "args = parser.parse_args(args=[])\n",
    "\n",
    "thresh = args.downsample_density\n",
    "\n",
    "pbar = tqdm(total=8)\n",
    "pbar.set_description('read data pcd')\n",
    "data_pcd = np.load(f'{args.pts_dir}/pts.npy')\n",
    "\n",
    "# # rescale pts\n",
    "# cam = np.load(f'/home/tw554/plenoxels/data/dtu/dtu_scan{args.scan}/cameras_large.npz')\n",
    "# data_pcd = np.load(f'{args.pts_dir}/pts.npy')\n",
    "# data_pcd = data_pcd * cam['scale_mat_0'][0,0] + cam['scale_mat_0'][:3,3][None]\n",
    "# data_pcd = data_pcd[:, :3]\n",
    "\n",
    "pbar.update(1)\n",
    "pbar.set_description('random shuffle pcd index')\n",
    "shuffle_rng = np.random.default_rng()\n",
    "shuffle_rng.shuffle(data_pcd, axis=0)\n",
    "\n"
   ]
  },
  {
   "cell_type": "code",
   "execution_count": 3,
   "id": "990b00bf",
   "metadata": {},
   "outputs": [
    {
     "name": "stderr",
     "output_type": "stream",
     "text": [
      "downsample pcd:  25%|█████████████████████████▌                                                                            | 2/8 [00:24<01:13, 12.25s/it]"
     ]
    }
   ],
   "source": [
    "pbar.update(1)\n",
    "pbar.set_description('downsample pcd')\n",
    "nn_engine = skln.NearestNeighbors(n_neighbors=1, radius=thresh, algorithm='kd_tree', n_jobs=-1)\n",
    "nn_engine.fit(data_pcd)\n",
    "rnn_idxs = nn_engine.radius_neighbors(data_pcd, radius=thresh, return_distance=False)\n",
    "mask = np.ones(data_pcd.shape[0], dtype=np.bool_)\n",
    "for curr, idxs in enumerate(rnn_idxs):\n",
    "    if mask[curr]:\n",
    "        mask[idxs] = 0\n",
    "        mask[curr] = 1\n",
    "data_down = data_pcd[mask]"
   ]
  },
  {
   "cell_type": "code",
   "execution_count": 11,
   "id": "f7c11775",
   "metadata": {},
   "outputs": [
    {
     "data": {
      "application/vnd.jupyter.widget-view+json": {
       "model_id": "ddc9b4d0ea324e3d8f29f3b370ddcba4",
       "version_major": 2,
       "version_minor": 0
      },
      "text/plain": [
       "Output()"
      ]
     },
     "metadata": {},
     "output_type": "display_data"
    }
   ],
   "source": [
    "stl_pcd = o3d.io.read_point_cloud(f'{args.dataset_dir}/Points/stl/stl{args.scan:03}_total.ply')\n",
    "stl = np.asarray(stl_pcd.points)\n",
    "\n",
    "plt_points = k3d.points(data_pcd[0:-1:1,:],\n",
    "                        color=0xff0000,\n",
    "                        point_size=0.0001,\n",
    "                        shader=\"flat\")\n",
    "\n",
    "plt_points_2 = k3d.points(stl[0:-1:10,:],\n",
    "                        color=0x00ff00,\n",
    "                        point_size=0.0001,\n",
    "                        shader=\"flat\")\n",
    "\n",
    "plot = k3d.plot(grid_visible=False,\n",
    "                camera_auto_fit=True)\n",
    "plot += plt_points\n",
    "# plot += plt_points_2\n",
    "plot.display()"
   ]
  },
  {
   "cell_type": "code",
   "execution_count": 7,
   "id": "3f8f86ab",
   "metadata": {},
   "outputs": [
    {
     "data": {
      "text/plain": [
       "array([[103641.35 , 115533.555,  21979.879],\n",
       "       [111183.21 , 125663.31 ,  32434.633],\n",
       "       [104624.836, 145108.67 ,  51137.227],\n",
       "       ...,\n",
       "       [ 92224.96 ,  85270.33 ,  37213.715],\n",
       "       [113269.32 , 122941.75 ,  32622.406],\n",
       "       [ 80575.76 ,  81486.74 ,  91271.62 ]], dtype=float32)"
      ]
     },
     "execution_count": 7,
     "metadata": {},
     "output_type": "execute_result"
    }
   ],
   "source": []
  },
  {
   "cell_type": "code",
   "execution_count": 4,
   "id": "109f2dec",
   "metadata": {},
   "outputs": [
    {
     "name": "stderr",
     "output_type": "stream",
     "text": [
      "masking data pcd:  38%|█████████████████████████████████████▌                                                              | 3/8 [01:38<03:10, 38.05s/it]"
     ]
    }
   ],
   "source": [
    "pbar.update(1)\n",
    "pbar.set_description('masking data pcd')\n",
    "obs_mask_file = loadmat(f'{args.dataset_dir}/ObsMask/ObsMask{args.scan}_10.mat')\n",
    "ObsMask, BB, Res = [obs_mask_file[attr] for attr in ['ObsMask', 'BB', 'Res']]\n",
    "BB = BB.astype(np.float32)\n",
    "\n",
    "patch = args.patch_size\n",
    "patch = 600\n",
    "inbound = ((data_down >= BB[:1]-patch) & (data_down < BB[1:]+patch*2)).sum(axis=-1) ==3\n",
    "data_in = data_down[inbound]\n",
    "\n",
    "data_grid = np.around((data_in - BB[:1]) / Res).astype(np.int32)\n",
    "grid_inbound = ((data_grid >= 0) & (data_grid < np.expand_dims(ObsMask.shape, 0))).sum(axis=-1) ==3\n",
    "data_grid_in = data_grid[grid_inbound]\n",
    "in_obs = ObsMask[data_grid_in[:,0], data_grid_in[:,1], data_grid_in[:,2]].astype(np.bool_)\n",
    "data_in_obs = data_in[grid_inbound][in_obs]"
   ]
  },
  {
   "cell_type": "code",
   "execution_count": 5,
   "id": "1750a421",
   "metadata": {},
   "outputs": [
    {
     "data": {
      "text/plain": [
       "array([], shape=(0, 3), dtype=float32)"
      ]
     },
     "execution_count": 5,
     "metadata": {},
     "output_type": "execute_result"
    }
   ],
   "source": [
    "data_in_obs"
   ]
  },
  {
   "cell_type": "code",
   "execution_count": 24,
   "id": "80d41640",
   "metadata": {},
   "outputs": [
    {
     "name": "stderr",
     "output_type": "stream",
     "text": [
      "\n",
      "masking data pcd:  50%|████████████████████████████████████████████████████                                                    | 4/8 [01:59<02:24, 36.09s/it]\u001b[A\n",
      "read STL pcd:  50%|██████████████████████████████████████████████████████                                                      | 4/8 [01:59<02:24, 36.09s/it]\u001b[A\n",
      "read STL pcd:  62%|███████████████████████████████████████████████████████████████████▌                                        | 5/8 [02:00<01:10, 23.60s/it]\u001b[A\n",
      "compute data2stl:  62%|█████████████████████████████████████████████████████████████████                                       | 5/8 [02:00<01:10, 23.60s/it]\u001b[A\n",
      "compute data2stl:  75%|██████████████████████████████████████████████████████████████████████████████                          | 6/8 [02:19<00:43, 21.87s/it]\u001b[A\n",
      "compute stl2data:  75%|██████████████████████████████████████████████████████████████████████████████                          | 6/8 [02:19<00:43, 21.87s/it]\u001b[A\n",
      "compute stl2data:  88%|███████████████████████████████████████████████████████████████████████████████████████████             | 7/8 [02:35<00:20, 20.05s/it]\u001b[A\n",
      "visualize error:  88%|███████████████████████████████████████████████████████████████████████████████████████████▉             | 7/8 [02:35<00:20, 20.05s/it]\u001b[A\n",
      "visualize error: 100%|█████████████████████████████████████████████████████████████████████████████████████████████████████████| 8/8 [02:38<00:00, 14.42s/it]\u001b[A\n",
      "done: 100%|████████████████████████████████████████████████████████████████████████████████████████████████████████████████████| 8/8 [02:38<00:00, 19.76s/it]\u001b[A"
     ]
    },
    {
     "name": "stdout",
     "output_type": "stream",
     "text": [
      "2.2374554995430644 1.5291523261336084 1.8833039128383364\n"
     ]
    },
    {
     "name": "stderr",
     "output_type": "stream",
     "text": [
      "\n"
     ]
    }
   ],
   "source": [
    "pbar.update(1)\n",
    "pbar.set_description('read STL pcd')\n",
    "stl_pcd = o3d.io.read_point_cloud(f'{args.dataset_dir}/Points/stl/stl{args.scan:03}_total.ply')\n",
    "stl = np.asarray(stl_pcd.points)\n",
    "\n",
    "pbar.update(1)\n",
    "pbar.set_description('compute data2stl')\n",
    "nn_engine.fit(stl)\n",
    "dist_d2s, idx_d2s = nn_engine.kneighbors(data_in_obs, n_neighbors=1, return_distance=True)\n",
    "max_dist = args.max_dist\n",
    "mean_d2s = dist_d2s[dist_d2s < max_dist].mean()\n",
    "\n",
    "pbar.update(1)\n",
    "pbar.set_description('compute stl2data')\n",
    "ground_plane = loadmat(f'{args.dataset_dir}/ObsMask/Plane{args.scan}.mat')['P']\n",
    "\n",
    "stl_hom = np.concatenate([stl, np.ones_like(stl[:,:1])], -1)\n",
    "above = (ground_plane.reshape((1,4)) * stl_hom).sum(-1) > 0\n",
    "stl_above = stl[above]\n",
    "\n",
    "nn_engine.fit(data_in)\n",
    "dist_s2d, idx_s2d = nn_engine.kneighbors(stl_above, n_neighbors=1, return_distance=True)\n",
    "mean_s2d = dist_s2d[dist_s2d < max_dist].mean()\n",
    "\n",
    "pbar.update(1)\n",
    "pbar.set_description('visualize error')\n",
    "vis_dist = args.visualize_threshold\n",
    "R = np.array([[1,0,0]], dtype=np.float64)\n",
    "G = np.array([[0,1,0]], dtype=np.float64)\n",
    "B = np.array([[0,0,1]], dtype=np.float64)\n",
    "W = np.array([[1,1,1]], dtype=np.float64)\n",
    "data_color = np.tile(B, (data_down.shape[0], 1))\n",
    "data_alpha = dist_d2s.clip(max=vis_dist) / vis_dist\n",
    "data_color[ np.where(inbound)[0][grid_inbound][in_obs] ] = R * data_alpha + W * (1-data_alpha)\n",
    "data_color[ np.where(inbound)[0][grid_inbound][in_obs][dist_d2s[:,0] >= max_dist] ] = G\n",
    "write_vis_pcd(f'{args.pts_dir}/vis_{args.scan:03}_d2s.ply', data_down, data_color)\n",
    "stl_color = np.tile(B, (stl.shape[0], 1))\n",
    "stl_alpha = dist_s2d.clip(max=vis_dist) / vis_dist\n",
    "stl_color[ np.where(above)[0] ] = R * stl_alpha + W * (1-stl_alpha)\n",
    "stl_color[ np.where(above)[0][dist_s2d[:,0] >= max_dist] ] = G\n",
    "write_vis_pcd(f'{args.pts_dir}/vis_{args.scan:03}_s2d.ply', stl, stl_color)\n",
    "\n",
    "pbar.update(1)\n",
    "pbar.set_description('done')\n",
    "pbar.close()\n",
    "over_all = (mean_d2s + mean_s2d) / 2\n",
    "print(mean_d2s, mean_s2d, over_all)\n",
    "\n",
    "with open(f'{args.pts_dir}/cf.txt', 'w') as f:\n",
    "    f.write(f'Mean d2s: {mean_d2s}\\n')\n",
    "    f.write(f'Mean s2d: {mean_s2d}\\n')\n",
    "    f.write(f'Over all: {over_all}\\n')\n",
    "\n"
   ]
  },
  {
   "cell_type": "code",
   "execution_count": 31,
   "id": "a0963e8d",
   "metadata": {},
   "outputs": [],
   "source": []
  },
  {
   "cell_type": "code",
   "execution_count": 27,
   "id": "8faba7c2",
   "metadata": {},
   "outputs": [
    {
     "data": {
      "application/vnd.jupyter.widget-view+json": {
       "model_id": "89ae6248c90e448a8fa906f65706f961",
       "version_major": 2,
       "version_minor": 0
      },
      "text/plain": [
       "Output()"
      ]
     },
     "metadata": {},
     "output_type": "display_data"
    }
   ],
   "source": [
    "\n",
    "\n",
    "plt_points = k3d.points(data_in_obs,\n",
    "                        color=0xff0000,\n",
    "                        point_size=0.0001,\n",
    "                        shader=\"flat\")\n",
    "\n",
    "plt_points_2 = k3d.points(stl[0:-1:5,:],\n",
    "                        color=0x00ff00,\n",
    "                        point_size=0.0001,\n",
    "                        shader=\"flat\")\n",
    "\n",
    "plot = k3d.plot(grid_visible=False,\n",
    "                camera_auto_fit=True)\n",
    "plot += plt_points\n",
    "plot += plt_points_2\n",
    "plot.display()"
   ]
  }
 ],
 "metadata": {
  "kernelspec": {
   "display_name": "Python 3 (ipykernel)",
   "language": "python",
   "name": "python3"
  },
  "language_info": {
   "codemirror_mode": {
    "name": "ipython",
    "version": 3
   },
   "file_extension": ".py",
   "mimetype": "text/x-python",
   "name": "python",
   "nbconvert_exporter": "python",
   "pygments_lexer": "ipython3",
   "version": "3.8.8"
  },
  "vscode": {
   "interpreter": {
    "hash": "c3cf32bc3e80b5779e7e5c4deeeee58af3a8004e8adaca7ae56b78f370dcfac6"
   }
  }
 },
 "nbformat": 4,
 "nbformat_minor": 5
}
